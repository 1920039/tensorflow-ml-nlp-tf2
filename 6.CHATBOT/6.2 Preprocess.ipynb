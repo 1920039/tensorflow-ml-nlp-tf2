{
 "cells": [
  {
   "cell_type": "code",
   "execution_count": 23,
   "metadata": {},
   "outputs": [],
   "source": [
    "from preprocess import *"
   ]
  },
  {
   "cell_type": "code",
   "execution_count": 24,
   "metadata": {},
   "outputs": [],
   "source": [
    "PATH = 'data_in/ChatBotData.csv_short'\n",
    "VOCAB_PATH = 'data_in/vocabulary.txt'"
   ]
  },
  {
   "cell_type": "code",
   "execution_count": 25,
   "metadata": {},
   "outputs": [],
   "source": [
    "inputs, outputs = load_data(PATH)"
   ]
  },
  {
   "cell_type": "code",
   "execution_count": 26,
   "metadata": {},
   "outputs": [],
   "source": [
    "char2idx, idx2char, vocab_size = load_vocabulary(PATH, VOCAB_PATH, tokenize_as_morph=False)"
   ]
  },
  {
   "cell_type": "code",
   "execution_count": 27,
   "metadata": {},
   "outputs": [],
   "source": [
    "index_inputs, input_seq_len = enc_processing(inputs, char2idx, tokenize_as_morph=False)\n",
    "index_outputs, output_seq_len = dec_output_processing(outputs, char2idx, tokenize_as_morph=False)\n",
    "index_targets = dec_target_processing(outputs, char2idx, tokenize_as_morph=False)"
   ]
  },
  {
   "cell_type": "code",
   "execution_count": 28,
   "metadata": {},
   "outputs": [],
   "source": [
    "data_configs = {}\n",
    "data_configs['char2idx'] = char2idx\n",
    "data_configs['idx2char'] = idx2char\n",
    "data_configs['vocab_size'] = vocab_size\n",
    "data_configs['pad_symbol'] = PAD\n",
    "data_configs['std_symbol'] = STD\n",
    "data_configs['end_symbol'] = END\n",
    "data_configs['unk_symbol'] = UNK"
   ]
  },
  {
   "cell_type": "code",
   "execution_count": 29,
   "metadata": {},
   "outputs": [],
   "source": [
    "DATA_IN_PATH = './data_in/'\n",
    "TRAIN_INPUTS = 'train_inputs.npy'\n",
    "TRAIN_OUTPUTS = 'train_outputs.npy'\n",
    "TRAIN_TARGETS = 'train_targets.npy'\n",
    "DATA_CONFIGS = 'data_configs.json'\n",
    "\n",
    "np.save(open(DATA_IN_PATH + TRAIN_INPUTS, 'wb'), index_inputs)\n",
    "np.save(open(DATA_IN_PATH + TRAIN_OUTPUTS , 'wb'), index_outputs)\n",
    "np.save(open(DATA_IN_PATH + TRAIN_TARGETS , 'wb'), index_targets)\n",
    "\n",
    "json.dump(data_configs, open(DATA_IN_PATH + DATA_CONFIGS, 'w'))"
   ]
  },
  {
   "cell_type": "code",
   "execution_count": 30,
   "metadata": {},
   "outputs": [
    {
     "data": {
      "text/plain": [
       "{'<PAD>': 0,\n",
       " '<SOS>': 1,\n",
       " '<END>': 2,\n",
       " '<UNK>': 3,\n",
       " '열': 4,\n",
       " '구하셨나요': 5,\n",
       " '운동만': 6,\n",
       " '나오세요': 7,\n",
       " '뭘': 8,\n",
       " '승진': 9,\n",
       " '훈훈해': 10,\n",
       " '거예요': 11,\n",
       " '나갔어': 12,\n",
       " '운동': 13,\n",
       " '것': 14,\n",
       " '또': 15,\n",
       " '집착하지': 16,\n",
       " '좋을': 17,\n",
       " '적당히': 18,\n",
       " '남자친구가': 19,\n",
       " '들어올': 20,\n",
       " '쫄딱': 21,\n",
       " '남자친구': 22,\n",
       " '좋을까': 23,\n",
       " '빨리': 24,\n",
       " '비싼데': 25,\n",
       " '있어도': 26,\n",
       " '결단은': 27,\n",
       " '빠를수록': 28,\n",
       " '바빠': 29,\n",
       " '켜놓고': 30,\n",
       " '교회': 31,\n",
       " '다시': 32,\n",
       " '운동을': 33,\n",
       " '하세요': 34,\n",
       " '감기': 35,\n",
       " '그': 36,\n",
       " '뭐가': 37,\n",
       " '더': 38,\n",
       " '따라': 39,\n",
       " '끄고': 40,\n",
       " '평소에': 41,\n",
       " '나라를': 42,\n",
       " '식혀주세요': 43,\n",
       " '절약해봐요': 44,\n",
       " '전생에': 45,\n",
       " '게': 46,\n",
       " '생일인데': 47,\n",
       " '싶어': 48,\n",
       " '뭐하는지': 49,\n",
       " '집에': 50,\n",
       " '해보세요': 51,\n",
       " '땀난다': 52,\n",
       " '갔어': 53,\n",
       " '같아': 54,\n",
       " '안': 55,\n",
       " '사람도': 56,\n",
       " '걸리겠어': 57,\n",
       " '혼자인게': 58,\n",
       " '해': 59,\n",
       " '다음': 60,\n",
       " '질린다': 61,\n",
       " '돈은': 62,\n",
       " '마세요': 63,\n",
       " '마음을': 64,\n",
       " '줄까': 65,\n",
       " '때까지': 66,\n",
       " '망함': 67,\n",
       " '설득해보세요': 68,\n",
       " '켜고': 69,\n",
       " '잊고': 70,\n",
       " '잘생겼어': 71,\n",
       " '땀을': 72,\n",
       " '필요한': 73,\n",
       " '선물로': 74,\n",
       " '함께': 75,\n",
       " '가끔': 76,\n",
       " '나온거': 77,\n",
       " '나왔다': 78,\n",
       " '그럴': 79,\n",
       " '가스비': 80,\n",
       " '달에는': 81,\n",
       " '필요했던': 82,\n",
       " '나': 83,\n",
       " '너무': 84,\n",
       " '같아요': 85,\n",
       " '생각해보세요': 86,\n",
       " '좀': 87,\n",
       " '사세요': 88,\n",
       " '좋아요': 89,\n",
       " '설움': 90,\n",
       " '돌아가서': 91,\n",
       " '어서': 92,\n",
       " '자의': 93,\n",
       " '오늘': 94,\n",
       " '궁금해': 95,\n",
       " '보인다': 96,\n",
       " '따뜻하게': 97,\n",
       " '많이': 98,\n",
       " '가스불': 99,\n",
       " '혼자를': 100,\n",
       " '좋다': 101,\n",
       " '데려가고': 102,\n",
       " '가만': 103,\n",
       " '즐기세요': 104,\n",
       " '가난한': 105,\n",
       " '가끔은': 106,\n",
       " '거짓말': 107,\n",
       " '가상화폐': 108,\n",
       " '믿어줘': 109,\n",
       " '새출발': 110}"
      ]
     },
     "execution_count": 30,
     "metadata": {},
     "output_type": "execute_result"
    }
   ],
   "source": [
    "char2idx"
   ]
  }
 ],
 "metadata": {
  "kernelspec": {
   "display_name": "Python 3",
   "language": "python",
   "name": "python3"
  },
  "language_info": {
   "codemirror_mode": {
    "name": "ipython",
    "version": 3
   },
   "file_extension": ".py",
   "mimetype": "text/x-python",
   "name": "python",
   "nbconvert_exporter": "python",
   "pygments_lexer": "ipython3",
   "version": "3.6.8"
  }
 },
 "nbformat": 4,
 "nbformat_minor": 4
}
