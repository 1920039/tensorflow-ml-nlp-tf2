{
 "cells": [
  {
   "cell_type": "markdown",
   "metadata": {},
   "source": [
    "# 패키지 불러오기"
   ]
  },
  {
   "cell_type": "code",
   "execution_count": 20,
   "metadata": {},
   "outputs": [],
   "source": [
    "import tensorflow as tf\n",
    "import numpy as np\n",
    "\n",
    "from konlpy.tag import Okt\n",
    "import pandas as pd\n",
    "import enum\n",
    "import os\n",
    "import re\n",
    "\n",
    "from tensorflow.keras.callbacks import EarlyStopping, ModelCheckpoint\n",
    "import matplotlib.pyplot as plt\n",
    "\n",
    "from preprocess import *"
   ]
  },
  {
   "cell_type": "markdown",
   "metadata": {},
   "source": [
    "# 시각화 함수"
   ]
  },
  {
   "cell_type": "code",
   "execution_count": 21,
   "metadata": {},
   "outputs": [],
   "source": [
    "def plot_graphs(history, string):\n",
    "    plt.plot(history.history[string])\n",
    "    plt.plot(history.history['val_'+string], '')\n",
    "    plt.xlabel(\"Epochs\")\n",
    "    plt.ylabel(string)\n",
    "    plt.legend([string, 'val_'+string])\n",
    "    plt.show()"
   ]
  },
  {
   "cell_type": "markdown",
   "metadata": {},
   "source": [
    "# 학습 데이터 경로 정의"
   ]
  },
  {
   "cell_type": "code",
   "execution_count": 22,
   "metadata": {},
   "outputs": [],
   "source": [
    "DATA_IN_PATH = './data_in/'\n",
    "DATA_OUT_PATH = './data_out/'\n",
    "TRAIN_INPUTS = 'train_inputs.npy'\n",
    "TRAIN_OUTPUTS = 'train_outputs.npy'\n",
    "TRAIN_TARGETS = 'train_targets.npy'\n",
    "DATA_CONFIGS = 'data_configs.json'"
   ]
  },
  {
   "cell_type": "markdown",
   "metadata": {},
   "source": [
    "# 랜덤 시드 고정"
   ]
  },
  {
   "cell_type": "code",
   "execution_count": 23,
   "metadata": {},
   "outputs": [],
   "source": [
    "SEED_NUM = 1234\n",
    "tf.random.set_seed(SEED_NUM)"
   ]
  },
  {
   "cell_type": "markdown",
   "metadata": {},
   "source": [
    "# 파일 로드"
   ]
  },
  {
   "cell_type": "code",
   "execution_count": 24,
   "metadata": {},
   "outputs": [],
   "source": [
    "index_inputs = np.load(open(DATA_IN_PATH + TRAIN_INPUTS, 'rb'))\n",
    "index_outputs = np.load(open(DATA_IN_PATH + TRAIN_OUTPUTS , 'rb'))\n",
    "index_targets = np.load(open(DATA_IN_PATH + TRAIN_TARGETS , 'rb'))\n",
    "prepro_configs = json.load(open(DATA_IN_PATH + DATA_CONFIGS, 'r'))"
   ]
  },
  {
   "cell_type": "code",
   "execution_count": 25,
   "metadata": {},
   "outputs": [
    {
     "name": "stdout",
     "output_type": "stream",
     "text": [
      "20 20 20\n"
     ]
    }
   ],
   "source": [
    "# Show length\n",
    "print(len(index_inputs),  len(index_outputs), len(index_targets))"
   ]
  },
  {
   "cell_type": "markdown",
   "metadata": {},
   "source": [
    "## 모델 만들기에 필요한 값 선언"
   ]
  },
  {
   "cell_type": "code",
   "execution_count": 26,
   "metadata": {},
   "outputs": [],
   "source": [
    "MODEL_NAME = 'seq2seq_kor'\n",
    "BATCH_SIZE = 3\n",
    "#BATCH_SIZE = 64\n",
    "MAX_SEQUENCE = 25\n",
    "EPOCH = 30\n",
    "UNITS = 1024\n",
    "EMBEDDING_DIM = 256\n",
    "VALIDATION_SPLIT = 0.1 \n",
    "\n",
    "char2idx = prepro_configs['char2idx']\n",
    "idx2char = prepro_configs['idx2char']\n",
    "std_index = prepro_configs['std_symbol']\n",
    "end_index = prepro_configs['end_symbol']\n",
    "vocab_size = prepro_configs['vocab_size']"
   ]
  },
  {
   "cell_type": "markdown",
   "metadata": {},
   "source": [
    "# 모델 "
   ]
  },
  {
   "cell_type": "markdown",
   "metadata": {},
   "source": [
    "## 인코더"
   ]
  },
  {
   "cell_type": "code",
   "execution_count": 27,
   "metadata": {},
   "outputs": [],
   "source": [
    "class Encoder(tf.keras.layers.Layer):\n",
    "    def __init__(self, vocab_size, embedding_dim, enc_units, batch_sz):\n",
    "        super(Encoder, self).__init__()\n",
    "        self.batch_sz = batch_sz\n",
    "        self.enc_units = enc_units\n",
    "        self.vocab_size = vocab_size \n",
    "        self.embedding_dim = embedding_dim          \n",
    "        \n",
    "        self.embedding = tf.keras.layers.Embedding(self.vocab_size, self.embedding_dim)\n",
    "        self.gru = tf.keras.layers.GRU(self.enc_units,\n",
    "                                       return_sequences=True,\n",
    "                                       return_state=True,\n",
    "                                       recurrent_initializer='glorot_uniform')\n",
    "\n",
    "    def call(self, x, hidden):\n",
    "        x = self.embedding(x)\n",
    "        output, state = self.gru(x, initial_state = hidden)\n",
    "        return output, state\n",
    "\n",
    "#     def initialize_hidden_state(self, batch_sz=None):\n",
    "#         if batch_sz is None:\n",
    "#             batch_sz = self.batch_sz\n",
    "#         return tf.zeros((batch_sz, self.enc_units))\n",
    "    def initialize_hidden_state(self, inp):\n",
    "        return tf.zeros((tf.shape(inp)[0], self.enc_units))"
   ]
  },
  {
   "cell_type": "markdown",
   "metadata": {},
   "source": [
    "## 어텐션"
   ]
  },
  {
   "cell_type": "code",
   "execution_count": 28,
   "metadata": {},
   "outputs": [],
   "source": [
    "class BahdanauAttention(tf.keras.layers.Layer):\n",
    "    def __init__(self, units):\n",
    "        super(BahdanauAttention, self).__init__()\n",
    "        self.W1 = tf.keras.layers.Dense(units)\n",
    "        self.W2 = tf.keras.layers.Dense(units)\n",
    "        self.V = tf.keras.layers.Dense(1)\n",
    "\n",
    "    def call(self, query, values):\n",
    "        hidden_with_time_axis = tf.expand_dims(query, 1)\n",
    "\n",
    "        score = self.V(tf.nn.tanh(\n",
    "            self.W1(values) + self.W2(hidden_with_time_axis)))\n",
    "\n",
    "        attention_weights = tf.nn.softmax(score, axis=1)\n",
    "\n",
    "        context_vector = attention_weights * values\n",
    "        context_vector = tf.reduce_sum(context_vector, axis=1)\n",
    "\n",
    "        return context_vector, attention_weights"
   ]
  },
  {
   "cell_type": "markdown",
   "metadata": {},
   "source": [
    "## 디코더"
   ]
  },
  {
   "cell_type": "code",
   "execution_count": 29,
   "metadata": {},
   "outputs": [],
   "source": [
    "class Decoder(tf.keras.layers.Layer):\n",
    "    def __init__(self, vocab_size, embedding_dim, dec_units, batch_sz):\n",
    "        super(Decoder, self).__init__()\n",
    "        \n",
    "        self.batch_sz = batch_sz\n",
    "        self.dec_units = dec_units\n",
    "        self.vocab_size = vocab_size \n",
    "        self.embedding_dim = embedding_dim  \n",
    "        \n",
    "        self.embedding = tf.keras.layers.Embedding(self.vocab_size, self.embedding_dim)\n",
    "        self.gru = tf.keras.layers.GRU(self.dec_units,\n",
    "                                       return_sequences=True,\n",
    "                                       return_state=True,\n",
    "                                       recurrent_initializer='glorot_uniform')\n",
    "        self.fc = tf.keras.layers.Dense(self.vocab_size)\n",
    "\n",
    "        self.attention = BahdanauAttention(self.dec_units)\n",
    "        \n",
    "    def call(self, x, hidden, enc_output):\n",
    "        context_vector, attention_weights = self.attention(hidden, enc_output)\n",
    "\n",
    "        x = self.embedding(x)\n",
    "\n",
    "        x = tf.concat([tf.expand_dims(context_vector, 1), x], axis=-1)\n",
    "\n",
    "        output, state = self.gru(x)\n",
    "        output = tf.reshape(output, (-1, output.shape[2]))\n",
    "            \n",
    "        x = self.fc(output)\n",
    "        \n",
    "        return x, state, attention_weights"
   ]
  },
  {
   "cell_type": "code",
   "execution_count": 30,
   "metadata": {},
   "outputs": [],
   "source": [
    "optimizer = tf.keras.optimizers.Adam()\n",
    "\n",
    "loss_object = tf.keras.losses.SparseCategoricalCrossentropy(from_logits=True, reduction='none')\n",
    "\n",
    "train_accuracy = tf.keras.metrics.SparseCategoricalAccuracy(name='accuracy')\n",
    "\n",
    "def loss(real, pred):\n",
    "    mask = tf.math.logical_not(tf.math.equal(real, 0))\n",
    "    loss_ = loss_object(real, pred)\n",
    "    mask = tf.cast(mask, dtype=loss_.dtype)\n",
    "    loss_ *= mask\n",
    "    return tf.reduce_mean(loss_)\n",
    "\n",
    "def accuracy(real, pred):\n",
    "    mask = tf.math.logical_not(tf.math.equal(real, 0))\n",
    "    mask = tf.expand_dims(tf.cast(mask, dtype=pred.dtype), axis=-1)\n",
    "    pred *= mask    \n",
    "    acc = train_accuracy(real, pred)\n",
    "\n",
    "    return tf.reduce_mean(acc)"
   ]
  },
  {
   "cell_type": "markdown",
   "metadata": {},
   "source": [
    "## 시퀀스 투 스퀀스 모델"
   ]
  },
  {
   "cell_type": "code",
   "execution_count": 31,
   "metadata": {},
   "outputs": [],
   "source": [
    "class seq2seq(tf.keras.Model):\n",
    "    def __init__(self, vocab_size, embedding_dim, enc_units, dec_units, batch_sz, end_token_idx=2):    \n",
    "        super(seq2seq, self).__init__()\n",
    "        self.end_token_idx = end_token_idx\n",
    "        self.encoder = Encoder(vocab_size, embedding_dim, enc_units, batch_sz) \n",
    "        self.decoder = Decoder(vocab_size, embedding_dim, dec_units, batch_sz) \n",
    "\n",
    "    def call(self, x):\n",
    "        inp, tar = x\n",
    "        \n",
    "        enc_hidden = self.encoder.initialize_hidden_state(inp)\n",
    "        enc_output, enc_hidden = self.encoder(inp, enc_hidden)\n",
    "\n",
    "        dec_hidden = enc_hidden\n",
    "\n",
    "        predict_tokens = list()\n",
    "        for t in range(0, tar.shape[1]):\n",
    "            dec_input = tf.dtypes.cast(tf.expand_dims(tar[:, t], 1), tf.float32) \n",
    "            predictions, dec_hidden, _ = self.decoder(dec_input, dec_hidden, enc_output)\n",
    "            predict_tokens.append(tf.dtypes.cast(predictions, tf.float32))   \n",
    "        return tf.stack(predict_tokens, axis=1)\n",
    "    \n",
    "    def inference(self, x):\n",
    "        inp  = x\n",
    "\n",
    "        enc_hidden = self.encoder.initialize_hidden_state(inp)\n",
    "        enc_output, enc_hidden = self.encoder(inp, enc_hidden)\n",
    "\n",
    "        dec_hidden = enc_hidden\n",
    "        \n",
    "        dec_input = tf.expand_dims([char2idx[std_index]], 1)\n",
    "        \n",
    "        predict_tokens = list()\n",
    "        for t in range(0, MAX_SEQUENCE):\n",
    "            predictions, dec_hidden, _ = self.decoder(dec_input, dec_hidden, enc_output)\n",
    "            predict_token = tf.argmax(predictions[0])\n",
    "            \n",
    "            if predict_token == self.end_token_idx:\n",
    "                break\n",
    "            \n",
    "            predict_tokens.append(predict_token)\n",
    "            dec_input = tf.dtypes.cast(tf.expand_dims([predict_token], 0), tf.float32)   \n",
    "            \n",
    "        return tf.stack(predict_tokens, axis=0).numpy()"
   ]
  },
  {
   "cell_type": "code",
   "execution_count": 32,
   "metadata": {},
   "outputs": [],
   "source": [
    "model = seq2seq(vocab_size, EMBEDDING_DIM, UNITS, UNITS, BATCH_SIZE, char2idx[end_index])\n",
    "model.compile(loss=loss, optimizer=tf.keras.optimizers.Adam(1e-3), metrics=[accuracy])\n",
    "model.run_eagerly = True"
   ]
  },
  {
   "cell_type": "markdown",
   "metadata": {},
   "source": [
    "## 학습 진행"
   ]
  },
  {
   "cell_type": "code",
   "execution_count": 33,
   "metadata": {
    "scrolled": true
   },
   "outputs": [
    {
     "name": "stdout",
     "output_type": "stream",
     "text": [
      "Train on 18 samples, validate on 2 samples\n",
      "Epoch 1/30\n",
      "15/18 [========================>.....] - ETA: 1s - loss: 0.8116 - accuracy: 0.8289\n",
      "Epoch 00001: val_accuracy improved from -inf to 0.85200, saving model to ./data_out/seq2seq_kor/weights.h5\n",
      "18/18 [==============================] - 7s 381ms/sample - loss: 0.8328 - accuracy: 0.8322 - val_loss: 0.6671 - val_accuracy: 0.8520\n",
      "Epoch 2/30\n",
      "15/18 [========================>.....] - ETA: 1s - loss: 0.7536 - accuracy: 0.8513\n",
      "Epoch 00002: val_accuracy improved from 0.85200 to 0.85500, saving model to ./data_out/seq2seq_kor/weights.h5\n",
      "18/18 [==============================] - 7s 367ms/sample - loss: 0.7434 - accuracy: 0.8517 - val_loss: 0.6296 - val_accuracy: 0.8550\n",
      "Epoch 3/30\n",
      "15/18 [========================>.....] - ETA: 0s - loss: 0.7074 - accuracy: 0.8533\n",
      "Epoch 00003: val_accuracy improved from 0.85500 to 0.85600, saving model to ./data_out/seq2seq_kor/weights.h5\n",
      "18/18 [==============================] - 7s 364ms/sample - loss: 0.6798 - accuracy: 0.8536 - val_loss: 0.6113 - val_accuracy: 0.8560\n",
      "Epoch 4/30\n",
      "15/18 [========================>.....] - ETA: 1s - loss: 0.6307 - accuracy: 0.8561\n",
      "Epoch 00004: val_accuracy improved from 0.85600 to 0.85650, saving model to ./data_out/seq2seq_kor/weights.h5\n",
      "18/18 [==============================] - 7s 368ms/sample - loss: 0.6411 - accuracy: 0.8561 - val_loss: 0.5938 - val_accuracy: 0.8565\n",
      "Epoch 5/30\n",
      "15/18 [========================>.....] - ETA: 1s - loss: 0.6072 - accuracy: 0.8564\n",
      "Epoch 00005: val_accuracy improved from 0.85650 to 0.85680, saving model to ./data_out/seq2seq_kor/weights.h5\n",
      "18/18 [==============================] - 7s 369ms/sample - loss: 0.6090 - accuracy: 0.8564 - val_loss: 0.5627 - val_accuracy: 0.8568\n",
      "Epoch 6/30\n",
      "15/18 [========================>.....] - ETA: 1s - loss: 0.5680 - accuracy: 0.8561\n",
      "Epoch 00006: val_accuracy improved from 0.85680 to 0.85700, saving model to ./data_out/seq2seq_kor/weights.h5\n",
      "18/18 [==============================] - 7s 371ms/sample - loss: 0.5785 - accuracy: 0.8562 - val_loss: 0.5116 - val_accuracy: 0.8570\n",
      "Epoch 7/30\n",
      "15/18 [========================>.....] - ETA: 1s - loss: 0.5313 - accuracy: 0.8568\n",
      "Epoch 00007: val_accuracy improved from 0.85700 to 0.85771, saving model to ./data_out/seq2seq_kor/weights.h5\n",
      "18/18 [==============================] - 7s 377ms/sample - loss: 0.5410 - accuracy: 0.8569 - val_loss: 0.4671 - val_accuracy: 0.8577\n",
      "Epoch 8/30\n",
      "15/18 [========================>.....] - ETA: 0s - loss: 0.4913 - accuracy: 0.8575\n",
      "Epoch 00008: val_accuracy improved from 0.85771 to 0.85825, saving model to ./data_out/seq2seq_kor/weights.h5\n",
      "18/18 [==============================] - 7s 366ms/sample - loss: 0.4955 - accuracy: 0.8576 - val_loss: 0.4321 - val_accuracy: 0.8583\n",
      "Epoch 9/30\n",
      "15/18 [========================>.....] - ETA: 1s - loss: 0.4579 - accuracy: 0.8588\n",
      "Epoch 00009: val_accuracy improved from 0.85825 to 0.86133, saving model to ./data_out/seq2seq_kor/weights.h5\n",
      "18/18 [==============================] - 7s 368ms/sample - loss: 0.4512 - accuracy: 0.8592 - val_loss: 0.4028 - val_accuracy: 0.8613\n",
      "Epoch 10/30\n",
      "15/18 [========================>.....] - ETA: 1s - loss: 0.3844 - accuracy: 0.8634\n",
      "Epoch 00010: val_accuracy improved from 0.86133 to 0.86460, saving model to ./data_out/seq2seq_kor/weights.h5\n",
      "18/18 [==============================] - 7s 367ms/sample - loss: 0.4106 - accuracy: 0.8636 - val_loss: 0.4059 - val_accuracy: 0.8646\n",
      "Epoch 11/30\n",
      "15/18 [========================>.....] - ETA: 1s - loss: 0.3423 - accuracy: 0.8665\n",
      "Epoch 00011: val_accuracy improved from 0.86460 to 0.86945, saving model to ./data_out/seq2seq_kor/weights.h5\n",
      "18/18 [==============================] - 7s 370ms/sample - loss: 0.3657 - accuracy: 0.8668 - val_loss: 0.2976 - val_accuracy: 0.8695\n",
      "Epoch 12/30\n",
      "15/18 [========================>.....] - ETA: 1s - loss: 0.3026 - accuracy: 0.8731\n",
      "Epoch 00012: val_accuracy improved from 0.86945 to 0.87600, saving model to ./data_out/seq2seq_kor/weights.h5\n",
      "18/18 [==============================] - 7s 370ms/sample - loss: 0.3282 - accuracy: 0.8735 - val_loss: 0.2973 - val_accuracy: 0.8760\n",
      "Epoch 13/30\n",
      "15/18 [========================>.....] - ETA: 1s - loss: 0.2568 - accuracy: 0.8790\n",
      "Epoch 00013: val_accuracy improved from 0.87600 to 0.88215, saving model to ./data_out/seq2seq_kor/weights.h5\n",
      "18/18 [==============================] - 7s 370ms/sample - loss: 0.2867 - accuracy: 0.8794 - val_loss: 0.2701 - val_accuracy: 0.8822\n",
      "Epoch 14/30\n",
      "15/18 [========================>.....] - ETA: 1s - loss: 0.2762 - accuracy: 0.8845\n",
      "Epoch 00014: val_accuracy improved from 0.88215 to 0.88714, saving model to ./data_out/seq2seq_kor/weights.h5\n",
      "18/18 [==============================] - 7s 369ms/sample - loss: 0.2604 - accuracy: 0.8849 - val_loss: 0.2325 - val_accuracy: 0.8871\n",
      "Epoch 15/30\n",
      "15/18 [========================>.....] - ETA: 1s - loss: 0.2252 - accuracy: 0.8895\n",
      "Epoch 00015: val_accuracy improved from 0.88714 to 0.89187, saving model to ./data_out/seq2seq_kor/weights.h5\n",
      "18/18 [==============================] - 7s 367ms/sample - loss: 0.2232 - accuracy: 0.8898 - val_loss: 0.2056 - val_accuracy: 0.8919\n",
      "Epoch 16/30\n",
      "15/18 [========================>.....] - ETA: 1s - loss: 0.1848 - accuracy: 0.8937\n",
      "Epoch 00016: val_accuracy improved from 0.89187 to 0.89600, saving model to ./data_out/seq2seq_kor/weights.h5\n",
      "18/18 [==============================] - 7s 366ms/sample - loss: 0.1951 - accuracy: 0.8940 - val_loss: 0.2096 - val_accuracy: 0.8960\n",
      "Epoch 17/30\n",
      "15/18 [========================>.....] - ETA: 0s - loss: 0.1502 - accuracy: 0.8978\n",
      "Epoch 00017: val_accuracy improved from 0.89600 to 0.89965, saving model to ./data_out/seq2seq_kor/weights.h5\n",
      "18/18 [==============================] - 6s 361ms/sample - loss: 0.1664 - accuracy: 0.8980 - val_loss: 0.1477 - val_accuracy: 0.8996\n",
      "Epoch 18/30\n",
      "15/18 [========================>.....] - ETA: 0s - loss: 0.1552 - accuracy: 0.9010\n",
      "Epoch 00018: val_accuracy improved from 0.89965 to 0.90267, saving model to ./data_out/seq2seq_kor/weights.h5\n",
      "18/18 [==============================] - 7s 363ms/sample - loss: 0.1529 - accuracy: 0.9012 - val_loss: 0.1325 - val_accuracy: 0.9027\n",
      "Epoch 19/30\n",
      "15/18 [========================>.....] - ETA: 0s - loss: 0.1386 - accuracy: 0.9040\n",
      "Epoch 00019: val_accuracy improved from 0.90267 to 0.90579, saving model to ./data_out/seq2seq_kor/weights.h5\n",
      "18/18 [==============================] - 7s 363ms/sample - loss: 0.1398 - accuracy: 0.9043 - val_loss: 0.1333 - val_accuracy: 0.9058\n",
      "Epoch 20/30\n",
      "15/18 [========================>.....] - ETA: 0s - loss: 0.1301 - accuracy: 0.9070\n",
      "Epoch 00020: val_accuracy improved from 0.90579 to 0.90850, saving model to ./data_out/seq2seq_kor/weights.h5\n",
      "18/18 [==============================] - 7s 364ms/sample - loss: 0.1272 - accuracy: 0.9072 - val_loss: 0.1248 - val_accuracy: 0.9085\n",
      "Epoch 21/30\n",
      "15/18 [========================>.....] - ETA: 0s - loss: 0.1137 - accuracy: 0.9098\n",
      "Epoch 00021: val_accuracy improved from 0.90850 to 0.91105, saving model to ./data_out/seq2seq_kor/weights.h5\n",
      "18/18 [==============================] - 6s 361ms/sample - loss: 0.1251 - accuracy: 0.9100 - val_loss: 0.1314 - val_accuracy: 0.9110\n",
      "Epoch 22/30\n",
      "15/18 [========================>.....] - ETA: 0s - loss: 0.1112 - accuracy: 0.9123\n",
      "Epoch 00022: val_accuracy improved from 0.91105 to 0.91345, saving model to ./data_out/seq2seq_kor/weights.h5\n",
      "18/18 [==============================] - 7s 366ms/sample - loss: 0.1087 - accuracy: 0.9124 - val_loss: 0.1235 - val_accuracy: 0.9135\n",
      "Epoch 23/30\n",
      "15/18 [========================>.....] - ETA: 0s - loss: 0.0990 - accuracy: 0.9143\n",
      "Epoch 00023: val_accuracy improved from 0.91345 to 0.91565, saving model to ./data_out/seq2seq_kor/weights.h5\n",
      "18/18 [==============================] - 6s 360ms/sample - loss: 0.0967 - accuracy: 0.9145 - val_loss: 0.1236 - val_accuracy: 0.9157\n",
      "Epoch 24/30\n",
      "15/18 [========================>.....] - ETA: 0s - loss: 0.0854 - accuracy: 0.9167\n",
      "Epoch 00024: val_accuracy improved from 0.91565 to 0.91800, saving model to ./data_out/seq2seq_kor/weights.h5\n",
      "18/18 [==============================] - 7s 363ms/sample - loss: 0.0872 - accuracy: 0.9169 - val_loss: 0.1249 - val_accuracy: 0.9180\n",
      "Epoch 25/30\n"
     ]
    },
    {
     "name": "stdout",
     "output_type": "stream",
     "text": [
      "15/18 [========================>.....] - ETA: 0s - loss: 0.0696 - accuracy: 0.9191\n",
      "Epoch 00025: val_accuracy improved from 0.91800 to 0.92040, saving model to ./data_out/seq2seq_kor/weights.h5\n",
      "18/18 [==============================] - 6s 361ms/sample - loss: 0.0727 - accuracy: 0.9193 - val_loss: 0.1350 - val_accuracy: 0.9204\n",
      "Epoch 26/30\n",
      "15/18 [========================>.....] - ETA: 0s - loss: 0.0571 - accuracy: 0.9215\n",
      "Epoch 00026: val_accuracy improved from 0.92040 to 0.92277, saving model to ./data_out/seq2seq_kor/weights.h5\n",
      "18/18 [==============================] - 6s 355ms/sample - loss: 0.0569 - accuracy: 0.9217 - val_loss: 0.1817 - val_accuracy: 0.9228\n",
      "Epoch 27/30\n",
      "15/18 [========================>.....] - ETA: 1s - loss: 0.0377 - accuracy: 0.9239\n",
      "Epoch 00027: val_accuracy improved from 0.92277 to 0.92496, saving model to ./data_out/seq2seq_kor/weights.h5\n",
      "18/18 [==============================] - 7s 368ms/sample - loss: 0.0549 - accuracy: 0.9241 - val_loss: 0.2770 - val_accuracy: 0.9250\n",
      "Epoch 28/30\n",
      "15/18 [========================>.....] - ETA: 0s - loss: 0.0453 - accuracy: 0.9259\n",
      "Epoch 00028: val_accuracy improved from 0.92496 to 0.92686, saving model to ./data_out/seq2seq_kor/weights.h5\n",
      "18/18 [==============================] - 6s 358ms/sample - loss: 0.0551 - accuracy: 0.9260 - val_loss: 0.2040 - val_accuracy: 0.9269\n",
      "Epoch 29/30\n",
      "15/18 [========================>.....] - ETA: 0s - loss: 0.0424 - accuracy: 0.9278\n",
      "Epoch 00029: val_accuracy improved from 0.92686 to 0.92890, saving model to ./data_out/seq2seq_kor/weights.h5\n",
      "18/18 [==============================] - 7s 371ms/sample - loss: 0.0445 - accuracy: 0.9280 - val_loss: 0.2202 - val_accuracy: 0.9289\n",
      "Epoch 30/30\n",
      "15/18 [========================>.....] - ETA: 0s - loss: 0.0243 - accuracy: 0.9299\n",
      "Epoch 00030: val_accuracy improved from 0.92890 to 0.93087, saving model to ./data_out/seq2seq_kor/weights.h5\n",
      "18/18 [==============================] - 7s 363ms/sample - loss: 0.0292 - accuracy: 0.9300 - val_loss: 0.2402 - val_accuracy: 0.9309\n"
     ]
    }
   ],
   "source": [
    "PATH = DATA_OUT_PATH + MODEL_NAME\n",
    "if not(os.path.isdir(PATH)):\n",
    "        os.makedirs(os.path.join(PATH))\n",
    "        \n",
    "checkpoint_path = DATA_OUT_PATH + MODEL_NAME + '/weights.h5'\n",
    "    \n",
    "cp_callback = ModelCheckpoint(\n",
    "    checkpoint_path, monitor='val_accuracy', verbose=1, save_best_only=True, save_weights_only=True)\n",
    "\n",
    "earlystop_callback = EarlyStopping(monitor='val_accuracy', min_delta=0.0001, patience=1)\n",
    "\n",
    "# history = model.fit([index_inputs, index_outputs], index_targets,\n",
    "#                     batch_size=BATCH_SIZE, epochs=EPOCH,\n",
    "#                     validation_split=VALIDATION_SPLIT, callbacks=[earlystop_callback, cp_callback])\n",
    "# history = model.fit(dataset, epochs=EPOCH, steps_per_epoch=steps_per_epoch)\n",
    "#history = model.fit(dataset, epochs=EPOCH, steps_per_epoch=steps_per_epoch)\n",
    "# history = model.fit(train_dataset, epochs=EPOCH, steps_per_epoch=steps_per_epochs, validation_data=eval_dataset, \n",
    "#                    callbacks=[earlystop_callback, cp_callback])\n",
    "# history = model.fit(train_dataset, epochs=EPOCH, validation_data=eval_dataset, callbacks=[cp_callback])\n",
    "history = model.fit([index_inputs, index_outputs], index_targets,\n",
    "                    batch_size=BATCH_SIZE, epochs=EPOCH,\n",
    "                    validation_split=VALIDATION_SPLIT, callbacks=[earlystop_callback, cp_callback])"
   ]
  },
  {
   "cell_type": "markdown",
   "metadata": {},
   "source": [
    "## 결과 플롯"
   ]
  },
  {
   "cell_type": "code",
   "execution_count": 34,
   "metadata": {},
   "outputs": [
    {
     "data": {
      "image/png": "[encoded data removed]",
      "text/plain": [
       "<Figure size 432x288 with 1 Axes>"
      ]
     },
     "metadata": {
      "needs_background": "light"
     },
     "output_type": "display_data"
    }
   ],
   "source": [
    "plot_graphs(history, 'accuracy')"
   ]
  },
  {
   "cell_type": "code",
   "execution_count": 35,
   "metadata": {},
   "outputs": [
    {
     "data": {
      "image/png": "[encoded data removed]",
      "text/plain": [
       "<Figure size 432x288 with 1 Axes>"
      ]
     },
     "metadata": {
      "needs_background": "light"
     },
     "output_type": "display_data"
    }
   ],
   "source": [
    "plot_graphs(history, 'loss')"
   ]
  },
  {
   "cell_type": "markdown",
   "metadata": {},
   "source": [
    "### 결과 확인"
   ]
  },
  {
   "cell_type": "code",
   "execution_count": 36,
   "metadata": {},
   "outputs": [],
   "source": [
    "SAVE_FILE_NM = \"weights.h5\"\n",
    "model.load_weights(os.path.join(DATA_OUT_PATH, MODEL_NAME, SAVE_FILE_NM))"
   ]
  },
  {
   "cell_type": "code",
   "execution_count": 37,
   "metadata": {},
   "outputs": [
    {
     "name": "stdout",
     "output_type": "stream",
     "text": [
      "[105  96  14   7]\n",
      "평소에 필요한 것 같아요\n"
     ]
    }
   ],
   "source": [
    "query = \"남자친구 승진 선물로 뭐가 좋을까?\"\n",
    "\n",
    "test_index_inputs, _ = enc_processing([query], char2idx)    \n",
    "predict_tokens = model.inference(test_index_inputs)\n",
    "print(predict_tokens)\n",
    "\n",
    "print(' '.join([idx2char[str(t)] for t in predict_tokens]))"
   ]
  },
  {
   "cell_type": "code",
   "execution_count": null,
   "metadata": {},
   "outputs": [],
   "source": []
  }
 ],
 "metadata": {
  "kernelspec": {
   "display_name": "Python 3",
   "language": "python",
   "name": "python3"
  },
  "language_info": {
   "codemirror_mode": {
    "name": "ipython",
    "version": 3
   },
   "file_extension": ".py",
   "mimetype": "text/x-python",
   "name": "python",
   "nbconvert_exporter": "python",
   "pygments_lexer": "ipython3",
   "version": "3.7.5"
  }
 },
 "nbformat": 4,
 "nbformat_minor": 4
}
