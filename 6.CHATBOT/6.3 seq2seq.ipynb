{
 "cells": [
  {
   "cell_type": "markdown",
   "metadata": {},
   "source": [
    "# 패키지 불러오기"
   ]
  },
  {
   "cell_type": "code",
   "execution_count": 1,
   "metadata": {},
   "outputs": [],
   "source": [
    "import tensorflow as tf\n",
    "import numpy as np\n",
    "\n",
    "from konlpy.tag import Okt\n",
    "import pandas as pd\n",
    "import enum\n",
    "import os\n",
    "import re\n",
    "\n",
    "from tensorflow.keras.callbacks import EarlyStopping, ModelCheckpoint\n",
    "import matplotlib.pyplot as plt\n",
    "from sklearn.model_selection import train_test_split\n",
    "\n",
    "\n",
    "from preprocess import *"
   ]
  },
  {
   "cell_type": "markdown",
   "metadata": {},
   "source": [
    "# 시각화 함수"
   ]
  },
  {
   "cell_type": "code",
   "execution_count": 2,
   "metadata": {},
   "outputs": [],
   "source": [
    "def plot_graphs(history, string):\n",
    "    plt.plot(history.history[string])\n",
    "    plt.plot(history.history['val_'+string], '')\n",
    "    plt.xlabel(\"Epochs\")\n",
    "    plt.ylabel(string)\n",
    "    plt.legend([string, 'val_'+string])\n",
    "    plt.show()"
   ]
  },
  {
   "cell_type": "markdown",
   "metadata": {},
   "source": [
    "# 학습 데이터 경로 정의"
   ]
  },
  {
   "cell_type": "code",
   "execution_count": 3,
   "metadata": {},
   "outputs": [],
   "source": [
    "DATA_IN_PATH = './data_in/'\n",
    "DATA_OUT_PATH = './data_out/'\n",
    "TRAIN_INPUTS = 'train_inputs.npy'\n",
    "TRAIN_OUTPUTS = 'train_outputs.npy'\n",
    "TRAIN_TARGETS = 'train_targets.npy'\n",
    "DATA_CONFIGS = 'data_configs.json'"
   ]
  },
  {
   "cell_type": "markdown",
   "metadata": {},
   "source": [
    "# 랜덤 시드 고정"
   ]
  },
  {
   "cell_type": "code",
   "execution_count": 4,
   "metadata": {},
   "outputs": [],
   "source": [
    "SEED_NUM = 1234\n",
    "tf.random.set_seed(SEED_NUM)"
   ]
  },
  {
   "cell_type": "markdown",
   "metadata": {},
   "source": [
    "# 파일 로드"
   ]
  },
  {
   "cell_type": "code",
   "execution_count": 5,
   "metadata": {},
   "outputs": [],
   "source": [
    "index_inputs = np.load(open(DATA_IN_PATH + TRAIN_INPUTS, 'rb'))\n",
    "index_outputs = np.load(open(DATA_IN_PATH + TRAIN_OUTPUTS , 'rb'))\n",
    "index_targets = np.load(open(DATA_IN_PATH + TRAIN_TARGETS , 'rb'))\n",
    "prepro_configs = json.load(open(DATA_IN_PATH + DATA_CONFIGS, 'r'))"
   ]
  },
  {
   "cell_type": "code",
   "execution_count": 6,
   "metadata": {},
   "outputs": [
    {
     "name": "stdout",
     "output_type": "stream",
     "text": [
      "20 20 20\n"
     ]
    }
   ],
   "source": [
    "# Show length\n",
    "print(len(index_inputs),  len(index_outputs), len(index_targets))"
   ]
  },
  {
   "cell_type": "code",
   "execution_count": 7,
   "metadata": {},
   "outputs": [],
   "source": [
    "train_index_inputs, eval_index_inputs, train_index_outputs, eval_index_outputs  = train_test_split(index_inputs, index_outputs, test_size=0.2, random_state=SEED_NUM)"
   ]
  },
  {
   "cell_type": "code",
   "execution_count": 8,
   "metadata": {},
   "outputs": [],
   "source": [
    "train_index_targets, eval_index_targets  = train_test_split(index_targets, test_size=0.2, random_state=SEED_NUM)"
   ]
  },
  {
   "cell_type": "code",
   "execution_count": 9,
   "metadata": {},
   "outputs": [
    {
     "name": "stdout",
     "output_type": "stream",
     "text": [
      "16 4\n"
     ]
    }
   ],
   "source": [
    "print(len(train_index_inputs),  len(eval_index_inputs))"
   ]
  },
  {
   "cell_type": "code",
   "execution_count": 10,
   "metadata": {},
   "outputs": [
    {
     "name": "stdout",
     "output_type": "stream",
     "text": [
      "16 4\n"
     ]
    }
   ],
   "source": [
    "print(len(train_index_outputs),  len(eval_index_outputs))"
   ]
  },
  {
   "cell_type": "code",
   "execution_count": 11,
   "metadata": {},
   "outputs": [
    {
     "name": "stdout",
     "output_type": "stream",
     "text": [
      "16 4\n"
     ]
    }
   ],
   "source": [
    "print(len(train_index_targets),  len(eval_index_targets))"
   ]
  },
  {
   "cell_type": "code",
   "execution_count": 12,
   "metadata": {},
   "outputs": [],
   "source": [
    "BUFFER_SIZE = len(index_inputs)\n",
    "BATCH_SIZE = 3\n",
    "steps_per_epochs = len(index_inputs)//BATCH_SIZE"
   ]
  },
  {
   "cell_type": "code",
   "execution_count": 13,
   "metadata": {},
   "outputs": [],
   "source": [
    "train_dataset = tf.data.Dataset.from_tensor_slices(((train_index_inputs, train_index_outputs), train_index_targets)).shuffle(BUFFER_SIZE)\n",
    "train_dataset = train_dataset.batch(BATCH_SIZE, drop_remainder=True)"
   ]
  },
  {
   "cell_type": "code",
   "execution_count": 14,
   "metadata": {},
   "outputs": [],
   "source": [
    "eval_dataset = tf.data.Dataset.from_tensor_slices(((eval_index_inputs, eval_index_outputs), eval_index_targets)).shuffle(BUFFER_SIZE)\n",
    "eval_dataset = eval_dataset.batch(BATCH_SIZE, drop_remainder=True)"
   ]
  },
  {
   "cell_type": "code",
   "execution_count": 15,
   "metadata": {},
   "outputs": [],
   "source": [
    "# example_input_batch, example_output_batch, example_target_batch = next(iter(dataset))\n",
    "# example_input_batch.shape, example_target_batch.shape"
   ]
  },
  {
   "cell_type": "markdown",
   "metadata": {},
   "source": [
    "## 모델 만들기에 필요한 값 선언"
   ]
  },
  {
   "cell_type": "code",
   "execution_count": 16,
   "metadata": {},
   "outputs": [],
   "source": [
    "MODEL_NAME = 'seq2seq_kor'\n",
    "#BATCH_SIZE = 2\n",
    "#BATCH_SIZE = 64\n",
    "MAX_SEQUENCE = 25\n",
    "EPOCH = 30\n",
    "UNITS = 1024\n",
    "EMBEDDING_DIM = 256\n",
    "VALIDATION_SPLIT = 0.1 \n",
    "\n",
    "char2idx = prepro_configs['char2idx']\n",
    "idx2char = prepro_configs['idx2char']\n",
    "std_index = prepro_configs['std_symbol']\n",
    "end_index = prepro_configs['end_symbol']\n",
    "vocab_size = prepro_configs['vocab_size']"
   ]
  },
  {
   "cell_type": "markdown",
   "metadata": {},
   "source": [
    "# 모델 "
   ]
  },
  {
   "cell_type": "markdown",
   "metadata": {},
   "source": [
    "## 인코더"
   ]
  },
  {
   "cell_type": "code",
   "execution_count": 17,
   "metadata": {},
   "outputs": [],
   "source": [
    "class Encoder(tf.keras.layers.Layer):\n",
    "    def __init__(self, vocab_size, embedding_dim, enc_units, batch_sz):\n",
    "        super(Encoder, self).__init__()\n",
    "        self.batch_sz = batch_sz\n",
    "        self.enc_units = enc_units\n",
    "        self.vocab_size = vocab_size \n",
    "        self.embedding_dim = embedding_dim          \n",
    "        \n",
    "        self.embedding = tf.keras.layers.Embedding(self.vocab_size, self.embedding_dim)\n",
    "        self.gru = tf.keras.layers.GRU(self.enc_units,\n",
    "                                       return_sequences=True,\n",
    "                                       return_state=True,\n",
    "                                       recurrent_initializer='glorot_uniform')\n",
    "\n",
    "    def call(self, x, hidden):\n",
    "        x = self.embedding(x)\n",
    "        output, state = self.gru(x, initial_state = hidden)\n",
    "        return output, state\n",
    "\n",
    "    def initialize_hidden_state(self, batch_sz=None):\n",
    "        if batch_sz is None:\n",
    "            batch_sz = self.batch_sz\n",
    "        return tf.zeros((batch_sz, self.enc_units))"
   ]
  },
  {
   "cell_type": "markdown",
   "metadata": {},
   "source": [
    "## 어텐션"
   ]
  },
  {
   "cell_type": "code",
   "execution_count": 18,
   "metadata": {},
   "outputs": [],
   "source": [
    "class BahdanauAttention(tf.keras.layers.Layer):\n",
    "    def __init__(self, units):\n",
    "        super(BahdanauAttention, self).__init__()\n",
    "        self.W1 = tf.keras.layers.Dense(units)\n",
    "        self.W2 = tf.keras.layers.Dense(units)\n",
    "        self.V = tf.keras.layers.Dense(1)\n",
    "\n",
    "    def call(self, query, values):\n",
    "        hidden_with_time_axis = tf.expand_dims(query, 1)\n",
    "\n",
    "        score = self.V(tf.nn.tanh(\n",
    "            self.W1(values) + self.W2(hidden_with_time_axis)))\n",
    "\n",
    "        attention_weights = tf.nn.softmax(score, axis=1)\n",
    "\n",
    "        context_vector = attention_weights * values\n",
    "        context_vector = tf.reduce_sum(context_vector, axis=1)\n",
    "\n",
    "        return context_vector, attention_weights"
   ]
  },
  {
   "cell_type": "markdown",
   "metadata": {},
   "source": [
    "## 디코더"
   ]
  },
  {
   "cell_type": "code",
   "execution_count": 19,
   "metadata": {},
   "outputs": [],
   "source": [
    "class Decoder(tf.keras.layers.Layer):\n",
    "    def __init__(self, vocab_size, embedding_dim, dec_units, batch_sz):\n",
    "        super(Decoder, self).__init__()\n",
    "        \n",
    "        self.batch_sz = batch_sz\n",
    "        self.dec_units = dec_units\n",
    "        self.vocab_size = vocab_size \n",
    "        self.embedding_dim = embedding_dim  \n",
    "        \n",
    "        self.embedding = tf.keras.layers.Embedding(self.vocab_size, self.embedding_dim)\n",
    "        self.gru = tf.keras.layers.GRU(self.dec_units,\n",
    "                                       return_sequences=True,\n",
    "                                       return_state=True,\n",
    "                                       recurrent_initializer='glorot_uniform')\n",
    "        self.fc = tf.keras.layers.Dense(self.vocab_size)\n",
    "\n",
    "        self.attention = BahdanauAttention(self.dec_units)\n",
    "        \n",
    "    def call(self, x, hidden, enc_output):\n",
    "        context_vector, attention_weights = self.attention(hidden, enc_output)\n",
    "\n",
    "        x = self.embedding(x)\n",
    "\n",
    "        x = tf.concat([tf.expand_dims(context_vector, 1), x], axis=-1)\n",
    "\n",
    "        output, state = self.gru(x)\n",
    "        output = tf.reshape(output, (-1, output.shape[2]))\n",
    "            \n",
    "        x = self.fc(output)\n",
    "        \n",
    "        return x, state, attention_weights"
   ]
  },
  {
   "cell_type": "code",
   "execution_count": 20,
   "metadata": {},
   "outputs": [],
   "source": [
    "optimizer = tf.keras.optimizers.Adam()\n",
    "\n",
    "loss_object = tf.keras.losses.SparseCategoricalCrossentropy(from_logits=True, reduction='none')\n",
    "\n",
    "train_accuracy = tf.keras.metrics.SparseCategoricalAccuracy(name='accuracy')\n",
    "\n",
    "def loss(real, pred):\n",
    "    mask = tf.math.logical_not(tf.math.equal(real, 0))\n",
    "    loss_ = loss_object(real, pred)\n",
    "    mask = tf.cast(mask, dtype=loss_.dtype)\n",
    "    loss_ *= mask\n",
    "    return tf.reduce_mean(loss_)\n",
    "\n",
    "def accuracy(real, pred):\n",
    "    mask = tf.math.logical_not(tf.math.equal(real, 0))\n",
    "    mask = tf.expand_dims(tf.cast(mask, dtype=pred.dtype), axis=-1)\n",
    "    pred *= mask    \n",
    "    acc = train_accuracy(real, pred)\n",
    "\n",
    "    return tf.reduce_mean(acc)"
   ]
  },
  {
   "cell_type": "markdown",
   "metadata": {},
   "source": [
    "## 시퀀스 투 스퀀스 모델"
   ]
  },
  {
   "cell_type": "code",
   "execution_count": 21,
   "metadata": {},
   "outputs": [],
   "source": [
    "class seq2seq(tf.keras.Model):\n",
    "    def __init__(self, vocab_size, embedding_dim, enc_units, dec_units, batch_sz, end_token_idx=2):    \n",
    "        super(seq2seq, self).__init__()\n",
    "        self.end_token_idx = end_token_idx\n",
    "        self.encoder = Encoder(vocab_size, embedding_dim, enc_units, batch_sz) \n",
    "        self.decoder = Decoder(vocab_size, embedding_dim, dec_units, batch_sz) \n",
    "\n",
    "    def call(self, x):\n",
    "        inp, tar = x\n",
    "        \n",
    "        enc_hidden = self.encoder.initialize_hidden_state()\n",
    "        enc_output, enc_hidden = self.encoder(inp, enc_hidden)\n",
    "\n",
    "        dec_hidden = enc_hidden\n",
    "\n",
    "        predict_tokens = list()\n",
    "        for t in range(0, tar.shape[1]):\n",
    "            dec_input = tf.dtypes.cast(tf.expand_dims(tar[:, t], 1), tf.float32) \n",
    "            predictions, dec_hidden, _ = self.decoder(dec_input, dec_hidden, enc_output)\n",
    "            predict_tokens.append(tf.dtypes.cast(predictions, tf.float32))   \n",
    "        return tf.stack(predict_tokens, axis=1)\n",
    "    \n",
    "    def inference(self, x):\n",
    "        inp  = x\n",
    "\n",
    "        enc_hidden = self.encoder.initialize_hidden_state(batch_sz=1)\n",
    "        enc_output, enc_hidden = self.encoder(inp, enc_hidden)\n",
    "\n",
    "        dec_hidden = enc_hidden\n",
    "        \n",
    "        dec_input = tf.expand_dims([char2idx[std_index]], 1)\n",
    "        \n",
    "        predict_tokens = list()\n",
    "        for t in range(0, MAX_SEQUENCE):\n",
    "            predictions, dec_hidden, _ = self.decoder(dec_input, dec_hidden, enc_output)\n",
    "            predict_token = tf.argmax(predictions[0])\n",
    "            \n",
    "            if predict_token == self.end_token_idx:\n",
    "                break\n",
    "            \n",
    "            predict_tokens.append(predict_token)\n",
    "            dec_input = tf.dtypes.cast(tf.expand_dims([predict_token], 0), tf.float32)   \n",
    "            \n",
    "        return tf.stack(predict_tokens, axis=0).numpy()"
   ]
  },
  {
   "cell_type": "code",
   "execution_count": 22,
   "metadata": {},
   "outputs": [],
   "source": [
    "model = seq2seq(vocab_size, EMBEDDING_DIM, UNITS, UNITS, BATCH_SIZE, char2idx[end_index])\n",
    "model.compile(loss=loss, optimizer=tf.keras.optimizers.Adam(1e-3), metrics=[accuracy])\n",
    "model.run_eagerly = True"
   ]
  },
  {
   "cell_type": "markdown",
   "metadata": {},
   "source": [
    "## 학습 진행"
   ]
  },
  {
   "cell_type": "code",
   "execution_count": 29,
   "metadata": {
    "scrolled": true
   },
   "outputs": [
    {
     "name": "stdout",
     "output_type": "stream",
     "text": [
      "Train for 5 steps, validate for 1 steps\n",
      "Epoch 1/30\n",
      "+++++++++++++++++++++++++++++++++++++++++\n",
      "1/5 [=====>........................] - ETA: 4s - loss: 0.0914 - accuracy: 0.9153+++++++++++++++++++++++++++++++++++++++++\n",
      "2/5 [===========>..................] - ETA: 3s - loss: 0.1013 - accuracy: 0.9154+++++++++++++++++++++++++++++++++++++++++\n",
      "3/5 [=================>............] - ETA: 1s - loss: 0.1040 - accuracy: 0.9156+++++++++++++++++++++++++++++++++++++++++\n",
      "4/5 [=======================>......] - ETA: 0s - loss: 0.1069 - accuracy: 0.9157+++++++++++++++++++++++++++++++++++++++++\n",
      "+++++++++++++++++++++++++++++++++++++++++\n",
      "\n",
      "Epoch 00001: val_accuracy improved from -inf to 0.91605, saving model to ./data_out/seq2seq_kor/weights.h5\n",
      "5/5 [==============================] - 5s 1s/step - loss: 0.1017 - accuracy: 0.9158 - val_loss: 1.1799 - val_accuracy: 0.9161\n",
      "Epoch 2/30\n",
      "+++++++++++++++++++++++++++++++++++++++++\n",
      "1/5 [=====>........................] - ETA: 3s - loss: 0.1131 - accuracy: 0.9163+++++++++++++++++++++++++++++++++++++++++\n",
      "2/5 [===========>..................] - ETA: 2s - loss: 0.0994 - accuracy: 0.9164+++++++++++++++++++++++++++++++++++++++++\n",
      "3/5 [=================>............] - ETA: 1s - loss: 0.0965 - accuracy: 0.9165+++++++++++++++++++++++++++++++++++++++++\n",
      "4/5 [=======================>......] - ETA: 0s - loss: 0.1022 - accuracy: 0.9166+++++++++++++++++++++++++++++++++++++++++\n",
      "+++++++++++++++++++++++++++++++++++++++++\n",
      "\n",
      "Epoch 00002: val_accuracy improved from 0.91605 to 0.91690, saving model to ./data_out/seq2seq_kor/weights.h5\n",
      "5/5 [==============================] - 5s 1s/step - loss: 0.1055 - accuracy: 0.9168 - val_loss: 1.1937 - val_accuracy: 0.9169\n",
      "Epoch 3/30\n",
      "+++++++++++++++++++++++++++++++++++++++++\n",
      "1/5 [=====>........................] - ETA: 3s - loss: 0.1080 - accuracy: 0.9171+++++++++++++++++++++++++++++++++++++++++\n",
      "2/5 [===========>..................] - ETA: 2s - loss: 0.1062 - accuracy: 0.9172+++++++++++++++++++++++++++++++++++++++++\n",
      "3/5 [=================>............] - ETA: 1s - loss: 0.1045 - accuracy: 0.9173+++++++++++++++++++++++++++++++++++++++++\n",
      "4/5 [=======================>......] - ETA: 0s - loss: 0.1074 - accuracy: 0.9175+++++++++++++++++++++++++++++++++++++++++\n",
      "+++++++++++++++++++++++++++++++++++++++++\n",
      "\n",
      "Epoch 00003: val_accuracy improved from 0.91690 to 0.91782, saving model to ./data_out/seq2seq_kor/weights.h5\n",
      "5/5 [==============================] - 5s 1s/step - loss: 0.1058 - accuracy: 0.9176 - val_loss: 0.9892 - val_accuracy: 0.9178\n",
      "Epoch 4/30\n",
      "+++++++++++++++++++++++++++++++++++++++++\n",
      "1/5 [=====>........................] - ETA: 3s - loss: 0.0963 - accuracy: 0.9181+++++++++++++++++++++++++++++++++++++++++\n",
      "2/5 [===========>..................] - ETA: 2s - loss: 0.0954 - accuracy: 0.9182+++++++++++++++++++++++++++++++++++++++++\n",
      "3/5 [=================>............] - ETA: 1s - loss: 0.0971 - accuracy: 0.9183+++++++++++++++++++++++++++++++++++++++++\n",
      "4/5 [=======================>......] - ETA: 0s - loss: 0.1018 - accuracy: 0.9184+++++++++++++++++++++++++++++++++++++++++\n",
      "+++++++++++++++++++++++++++++++++++++++++\n",
      "\n",
      "Epoch 00004: val_accuracy improved from 0.91782 to 0.91875, saving model to ./data_out/seq2seq_kor/weights.h5\n",
      "5/5 [==============================] - 5s 1s/step - loss: 0.1051 - accuracy: 0.9185 - val_loss: 0.9849 - val_accuracy: 0.9188\n",
      "Epoch 5/30\n",
      "+++++++++++++++++++++++++++++++++++++++++\n",
      "1/5 [=====>........................] - ETA: 3s - loss: 0.1093 - accuracy: 0.9189+++++++++++++++++++++++++++++++++++++++++\n",
      "2/5 [===========>..................] - ETA: 2s - loss: 0.1082 - accuracy: 0.9190+++++++++++++++++++++++++++++++++++++++++\n",
      "3/5 [=================>............] - ETA: 1s - loss: 0.1023 - accuracy: 0.9192+++++++++++++++++++++++++++++++++++++++++\n",
      "4/5 [=======================>......] - ETA: 0s - loss: 0.1031 - accuracy: 0.9193+++++++++++++++++++++++++++++++++++++++++\n",
      "+++++++++++++++++++++++++++++++++++++++++\n",
      "\n",
      "Epoch 00005: val_accuracy improved from 0.91875 to 0.91939, saving model to ./data_out/seq2seq_kor/weights.h5\n",
      "5/5 [==============================] - 5s 1s/step - loss: 0.1056 - accuracy: 0.9194 - val_loss: 1.2908 - val_accuracy: 0.9194\n",
      "Epoch 6/30\n",
      "+++++++++++++++++++++++++++++++++++++++++\n",
      "1/5 [=====>........................] - ETA: 3s - loss: 0.0752 - accuracy: 0.9197+++++++++++++++++++++++++++++++++++++++++\n",
      "2/5 [===========>..................] - ETA: 2s - loss: 0.0918 - accuracy: 0.9198+++++++++++++++++++++++++++++++++++++++++\n",
      "3/5 [=================>............] - ETA: 1s - loss: 0.0982 - accuracy: 0.9199+++++++++++++++++++++++++++++++++++++++++\n",
      "4/5 [=======================>......] - ETA: 0s - loss: 0.1009 - accuracy: 0.9200+++++++++++++++++++++++++++++++++++++++++\n",
      "+++++++++++++++++++++++++++++++++++++++++\n",
      "\n",
      "Epoch 00006: val_accuracy improved from 0.91939 to 0.92000, saving model to ./data_out/seq2seq_kor/weights.h5\n",
      "5/5 [==============================] - 5s 1s/step - loss: 0.1034 - accuracy: 0.9201 - val_loss: 1.2614 - val_accuracy: 0.9200\n",
      "Epoch 7/30\n",
      "+++++++++++++++++++++++++++++++++++++++++\n",
      "1/5 [=====>........................] - ETA: 3s - loss: 0.1171 - accuracy: 0.9202+++++++++++++++++++++++++++++++++++++++++\n",
      "2/5 [===========>..................] - ETA: 2s - loss: 0.1055 - accuracy: 0.9203+++++++++++++++++++++++++++++++++++++++++\n",
      "3/5 [=================>............] - ETA: 1s - loss: 0.1072 - accuracy: 0.9204+++++++++++++++++++++++++++++++++++++++++\n",
      "4/5 [=======================>......] - ETA: 0s - loss: 0.1037 - accuracy: 0.9205+++++++++++++++++++++++++++++++++++++++++\n",
      "+++++++++++++++++++++++++++++++++++++++++\n",
      "\n",
      "Epoch 00007: val_accuracy improved from 0.92000 to 0.92063, saving model to ./data_out/seq2seq_kor/weights.h5\n",
      "5/5 [==============================] - 5s 1s/step - loss: 0.1038 - accuracy: 0.9206 - val_loss: 1.1449 - val_accuracy: 0.9206\n",
      "Epoch 8/30\n",
      "+++++++++++++++++++++++++++++++++++++++++\n",
      "1/5 [=====>........................] - ETA: 3s - loss: 0.1009 - accuracy: 0.9208+++++++++++++++++++++++++++++++++++++++++\n",
      "2/5 [===========>..................] - ETA: 2s - loss: 0.0945 - accuracy: 0.9209+++++++++++++++++++++++++++++++++++++++++\n",
      "3/5 [=================>............] - ETA: 1s - loss: 0.0935 - accuracy: 0.9210+++++++++++++++++++++++++++++++++++++++++\n",
      "4/5 [=======================>......] - ETA: 0s - loss: 0.0978 - accuracy: 0.9211+++++++++++++++++++++++++++++++++++++++++\n",
      "+++++++++++++++++++++++++++++++++++++++++\n",
      "\n",
      "Epoch 00008: val_accuracy improved from 0.92063 to 0.92118, saving model to ./data_out/seq2seq_kor/weights.h5\n",
      "5/5 [==============================] - 5s 1s/step - loss: 0.0996 - accuracy: 0.9212 - val_loss: 1.3383 - val_accuracy: 0.9212\n",
      "Epoch 9/30\n",
      "+++++++++++++++++++++++++++++++++++++++++\n",
      "1/5 [=====>........................] - ETA: 4s - loss: 0.1106 - accuracy: 0.9213+++++++++++++++++++++++++++++++++++++++++\n",
      "2/5 [===========>..................] - ETA: 3s - loss: 0.0959 - accuracy: 0.9214+++++++++++++++++++++++++++++++++++++++++\n",
      "3/5 [=================>............] - ETA: 1s - loss: 0.0993 - accuracy: 0.9215+++++++++++++++++++++++++++++++++++++++++\n",
      "4/5 [=======================>......] - ETA: 0s - loss: 0.1012 - accuracy: 0.9216+++++++++++++++++++++++++++++++++++++++++\n",
      "+++++++++++++++++++++++++++++++++++++++++\n",
      "\n",
      "Epoch 00009: val_accuracy improved from 0.92118 to 0.92175, saving model to ./data_out/seq2seq_kor/weights.h5\n",
      "5/5 [==============================] - 5s 1s/step - loss: 0.0987 - accuracy: 0.9217 - val_loss: 1.3846 - val_accuracy: 0.9217\n",
      "Epoch 10/30\n",
      "+++++++++++++++++++++++++++++++++++++++++\n",
      "1/5 [=====>........................] - ETA: 3s - loss: 0.0855 - accuracy: 0.9220+++++++++++++++++++++++++++++++++++++++++\n",
      "2/5 [===========>..................] - ETA: 2s - loss: 0.0894 - accuracy: 0.9220+++++++++++++++++++++++++++++++++++++++++\n",
      "3/5 [=================>............] - ETA: 1s - loss: 0.0937 - accuracy: 0.9221+++++++++++++++++++++++++++++++++++++++++\n",
      "4/5 [=======================>......] - ETA: 0s - loss: 0.0981 - accuracy: 0.9222+++++++++++++++++++++++++++++++++++++++++\n",
      "+++++++++++++++++++++++++++++++++++++++++\n",
      "\n",
      "Epoch 00010: val_accuracy improved from 0.92175 to 0.92235, saving model to ./data_out/seq2seq_kor/weights.h5\n",
      "5/5 [==============================] - 5s 1s/step - loss: 0.0978 - accuracy: 0.9223 - val_loss: 1.2919 - val_accuracy: 0.9223\n"
     ]
    },
    {
     "name": "stdout",
     "output_type": "stream",
     "text": [
      "Epoch 11/30\n",
      "+++++++++++++++++++++++++++++++++++++++++\n",
      "1/5 [=====>........................] - ETA: 3s - loss: 0.0752 - accuracy: 0.9225+++++++++++++++++++++++++++++++++++++++++\n",
      "2/5 [===========>..................] - ETA: 2s - loss: 0.0821 - accuracy: 0.9226+++++++++++++++++++++++++++++++++++++++++\n",
      "3/5 [=================>............] - ETA: 1s - loss: 0.0902 - accuracy: 0.9227+++++++++++++++++++++++++++++++++++++++++\n",
      "4/5 [=======================>......] - ETA: 0s - loss: 0.0935 - accuracy: 0.9228+++++++++++++++++++++++++++++++++++++++++\n",
      "+++++++++++++++++++++++++++++++++++++++++\n",
      "\n",
      "Epoch 00011: val_accuracy improved from 0.92235 to 0.92292, saving model to ./data_out/seq2seq_kor/weights.h5\n",
      "5/5 [==============================] - 5s 1s/step - loss: 0.0951 - accuracy: 0.9229 - val_loss: 1.3779 - val_accuracy: 0.9229\n",
      "Epoch 12/30\n",
      "+++++++++++++++++++++++++++++++++++++++++\n",
      "1/5 [=====>........................] - ETA: 3s - loss: 0.1009 - accuracy: 0.9231+++++++++++++++++++++++++++++++++++++++++\n",
      "2/5 [===========>..................] - ETA: 2s - loss: 0.0970 - accuracy: 0.9231+++++++++++++++++++++++++++++++++++++++++\n",
      "3/5 [=================>............] - ETA: 1s - loss: 0.0958 - accuracy: 0.9232+++++++++++++++++++++++++++++++++++++++++\n",
      "4/5 [=======================>......] - ETA: 0s - loss: 0.0923 - accuracy: 0.9233+++++++++++++++++++++++++++++++++++++++++\n",
      "+++++++++++++++++++++++++++++++++++++++++\n",
      "\n",
      "Epoch 00012: val_accuracy improved from 0.92292 to 0.92341, saving model to ./data_out/seq2seq_kor/weights.h5\n",
      "5/5 [==============================] - 5s 1s/step - loss: 0.0910 - accuracy: 0.9234 - val_loss: 1.6479 - val_accuracy: 0.9234\n",
      "Epoch 13/30\n",
      "+++++++++++++++++++++++++++++++++++++++++\n",
      "1/5 [=====>........................] - ETA: 3s - loss: 0.0679 - accuracy: 0.9237+++++++++++++++++++++++++++++++++++++++++\n",
      "2/5 [===========>..................] - ETA: 2s - loss: 0.0670 - accuracy: 0.9238+++++++++++++++++++++++++++++++++++++++++\n",
      "3/5 [=================>............] - ETA: 1s - loss: 0.0789 - accuracy: 0.9239+++++++++++++++++++++++++++++++++++++++++\n",
      "4/5 [=======================>......] - ETA: 0s - loss: 0.0878 - accuracy: 0.9239+++++++++++++++++++++++++++++++++++++++++\n",
      "+++++++++++++++++++++++++++++++++++++++++\n",
      "\n",
      "Epoch 00013: val_accuracy improved from 0.92341 to 0.92403, saving model to ./data_out/seq2seq_kor/weights.h5\n",
      "5/5 [==============================] - 5s 1s/step - loss: 0.0853 - accuracy: 0.9240 - val_loss: 1.7194 - val_accuracy: 0.9240\n",
      "Epoch 14/30\n",
      "+++++++++++++++++++++++++++++++++++++++++\n",
      "1/5 [=====>........................] - ETA: 3s - loss: 0.0707 - accuracy: 0.9242+++++++++++++++++++++++++++++++++++++++++\n",
      "2/5 [===========>..................] - ETA: 2s - loss: 0.0707 - accuracy: 0.9243+++++++++++++++++++++++++++++++++++++++++\n",
      "3/5 [=================>............] - ETA: 1s - loss: 0.0738 - accuracy: 0.9243+++++++++++++++++++++++++++++++++++++++++\n",
      "4/5 [=======================>......] - ETA: 0s - loss: 0.0825 - accuracy: 0.9244+++++++++++++++++++++++++++++++++++++++++\n",
      "+++++++++++++++++++++++++++++++++++++++++\n",
      "\n",
      "Epoch 00014: val_accuracy improved from 0.92403 to 0.92453, saving model to ./data_out/seq2seq_kor/weights.h5\n",
      "5/5 [==============================] - 5s 1s/step - loss: 0.0774 - accuracy: 0.9245 - val_loss: 1.7655 - val_accuracy: 0.9245\n",
      "Epoch 15/30\n",
      "+++++++++++++++++++++++++++++++++++++++++\n",
      "1/5 [=====>........................] - ETA: 3s - loss: 0.0600 - accuracy: 0.9248+++++++++++++++++++++++++++++++++++++++++\n",
      "2/5 [===========>..................] - ETA: 2s - loss: 0.0683 - accuracy: 0.9248+++++++++++++++++++++++++++++++++++++++++\n",
      "3/5 [=================>............] - ETA: 1s - loss: 0.0756 - accuracy: 0.9249+++++++++++++++++++++++++++++++++++++++++\n",
      "4/5 [=======================>......] - ETA: 0s - loss: 0.0743 - accuracy: 0.9250+++++++++++++++++++++++++++++++++++++++++\n",
      "+++++++++++++++++++++++++++++++++++++++++\n",
      "\n",
      "Epoch 00015: val_accuracy improved from 0.92453 to 0.92519, saving model to ./data_out/seq2seq_kor/weights.h5\n",
      "5/5 [==============================] - 6s 1s/step - loss: 0.0746 - accuracy: 0.9251 - val_loss: 1.5312 - val_accuracy: 0.9252\n",
      "Epoch 16/30\n",
      "+++++++++++++++++++++++++++++++++++++++++\n",
      "1/5 [=====>........................] - ETA: 3s - loss: 0.0606 - accuracy: 0.9254+++++++++++++++++++++++++++++++++++++++++\n",
      "2/5 [===========>..................] - ETA: 2s - loss: 0.0689 - accuracy: 0.9255+++++++++++++++++++++++++++++++++++++++++\n",
      "3/5 [=================>............] - ETA: 1s - loss: 0.0700 - accuracy: 0.9255+++++++++++++++++++++++++++++++++++++++++\n",
      "4/5 [=======================>......] - ETA: 0s - loss: 0.0712 - accuracy: 0.9256+++++++++++++++++++++++++++++++++++++++++\n",
      "+++++++++++++++++++++++++++++++++++++++++\n",
      "\n",
      "Epoch 00016: val_accuracy improved from 0.92519 to 0.92583, saving model to ./data_out/seq2seq_kor/weights.h5\n",
      "5/5 [==============================] - 5s 1s/step - loss: 0.0690 - accuracy: 0.9257 - val_loss: 1.5043 - val_accuracy: 0.9258\n",
      "Epoch 17/30\n",
      "+++++++++++++++++++++++++++++++++++++++++\n",
      "1/5 [=====>........................] - ETA: 3s - loss: 0.0336 - accuracy: 0.9261+++++++++++++++++++++++++++++++++++++++++\n",
      "2/5 [===========>..................] - ETA: 2s - loss: 0.0536 - accuracy: 0.9261+++++++++++++++++++++++++++++++++++++++++\n",
      "3/5 [=================>............] - ETA: 1s - loss: 0.0581 - accuracy: 0.9262+++++++++++++++++++++++++++++++++++++++++\n",
      "4/5 [=======================>......] - ETA: 0s - loss: 0.0616 - accuracy: 0.9263+++++++++++++++++++++++++++++++++++++++++\n",
      "+++++++++++++++++++++++++++++++++++++++++\n",
      "\n",
      "Epoch 00017: val_accuracy improved from 0.92583 to 0.92635, saving model to ./data_out/seq2seq_kor/weights.h5\n",
      "5/5 [==============================] - 5s 1s/step - loss: 0.0656 - accuracy: 0.9264 - val_loss: 1.8392 - val_accuracy: 0.9263\n",
      "Epoch 18/30\n",
      "+++++++++++++++++++++++++++++++++++++++++\n",
      "1/5 [=====>........................] - ETA: 3s - loss: 0.0616 - accuracy: 0.9266+++++++++++++++++++++++++++++++++++++++++\n",
      "2/5 [===========>..................] - ETA: 2s - loss: 0.0635 - accuracy: 0.9266+++++++++++++++++++++++++++++++++++++++++\n",
      "3/5 [=================>............] - ETA: 1s - loss: 0.0707 - accuracy: 0.9267+++++++++++++++++++++++++++++++++++++++++\n",
      "4/5 [=======================>......] - ETA: 0s - loss: 0.0635 - accuracy: 0.9268+++++++++++++++++++++++++++++++++++++++++\n",
      "+++++++++++++++++++++++++++++++++++++++++\n",
      "\n",
      "Epoch 00018: val_accuracy improved from 0.92635 to 0.92685, saving model to ./data_out/seq2seq_kor/weights.h5\n",
      "5/5 [==============================] - 5s 1s/step - loss: 0.0591 - accuracy: 0.9269 - val_loss: 1.8333 - val_accuracy: 0.9268\n",
      "Epoch 19/30\n",
      "+++++++++++++++++++++++++++++++++++++++++\n",
      "1/5 [=====>........................] - ETA: 3s - loss: 0.0209 - accuracy: 0.9271+++++++++++++++++++++++++++++++++++++++++\n",
      "2/5 [===========>..................] - ETA: 2s - loss: 0.0322 - accuracy: 0.9272+++++++++++++++++++++++++++++++++++++++++\n",
      "3/5 [=================>............] - ETA: 1s - loss: 0.0380 - accuracy: 0.9273+++++++++++++++++++++++++++++++++++++++++\n",
      "4/5 [=======================>......] - ETA: 0s - loss: 0.0425 - accuracy: 0.9274+++++++++++++++++++++++++++++++++++++++++\n",
      "+++++++++++++++++++++++++++++++++++++++++\n",
      "\n",
      "Epoch 00019: val_accuracy improved from 0.92685 to 0.92772, saving model to ./data_out/seq2seq_kor/weights.h5\n",
      "5/5 [==============================] - 5s 1s/step - loss: 0.0493 - accuracy: 0.9275 - val_loss: 1.2300 - val_accuracy: 0.9277\n",
      "Epoch 20/30\n",
      "+++++++++++++++++++++++++++++++++++++++++\n",
      "1/5 [=====>........................] - ETA: 3s - loss: 0.0423 - accuracy: 0.9280+++++++++++++++++++++++++++++++++++++++++\n",
      "2/5 [===========>..................] - ETA: 2s - loss: 0.0417 - accuracy: 0.9281+++++++++++++++++++++++++++++++++++++++++\n",
      "3/5 [=================>............] - ETA: 1s - loss: 0.0488 - accuracy: 0.9281+++++++++++++++++++++++++++++++++++++++++\n",
      "4/5 [=======================>......] - ETA: 0s - loss: 0.0411 - accuracy: 0.9283+++++++++++++++++++++++++++++++++++++++++\n",
      "+++++++++++++++++++++++++++++++++++++++++\n",
      "\n",
      "Epoch 00020: val_accuracy improved from 0.92772 to 0.92843, saving model to ./data_out/seq2seq_kor/weights.h5\n",
      "5/5 [==============================] - 5s 1s/step - loss: 0.0435 - accuracy: 0.9284 - val_loss: 1.5994 - val_accuracy: 0.9284\n"
     ]
    },
    {
     "name": "stdout",
     "output_type": "stream",
     "text": [
      "Epoch 21/30\n",
      "+++++++++++++++++++++++++++++++++++++++++\n",
      "1/5 [=====>........................] - ETA: 3s - loss: 0.0476 - accuracy: 0.9287+++++++++++++++++++++++++++++++++++++++++\n",
      "2/5 [===========>..................] - ETA: 3s - loss: 0.0398 - accuracy: 0.9288+++++++++++++++++++++++++++++++++++++++++\n",
      "3/5 [=================>............] - ETA: 1s - loss: 0.0308 - accuracy: 0.9289+++++++++++++++++++++++++++++++++++++++++\n",
      "4/5 [=======================>......] - ETA: 0s - loss: 0.0304 - accuracy: 0.9290+++++++++++++++++++++++++++++++++++++++++\n",
      "+++++++++++++++++++++++++++++++++++++++++\n",
      "\n",
      "Epoch 00021: val_accuracy improved from 0.92843 to 0.92916, saving model to ./data_out/seq2seq_kor/weights.h5\n",
      "5/5 [==============================] - 5s 1s/step - loss: 0.0284 - accuracy: 0.9291 - val_loss: 1.5382 - val_accuracy: 0.9292\n",
      "Epoch 22/30\n",
      "+++++++++++++++++++++++++++++++++++++++++\n",
      "1/5 [=====>........................] - ETA: 3s - loss: 0.0146 - accuracy: 0.9294+++++++++++++++++++++++++++++++++++++++++\n",
      "2/5 [===========>..................] - ETA: 2s - loss: 0.0195 - accuracy: 0.9295+++++++++++++++++++++++++++++++++++++++++\n",
      "3/5 [=================>............] - ETA: 1s - loss: 0.0210 - accuracy: 0.9296+++++++++++++++++++++++++++++++++++++++++\n",
      "4/5 [=======================>......] - ETA: 0s - loss: 0.0248 - accuracy: 0.9297+++++++++++++++++++++++++++++++++++++++++\n",
      "+++++++++++++++++++++++++++++++++++++++++\n",
      "\n",
      "Epoch 00022: val_accuracy improved from 0.92916 to 0.92998, saving model to ./data_out/seq2seq_kor/weights.h5\n",
      "5/5 [==============================] - 5s 1s/step - loss: 0.0221 - accuracy: 0.9298 - val_loss: 1.4998 - val_accuracy: 0.9300\n",
      "Epoch 23/30\n",
      "+++++++++++++++++++++++++++++++++++++++++\n",
      "1/5 [=====>........................] - ETA: 3s - loss: 0.0162 - accuracy: 0.9302+++++++++++++++++++++++++++++++++++++++++\n",
      "2/5 [===========>..................] - ETA: 2s - loss: 0.0115 - accuracy: 0.9303+++++++++++++++++++++++++++++++++++++++++\n",
      "3/5 [=================>............] - ETA: 1s - loss: 0.0134 - accuracy: 0.9304+++++++++++++++++++++++++++++++++++++++++\n",
      "4/5 [=======================>......] - ETA: 0s - loss: 0.0181 - accuracy: 0.9305+++++++++++++++++++++++++++++++++++++++++\n",
      "+++++++++++++++++++++++++++++++++++++++++\n",
      "\n",
      "Epoch 00023: val_accuracy improved from 0.92998 to 0.93089, saving model to ./data_out/seq2seq_kor/weights.h5\n",
      "5/5 [==============================] - 5s 1s/step - loss: 0.0193 - accuracy: 0.9306 - val_loss: 1.1868 - val_accuracy: 0.9309\n",
      "Epoch 24/30\n",
      "+++++++++++++++++++++++++++++++++++++++++\n",
      "1/5 [=====>........................] - ETA: 3s - loss: 0.0038 - accuracy: 0.9311+++++++++++++++++++++++++++++++++++++++++\n",
      "2/5 [===========>..................] - ETA: 3s - loss: 0.0083 - accuracy: 0.9312+++++++++++++++++++++++++++++++++++++++++\n",
      "3/5 [=================>............] - ETA: 1s - loss: 0.0071 - accuracy: 0.9313+++++++++++++++++++++++++++++++++++++++++\n",
      "4/5 [=======================>......] - ETA: 0s - loss: 0.0112 - accuracy: 0.9314+++++++++++++++++++++++++++++++++++++++++\n",
      "+++++++++++++++++++++++++++++++++++++++++\n",
      "\n",
      "Epoch 00024: val_accuracy improved from 0.93089 to 0.93170, saving model to ./data_out/seq2seq_kor/weights.h5\n",
      "5/5 [==============================] - 5s 1s/step - loss: 0.0106 - accuracy: 0.9315 - val_loss: 1.5807 - val_accuracy: 0.9317\n",
      "Epoch 25/30\n",
      "+++++++++++++++++++++++++++++++++++++++++\n",
      "1/5 [=====>........................] - ETA: 3s - loss: 0.0069 - accuracy: 0.9319+++++++++++++++++++++++++++++++++++++++++\n",
      "2/5 [===========>..................] - ETA: 2s - loss: 0.0071 - accuracy: 0.9320+++++++++++++++++++++++++++++++++++++++++\n",
      "3/5 [=================>............] - ETA: 1s - loss: 0.0079 - accuracy: 0.9321+++++++++++++++++++++++++++++++++++++++++\n",
      "4/5 [=======================>......] - ETA: 0s - loss: 0.0066 - accuracy: 0.9322+++++++++++++++++++++++++++++++++++++++++\n",
      "+++++++++++++++++++++++++++++++++++++++++\n",
      "\n",
      "Epoch 00025: val_accuracy improved from 0.93170 to 0.93243, saving model to ./data_out/seq2seq_kor/weights.h5\n",
      "5/5 [==============================] - 5s 1s/step - loss: 0.0057 - accuracy: 0.9323 - val_loss: 1.7048 - val_accuracy: 0.9324\n",
      "Epoch 26/30\n",
      "+++++++++++++++++++++++++++++++++++++++++\n",
      "1/5 [=====>........................] - ETA: 3s - loss: 0.0090 - accuracy: 0.9326+++++++++++++++++++++++++++++++++++++++++\n",
      "2/5 [===========>..................] - ETA: 2s - loss: 0.0065 - accuracy: 0.9327+++++++++++++++++++++++++++++++++++++++++\n",
      "3/5 [=================>............] - ETA: 1s - loss: 0.0047 - accuracy: 0.9328+++++++++++++++++++++++++++++++++++++++++\n",
      "4/5 [=======================>......] - ETA: 0s - loss: 0.0045 - accuracy: 0.9329+++++++++++++++++++++++++++++++++++++++++\n",
      "+++++++++++++++++++++++++++++++++++++++++\n",
      "\n",
      "Epoch 00026: val_accuracy improved from 0.93243 to 0.93326, saving model to ./data_out/seq2seq_kor/weights.h5\n",
      "5/5 [==============================] - 5s 1s/step - loss: 0.0037 - accuracy: 0.9330 - val_loss: 1.2875 - val_accuracy: 0.9333\n",
      "Epoch 27/30\n",
      "+++++++++++++++++++++++++++++++++++++++++\n",
      "1/5 [=====>........................] - ETA: 3s - loss: 0.0022 - accuracy: 0.9334+++++++++++++++++++++++++++++++++++++++++\n",
      "2/5 [===========>..................] - ETA: 2s - loss: 0.0023 - accuracy: 0.9335+++++++++++++++++++++++++++++++++++++++++\n",
      "3/5 [=================>............] - ETA: 1s - loss: 0.0022 - accuracy: 0.9336+++++++++++++++++++++++++++++++++++++++++\n",
      "4/5 [=======================>......] - ETA: 0s - loss: 0.0019 - accuracy: 0.9337+++++++++++++++++++++++++++++++++++++++++\n",
      "+++++++++++++++++++++++++++++++++++++++++\n",
      "\n",
      "Epoch 00027: val_accuracy improved from 0.93326 to 0.93405, saving model to ./data_out/seq2seq_kor/weights.h5\n",
      "5/5 [==============================] - 5s 1s/step - loss: 0.0019 - accuracy: 0.9338 - val_loss: 1.2842 - val_accuracy: 0.9341\n",
      "Epoch 28/30\n",
      "+++++++++++++++++++++++++++++++++++++++++\n",
      "1/5 [=====>........................] - ETA: 4s - loss: 0.0025 - accuracy: 0.9342+++++++++++++++++++++++++++++++++++++++++\n",
      "2/5 [===========>..................] - ETA: 3s - loss: 0.0016 - accuracy: 0.9343+++++++++++++++++++++++++++++++++++++++++\n",
      "3/5 [=================>............] - ETA: 1s - loss: 0.0015 - accuracy: 0.9344+++++++++++++++++++++++++++++++++++++++++\n",
      "4/5 [=======================>......] - ETA: 0s - loss: 0.0014 - accuracy: 0.9345+++++++++++++++++++++++++++++++++++++++++\n",
      "+++++++++++++++++++++++++++++++++++++++++\n",
      "\n",
      "Epoch 00028: val_accuracy improved from 0.93405 to 0.93475, saving model to ./data_out/seq2seq_kor/weights.h5\n",
      "5/5 [==============================] - 5s 1s/step - loss: 0.0014 - accuracy: 0.9346 - val_loss: 1.6640 - val_accuracy: 0.9347\n",
      "Epoch 29/30\n",
      "+++++++++++++++++++++++++++++++++++++++++\n",
      "1/5 [=====>........................] - ETA: 3s - loss: 8.9842e-04 - accuracy: 0.9349+++++++++++++++++++++++++++++++++++++++++\n",
      "2/5 [===========>..................] - ETA: 2s - loss: 9.7261e-04 - accuracy: 0.9350+++++++++++++++++++++++++++++++++++++++++\n",
      "3/5 [=================>............] - ETA: 1s - loss: 0.0011 - accuracy: 0.9351    +++++++++++++++++++++++++++++++++++++++++\n",
      "4/5 [=======================>......] - ETA: 0s - loss: 0.0013 - accuracy: 0.9352+++++++++++++++++++++++++++++++++++++++++\n",
      "+++++++++++++++++++++++++++++++++++++++++\n",
      "\n",
      "Epoch 00029: val_accuracy improved from 0.93475 to 0.93542, saving model to ./data_out/seq2seq_kor/weights.h5\n",
      "5/5 [==============================] - 5s 1s/step - loss: 0.0013 - accuracy: 0.9353 - val_loss: 1.6571 - val_accuracy: 0.9354\n",
      "Epoch 30/30\n",
      "+++++++++++++++++++++++++++++++++++++++++\n",
      "1/5 [=====>........................] - ETA: 3s - loss: 8.1523e-04 - accuracy: 0.9356+++++++++++++++++++++++++++++++++++++++++\n",
      "2/5 [===========>..................] - ETA: 2s - loss: 0.0012 - accuracy: 0.9357    +++++++++++++++++++++++++++++++++++++++++\n",
      "3/5 [=================>............] - ETA: 1s - loss: 0.0011 - accuracy: 0.9358+++++++++++++++++++++++++++++++++++++++++\n",
      "4/5 [=======================>......] - ETA: 0s - loss: 0.0010 - accuracy: 0.9359+++++++++++++++++++++++++++++++++++++++++\n",
      "+++++++++++++++++++++++++++++++++++++++++\n",
      "\n",
      "Epoch 00030: val_accuracy improved from 0.93542 to 0.93614, saving model to ./data_out/seq2seq_kor/weights.h5\n",
      "5/5 [==============================] - 5s 1s/step - loss: 0.0010 - accuracy: 0.9359 - val_loss: 1.2764 - val_accuracy: 0.9361\n"
     ]
    }
   ],
   "source": [
    "PATH = DATA_OUT_PATH + MODEL_NAME\n",
    "if not(os.path.isdir(PATH)):\n",
    "        os.makedirs(os.path.join(PATH))\n",
    "        \n",
    "checkpoint_path = DATA_OUT_PATH + MODEL_NAME + '/weights.h5'\n",
    "    \n",
    "cp_callback = ModelCheckpoint(\n",
    "    checkpoint_path, monitor='val_accuracy', verbose=1, save_best_only=True, save_weights_only=True)\n",
    "\n",
    "earlystop_callback = EarlyStopping(monitor='val_accuracy', min_delta=0.0001, patience=1)\n",
    "\n",
    "# history = model.fit([index_inputs, index_outputs], index_targets,\n",
    "#                     batch_size=BATCH_SIZE, epochs=EPOCH,\n",
    "#                     validation_split=VALIDATION_SPLIT, callbacks=[earlystop_callback, cp_callback])\n",
    "# history = model.fit(dataset, epochs=EPOCH, steps_per_epoch=steps_per_epoch)\n",
    "#history = model.fit(dataset, epochs=EPOCH, steps_per_epoch=steps_per_epoch)\n",
    "# history = model.fit(train_dataset, epochs=EPOCH, steps_per_epoch=steps_per_epochs, validation_data=eval_dataset, \n",
    "#                    callbacks=[earlystop_callback, cp_callback])\n",
    "history = model.fit(train_dataset, epochs=EPOCH, validation_data=eval_dataset, callbacks=[cp_callback])"
   ]
  },
  {
   "cell_type": "markdown",
   "metadata": {},
   "source": [
    "## 결과 플롯"
   ]
  },
  {
   "cell_type": "code",
   "execution_count": 30,
   "metadata": {},
   "outputs": [
    {
     "data": {
      "image/png": "[encoded data removed]",
      "text/plain": [
       "<Figure size 432x288 with 1 Axes>"
      ]
     },
     "metadata": {
      "needs_background": "light"
     },
     "output_type": "display_data"
    }
   ],
   "source": [
    "plot_graphs(history, 'accuracy')"
   ]
  },
  {
   "cell_type": "code",
   "execution_count": 31,
   "metadata": {},
   "outputs": [
    {
     "data": {
      "image/png": "[encoded data removed]",
      "text/plain": [
       "<Figure size 432x288 with 1 Axes>"
      ]
     },
     "metadata": {
      "needs_background": "light"
     },
     "output_type": "display_data"
    }
   ],
   "source": [
    "plot_graphs(history, 'loss')"
   ]
  },
  {
   "cell_type": "markdown",
   "metadata": {},
   "source": [
    "### Evaluate"
   ]
  },
  {
   "cell_type": "code",
   "execution_count": 32,
   "metadata": {},
   "outputs": [],
   "source": [
    "SAVE_FILE_NM = \"weights.h5\"\n",
    "model.load_weights(os.path.join(DATA_OUT_PATH, MODEL_NAME, SAVE_FILE_NM))"
   ]
  },
  {
   "cell_type": "code",
   "execution_count": 33,
   "metadata": {},
   "outputs": [
    {
     "name": "stdout",
     "output_type": "stream",
     "text": [
      "[105  96  14  51]\n",
      "평소에 필요한 것 생각해보세요\n"
     ]
    }
   ],
   "source": [
    "query = \"남자친구 승진 선물로 뭐가 좋을까?\"\n",
    "\n",
    "test_index_inputs, _ = enc_processing([query], char2idx)    \n",
    "predict_tokens = model.inference(test_index_inputs)\n",
    "print(predict_tokens)\n",
    "\n",
    "print(' '.join([idx2char[str(t)] for t in predict_tokens]))"
   ]
  },
  {
   "cell_type": "code",
   "execution_count": null,
   "metadata": {},
   "outputs": [],
   "source": []
  }
 ],
 "metadata": {
  "kernelspec": {
   "display_name": "Python 3",
   "language": "python",
   "name": "python3"
  },
  "language_info": {
   "codemirror_mode": {
    "name": "ipython",
    "version": 3
   },
   "file_extension": ".py",
   "mimetype": "text/x-python",
   "name": "python",
   "nbconvert_exporter": "python",
   "pygments_lexer": "ipython3",
   "version": "3.7.5"
  }
 },
 "nbformat": 4,
 "nbformat_minor": 4
}
