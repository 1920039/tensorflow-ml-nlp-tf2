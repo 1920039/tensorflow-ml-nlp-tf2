{
 "cells": [
  {
   "cell_type": "markdown",
   "metadata": {},
   "source": [
    "# 패키지 불러오기"
   ]
  },
  {
   "cell_type": "code",
   "execution_count": 1,
   "metadata": {},
   "outputs": [],
   "source": [
    "import tensorflow as tf\n",
    "import numpy as np\n",
    "import os\n",
    "\n",
    "from tensorflow.keras.callbacks import EarlyStopping, ModelCheckpoint\n",
    "import matplotlib.pyplot as plt\n",
    "\n",
    "from preprocess import *"
   ]
  },
  {
   "cell_type": "markdown",
   "metadata": {},
   "source": [
    "# 시각화 함수"
   ]
  },
  {
   "cell_type": "code",
   "execution_count": 2,
   "metadata": {},
   "outputs": [],
   "source": [
    "def plot_graphs(history, string):\n",
    "    plt.plot(history.history[string])\n",
    "    plt.plot(history.history['val_'+string], '')\n",
    "    plt.xlabel(\"Epochs\")\n",
    "    plt.ylabel(string)\n",
    "    plt.legend([string, 'val_'+string])\n",
    "    plt.show()"
   ]
  },
  {
   "cell_type": "markdown",
   "metadata": {},
   "source": [
    "# 학습 데이터 경로 정의"
   ]
  },
  {
   "cell_type": "code",
   "execution_count": 3,
   "metadata": {},
   "outputs": [],
   "source": [
    "DATA_IN_PATH = './data_in/'\n",
    "DATA_OUT_PATH = './data_out/'\n",
    "TRAIN_INPUTS = 'train_inputs.npy'\n",
    "TRAIN_OUTPUTS = 'train_outputs.npy'\n",
    "TRAIN_TARGETS = 'train_targets.npy'\n",
    "DATA_CONFIGS = 'data_configs.json'"
   ]
  },
  {
   "cell_type": "markdown",
   "metadata": {},
   "source": [
    "# 랜덤 시드 고정"
   ]
  },
  {
   "cell_type": "code",
   "execution_count": 4,
   "metadata": {},
   "outputs": [],
   "source": [
    "SEED_NUM = 1234\n",
    "tf.random.set_seed(SEED_NUM)"
   ]
  },
  {
   "cell_type": "markdown",
   "metadata": {},
   "source": [
    "# 파일 로드"
   ]
  },
  {
   "cell_type": "code",
   "execution_count": 5,
   "metadata": {},
   "outputs": [],
   "source": [
    "index_inputs = np.load(open(DATA_IN_PATH + TRAIN_INPUTS, 'rb'))\n",
    "index_outputs = np.load(open(DATA_IN_PATH + TRAIN_OUTPUTS , 'rb'))\n",
    "index_targets = np.load(open(DATA_IN_PATH + TRAIN_TARGETS , 'rb'))\n",
    "prepro_configs = json.load(open(DATA_IN_PATH + DATA_CONFIGS, 'r'))"
   ]
  },
  {
   "cell_type": "code",
   "execution_count": 6,
   "metadata": {},
   "outputs": [
    {
     "name": "stdout",
     "output_type": "stream",
     "text": [
      "20 20 20\n"
     ]
    }
   ],
   "source": [
    "# Show length\n",
    "print(len(index_inputs),  len(index_outputs), len(index_targets))"
   ]
  },
  {
   "cell_type": "markdown",
   "metadata": {},
   "source": [
    "## 모델 만들기에 필요한 값 선언"
   ]
  },
  {
   "cell_type": "code",
   "execution_count": 7,
   "metadata": {},
   "outputs": [],
   "source": [
    "MODEL_NAME = 'seq2seq_kor'\n",
    "BATCH_SIZE = 2\n",
    "MAX_SEQUENCE = 25\n",
    "EPOCH = 30\n",
    "UNITS = 1024\n",
    "EMBEDDING_DIM = 256\n",
    "VALIDATION_SPLIT = 0.1 \n",
    "\n",
    "char2idx = prepro_configs['char2idx']\n",
    "idx2char = prepro_configs['idx2char']\n",
    "std_index = prepro_configs['std_symbol']\n",
    "end_index = prepro_configs['end_symbol']\n",
    "vocab_size = prepro_configs['vocab_size']"
   ]
  },
  {
   "cell_type": "markdown",
   "metadata": {},
   "source": [
    "# 모델 "
   ]
  },
  {
   "cell_type": "markdown",
   "metadata": {},
   "source": [
    "## 인코더"
   ]
  },
  {
   "cell_type": "code",
   "execution_count": 8,
   "metadata": {},
   "outputs": [],
   "source": [
    "class Encoder(tf.keras.layers.Layer):\n",
    "    def __init__(self, vocab_size, embedding_dim, enc_units, batch_sz):\n",
    "        super(Encoder, self).__init__()\n",
    "        self.batch_sz = batch_sz\n",
    "        self.enc_units = enc_units\n",
    "        self.vocab_size = vocab_size \n",
    "        self.embedding_dim = embedding_dim          \n",
    "        \n",
    "        self.embedding = tf.keras.layers.Embedding(self.vocab_size, self.embedding_dim)\n",
    "        self.gru = tf.keras.layers.GRU(self.enc_units,\n",
    "                                       return_sequences=True,\n",
    "                                       return_state=True,\n",
    "                                       recurrent_initializer='glorot_uniform')\n",
    "\n",
    "    def call(self, x, hidden):\n",
    "        x = self.embedding(x)\n",
    "        output, state = self.gru(x, initial_state = hidden)\n",
    "        return output, state\n",
    "\n",
    "    def initialize_hidden_state(self, inp):\n",
    "        return tf.zeros((tf.shape(inp)[0], self.enc_units))"
   ]
  },
  {
   "cell_type": "markdown",
   "metadata": {},
   "source": [
    "## 어텐션"
   ]
  },
  {
   "cell_type": "code",
   "execution_count": 9,
   "metadata": {},
   "outputs": [],
   "source": [
    "class BahdanauAttention(tf.keras.layers.Layer):\n",
    "    def __init__(self, units):\n",
    "        super(BahdanauAttention, self).__init__()\n",
    "        self.W1 = tf.keras.layers.Dense(units)\n",
    "        self.W2 = tf.keras.layers.Dense(units)\n",
    "        self.V = tf.keras.layers.Dense(1)\n",
    "\n",
    "    def call(self, query, values):\n",
    "        hidden_with_time_axis = tf.expand_dims(query, 1)\n",
    "\n",
    "        score = self.V(tf.nn.tanh(\n",
    "            self.W1(values) + self.W2(hidden_with_time_axis)))\n",
    "\n",
    "        attention_weights = tf.nn.softmax(score, axis=1)\n",
    "\n",
    "        context_vector = attention_weights * values\n",
    "        context_vector = tf.reduce_sum(context_vector, axis=1)\n",
    "\n",
    "        return context_vector, attention_weights"
   ]
  },
  {
   "cell_type": "markdown",
   "metadata": {},
   "source": [
    "## 디코더"
   ]
  },
  {
   "cell_type": "code",
   "execution_count": 10,
   "metadata": {},
   "outputs": [],
   "source": [
    "class Decoder(tf.keras.layers.Layer):\n",
    "    def __init__(self, vocab_size, embedding_dim, dec_units, batch_sz):\n",
    "        super(Decoder, self).__init__()\n",
    "        \n",
    "        self.batch_sz = batch_sz\n",
    "        self.dec_units = dec_units\n",
    "        self.vocab_size = vocab_size \n",
    "        self.embedding_dim = embedding_dim  \n",
    "        \n",
    "        self.embedding = tf.keras.layers.Embedding(self.vocab_size, self.embedding_dim)\n",
    "        self.gru = tf.keras.layers.GRU(self.dec_units,\n",
    "                                       return_sequences=True,\n",
    "                                       return_state=True,\n",
    "                                       recurrent_initializer='glorot_uniform')\n",
    "        self.fc = tf.keras.layers.Dense(self.vocab_size)\n",
    "\n",
    "        self.attention = BahdanauAttention(self.dec_units)\n",
    "        \n",
    "    def call(self, x, hidden, enc_output):\n",
    "        context_vector, attention_weights = self.attention(hidden, enc_output)\n",
    "\n",
    "        x = self.embedding(x)\n",
    "\n",
    "        x = tf.concat([tf.expand_dims(context_vector, 1), x], axis=-1)\n",
    "\n",
    "        output, state = self.gru(x)\n",
    "        output = tf.reshape(output, (-1, output.shape[2]))\n",
    "            \n",
    "        x = self.fc(output)\n",
    "        \n",
    "        return x, state, attention_weights"
   ]
  },
  {
   "cell_type": "code",
   "execution_count": 11,
   "metadata": {},
   "outputs": [],
   "source": [
    "optimizer = tf.keras.optimizers.Adam()\n",
    "\n",
    "loss_object = tf.keras.losses.SparseCategoricalCrossentropy(from_logits=True, reduction='none')\n",
    "\n",
    "train_accuracy = tf.keras.metrics.SparseCategoricalAccuracy(name='accuracy')\n",
    "\n",
    "def loss(real, pred):\n",
    "    mask = tf.math.logical_not(tf.math.equal(real, 0))\n",
    "    loss_ = loss_object(real, pred)\n",
    "    mask = tf.cast(mask, dtype=loss_.dtype)\n",
    "    loss_ *= mask\n",
    "    return tf.reduce_mean(loss_)\n",
    "\n",
    "def accuracy(real, pred):\n",
    "    mask = tf.math.logical_not(tf.math.equal(real, 0))\n",
    "    mask = tf.expand_dims(tf.cast(mask, dtype=pred.dtype), axis=-1)\n",
    "    pred *= mask    \n",
    "    acc = train_accuracy(real, pred)\n",
    "\n",
    "    return tf.reduce_mean(acc)"
   ]
  },
  {
   "cell_type": "markdown",
   "metadata": {},
   "source": [
    "## 시퀀스 투 스퀀스 모델"
   ]
  },
  {
   "cell_type": "code",
   "execution_count": 12,
   "metadata": {},
   "outputs": [],
   "source": [
    "class seq2seq(tf.keras.Model):\n",
    "    def __init__(self, vocab_size, embedding_dim, enc_units, dec_units, batch_sz, end_token_idx=2):    \n",
    "        super(seq2seq, self).__init__()\n",
    "        self.end_token_idx = end_token_idx\n",
    "        self.encoder = Encoder(vocab_size, embedding_dim, enc_units, batch_sz) \n",
    "        self.decoder = Decoder(vocab_size, embedding_dim, dec_units, batch_sz) \n",
    "\n",
    "    def call(self, x):\n",
    "        inp, tar = x\n",
    "        \n",
    "        enc_hidden = self.encoder.initialize_hidden_state(inp)\n",
    "        enc_output, enc_hidden = self.encoder(inp, enc_hidden)\n",
    "\n",
    "        dec_hidden = enc_hidden\n",
    "\n",
    "        predict_tokens = list()\n",
    "        for t in range(0, tar.shape[1]):\n",
    "            dec_input = tf.dtypes.cast(tf.expand_dims(tar[:, t], 1), tf.float32) \n",
    "            predictions, dec_hidden, _ = self.decoder(dec_input, dec_hidden, enc_output)\n",
    "            predict_tokens.append(tf.dtypes.cast(predictions, tf.float32))   \n",
    "        return tf.stack(predict_tokens, axis=1)\n",
    "    \n",
    "    def inference(self, x):\n",
    "        inp  = x\n",
    "\n",
    "        enc_hidden = self.encoder.initialize_hidden_state(inp)\n",
    "        enc_output, enc_hidden = self.encoder(inp, enc_hidden)\n",
    "\n",
    "        dec_hidden = enc_hidden\n",
    "        \n",
    "        dec_input = tf.expand_dims([char2idx[std_index]], 1)\n",
    "        \n",
    "        predict_tokens = list()\n",
    "        for t in range(0, MAX_SEQUENCE):\n",
    "            predictions, dec_hidden, _ = self.decoder(dec_input, dec_hidden, enc_output)\n",
    "            predict_token = tf.argmax(predictions[0])\n",
    "            \n",
    "            if predict_token == self.end_token_idx:\n",
    "                break\n",
    "            \n",
    "            predict_tokens.append(predict_token)\n",
    "            dec_input = tf.dtypes.cast(tf.expand_dims([predict_token], 0), tf.float32)   \n",
    "            \n",
    "        return tf.stack(predict_tokens, axis=0).numpy()"
   ]
  },
  {
   "cell_type": "code",
   "execution_count": 13,
   "metadata": {},
   "outputs": [],
   "source": [
    "model = seq2seq(vocab_size, EMBEDDING_DIM, UNITS, UNITS, BATCH_SIZE, char2idx[end_index])\n",
    "model.compile(loss=loss, optimizer=tf.keras.optimizers.Adam(1e-3), metrics=[accuracy])\n",
    "model.run_eagerly = True"
   ]
  },
  {
   "cell_type": "markdown",
   "metadata": {},
   "source": [
    "## 학습 진행"
   ]
  },
  {
   "cell_type": "code",
   "execution_count": null,
   "metadata": {
    "scrolled": true
   },
   "outputs": [
    {
     "name": "stdout",
     "output_type": "stream",
     "text": [
      "Train on 18 samples, validate on 2 samples\n",
      "Epoch 1/30\n",
      "16/18 [=========================>....] - ETA: 0s - loss: 0.5438 - accuracy: 0.8575\n",
      "Epoch 00001: val_accuracy improved from -inf to 0.85800, saving model to ./data_out/seq2seq_kor/weights.h5\n",
      "18/18 [==============================] - 9s 526ms/sample - loss: 0.5738 - accuracy: 0.8575 - val_loss: 0.4947 - val_accuracy: 0.8580\n",
      "Epoch 2/30\n",
      "16/18 [=========================>....] - ETA: 1s - loss: 0.5180 - accuracy: 0.8578\n",
      "Epoch 00002: val_accuracy improved from 0.85800 to 0.85857, saving model to ./data_out/seq2seq_kor/weights.h5\n",
      "18/18 [==============================] - 10s 539ms/sample - loss: 0.5254 - accuracy: 0.8578 - val_loss: 0.4647 - val_accuracy: 0.8586\n",
      "Epoch 3/30\n",
      "16/18 [=========================>....] - ETA: 0s - loss: 0.4818 - accuracy: 0.8582\n",
      "Epoch 00003: val_accuracy improved from 0.85857 to 0.85950, saving model to ./data_out/seq2seq_kor/weights.h5\n",
      "18/18 [==============================] - 9s 515ms/sample - loss: 0.4759 - accuracy: 0.8583 - val_loss: 0.4178 - val_accuracy: 0.8595\n",
      "Epoch 4/30\n",
      "16/18 [=========================>....] - ETA: 0s - loss: 0.4067 - accuracy: 0.8611\n",
      "Epoch 00004: val_accuracy improved from 0.85950 to 0.86356, saving model to ./data_out/seq2seq_kor/weights.h5\n",
      "18/18 [==============================] - 9s 523ms/sample - loss: 0.4185 - accuracy: 0.8614 - val_loss: 0.4077 - val_accuracy: 0.8636\n",
      "Epoch 5/30\n",
      "16/18 [=========================>....] - ETA: 0s - loss: 0.3607 - accuracy: 0.8659\n",
      "Epoch 00005: val_accuracy improved from 0.86356 to 0.86800, saving model to ./data_out/seq2seq_kor/weights.h5\n",
      "18/18 [==============================] - 9s 521ms/sample - loss: 0.3684 - accuracy: 0.8661 - val_loss: 0.3571 - val_accuracy: 0.8680\n",
      "Epoch 6/30\n",
      "16/18 [=========================>....] - ETA: 0s - loss: 0.3232 - accuracy: 0.8712\n",
      "Epoch 00006: val_accuracy improved from 0.86800 to 0.87418, saving model to ./data_out/seq2seq_kor/weights.h5\n",
      "18/18 [==============================] - 9s 515ms/sample - loss: 0.3200 - accuracy: 0.8714 - val_loss: 0.2874 - val_accuracy: 0.8742\n",
      "Epoch 7/30\n",
      "16/18 [=========================>....] - ETA: 0s - loss: 0.2827 - accuracy: 0.8774\n",
      "Epoch 00007: val_accuracy improved from 0.87418 to 0.88067, saving model to ./data_out/seq2seq_kor/weights.h5\n",
      "18/18 [==============================] - 9s 524ms/sample - loss: 0.2813 - accuracy: 0.8777 - val_loss: 0.2738 - val_accuracy: 0.8807\n",
      "Epoch 8/30\n",
      "16/18 [=========================>....] - ETA: 0s - loss: 0.2217 - accuracy: 0.8836\n",
      "Epoch 00008: val_accuracy improved from 0.88067 to 0.88677, saving model to ./data_out/seq2seq_kor/weights.h5\n",
      "18/18 [==============================] - 9s 522ms/sample - loss: 0.2307 - accuracy: 0.8839 - val_loss: 0.2168 - val_accuracy: 0.8868\n",
      "Epoch 9/30\n",
      "16/18 [=========================>....] - ETA: 0s - loss: 0.2084 - accuracy: 0.8889\n",
      "Epoch 00009: val_accuracy improved from 0.88677 to 0.89171, saving model to ./data_out/seq2seq_kor/weights.h5\n",
      "18/18 [==============================] - 9s 512ms/sample - loss: 0.2101 - accuracy: 0.8892 - val_loss: 0.1821 - val_accuracy: 0.8917\n",
      "Epoch 10/30\n",
      "16/18 [=========================>....] - ETA: 0s - loss: 0.1667 - accuracy: 0.8939\n",
      "Epoch 00010: val_accuracy improved from 0.89171 to 0.89613, saving model to ./data_out/seq2seq_kor/weights.h5\n",
      "18/18 [==============================] - 9s 525ms/sample - loss: 0.1789 - accuracy: 0.8941 - val_loss: 0.1769 - val_accuracy: 0.8961\n",
      "Epoch 11/30\n",
      "16/18 [=========================>....] - ETA: 0s - loss: 0.1449 - accuracy: 0.8980\n",
      "Epoch 00011: val_accuracy improved from 0.89613 to 0.90000, saving model to ./data_out/seq2seq_kor/weights.h5\n",
      "18/18 [==============================] - 9s 511ms/sample - loss: 0.1542 - accuracy: 0.8982 - val_loss: 0.1087 - val_accuracy: 0.9000\n",
      "Epoch 12/30\n",
      "16/18 [=========================>....] - ETA: 0s - loss: 0.1361 - accuracy: 0.9017\n",
      "Epoch 00012: val_accuracy improved from 0.90000 to 0.90353, saving model to ./data_out/seq2seq_kor/weights.h5\n",
      "18/18 [==============================] - 9s 512ms/sample - loss: 0.1410 - accuracy: 0.9018 - val_loss: 0.1287 - val_accuracy: 0.9035\n",
      "Epoch 13/30\n",
      "16/18 [=========================>....] - ETA: 0s - loss: 0.1257 - accuracy: 0.9050\n",
      "Epoch 00013: val_accuracy improved from 0.90353 to 0.90656, saving model to ./data_out/seq2seq_kor/weights.h5\n",
      "18/18 [==============================] - 9s 507ms/sample - loss: 0.1374 - accuracy: 0.9052 - val_loss: 0.1219 - val_accuracy: 0.9066\n",
      "Epoch 14/30\n",
      "16/18 [=========================>....] - ETA: 0s - loss: 0.1237 - accuracy: 0.9077\n",
      "Epoch 00014: val_accuracy improved from 0.90656 to 0.90905, saving model to ./data_out/seq2seq_kor/weights.h5\n",
      "18/18 [==============================] - 9s 508ms/sample - loss: 0.1386 - accuracy: 0.9078 - val_loss: 0.1250 - val_accuracy: 0.9091\n",
      "Epoch 15/30\n",
      "16/18 [=========================>....] - ETA: 0s - loss: 0.1218 - accuracy: 0.9103\n",
      "Epoch 00015: val_accuracy improved from 0.90905 to 0.91160, saving model to ./data_out/seq2seq_kor/weights.h5\n",
      "18/18 [==============================] - 9s 508ms/sample - loss: 0.1255 - accuracy: 0.9105 - val_loss: 0.1241 - val_accuracy: 0.9116\n",
      "Epoch 16/30\n",
      "16/18 [=========================>....] - ETA: 0s - loss: 0.1178 - accuracy: 0.9126\n",
      "Epoch 00016: val_accuracy improved from 0.91160 to 0.91390, saving model to ./data_out/seq2seq_kor/weights.h5\n",
      "18/18 [==============================] - 9s 514ms/sample - loss: 0.1203 - accuracy: 0.9127 - val_loss: 0.1323 - val_accuracy: 0.9139\n",
      "Epoch 17/30\n",
      "16/18 [=========================>....] - ETA: 0s - loss: 0.1060 - accuracy: 0.9149\n",
      "Epoch 00017: val_accuracy improved from 0.91390 to 0.91609, saving model to ./data_out/seq2seq_kor/weights.h5\n",
      "18/18 [==============================] - 9s 515ms/sample - loss: 0.1150 - accuracy: 0.9150 - val_loss: 0.1206 - val_accuracy: 0.9161\n",
      "Epoch 18/30\n",
      "16/18 [=========================>....] - ETA: 0s - loss: 0.1118 - accuracy: 0.9169\n",
      "Epoch 00018: val_accuracy improved from 0.91609 to 0.91809, saving model to ./data_out/seq2seq_kor/weights.h5\n",
      "18/18 [==============================] - 9s 514ms/sample - loss: 0.1068 - accuracy: 0.9171 - val_loss: 0.1142 - val_accuracy: 0.9181\n",
      "Epoch 19/30\n",
      "16/18 [=========================>....] - ETA: 0s - loss: 0.0997 - accuracy: 0.9189\n",
      "Epoch 00019: val_accuracy improved from 0.91809 to 0.91992, saving model to ./data_out/seq2seq_kor/weights.h5\n",
      "18/18 [==============================] - 9s 511ms/sample - loss: 0.1017 - accuracy: 0.9190 - val_loss: 0.1146 - val_accuracy: 0.9199\n",
      "Epoch 20/30\n",
      "16/18 [=========================>....] - ETA: 0s - loss: 0.0974 - accuracy: 0.9209\n",
      "Epoch 00020: val_accuracy improved from 0.91992 to 0.92192, saving model to ./data_out/seq2seq_kor/weights.h5\n",
      "18/18 [==============================] - 9s 517ms/sample - loss: 0.0936 - accuracy: 0.9210 - val_loss: 0.1105 - val_accuracy: 0.9219\n",
      "Epoch 21/30\n"
     ]
    }
   ],
   "source": [
    "PATH = DATA_OUT_PATH + MODEL_NAME\n",
    "if not(os.path.isdir(PATH)):\n",
    "        os.makedirs(os.path.join(PATH))\n",
    "        \n",
    "checkpoint_path = DATA_OUT_PATH + MODEL_NAME + '/weights.h5'\n",
    "    \n",
    "cp_callback = ModelCheckpoint(\n",
    "    checkpoint_path, monitor='val_accuracy', verbose=1, save_best_only=True, save_weights_only=True)\n",
    "\n",
    "earlystop_callback = EarlyStopping(monitor='val_accuracy', min_delta=0.0001, patience=10)\n",
    "\n",
    "history = model.fit([index_inputs, index_outputs], index_targets,\n",
    "                    batch_size=BATCH_SIZE, epochs=EPOCH,\n",
    "                    validation_split=VALIDATION_SPLIT, callbacks=[earlystop_callback, cp_callback])"
   ]
  },
  {
   "cell_type": "markdown",
   "metadata": {},
   "source": [
    "## 결과 플롯"
   ]
  },
  {
   "cell_type": "code",
   "execution_count": null,
   "metadata": {},
   "outputs": [],
   "source": [
    "plot_graphs(history, 'accuracy')"
   ]
  },
  {
   "cell_type": "code",
   "execution_count": null,
   "metadata": {},
   "outputs": [],
   "source": [
    "plot_graphs(history, 'loss')"
   ]
  },
  {
   "cell_type": "markdown",
   "metadata": {},
   "source": [
    "### 결과 확인"
   ]
  },
  {
   "cell_type": "code",
   "execution_count": null,
   "metadata": {},
   "outputs": [],
   "source": [
    "SAVE_FILE_NM = \"weights.h5\"\n",
    "model.load_weights(os.path.join(DATA_OUT_PATH, MODEL_NAME, SAVE_FILE_NM))"
   ]
  },
  {
   "cell_type": "code",
   "execution_count": null,
   "metadata": {},
   "outputs": [],
   "source": [
    "query = \"남자친구 승진 선물로 뭐가 좋을까?\"\n",
    "\n",
    "test_index_inputs, _ = enc_processing([query], char2idx)    \n",
    "predict_tokens = model.inference(test_index_inputs)\n",
    "print(predict_tokens)\n",
    "\n",
    "print(' '.join([idx2char[str(t)] for t in predict_tokens]))"
   ]
  },
  {
   "cell_type": "code",
   "execution_count": null,
   "metadata": {},
   "outputs": [],
   "source": []
  }
 ],
 "metadata": {
  "kernelspec": {
   "display_name": "Python 3",
   "language": "python",
   "name": "python3"
  },
  "language_info": {
   "codemirror_mode": {
    "name": "ipython",
    "version": 3
   },
   "file_extension": ".py",
   "mimetype": "text/x-python",
   "name": "python",
   "nbconvert_exporter": "python",
   "pygments_lexer": "ipython3",
   "version": "3.7.5"
  }
 },
 "nbformat": 4,
 "nbformat_minor": 4
}
