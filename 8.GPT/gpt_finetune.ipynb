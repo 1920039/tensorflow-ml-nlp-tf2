{
 "cells": [
  {
   "cell_type": "code",
   "execution_count": 1,
   "metadata": {},
   "outputs": [],
   "source": [
    "import os\n",
    "import wget\n",
    "\n",
    "import numpy as np\n",
    "import tensorflow as tf\n",
    "\n",
    "from tokenization_openai import OpenAIGPTTokenizer\n",
    "from modeling_tf_openai import TFOpenAIGPTLMHeadModel\n",
    "from tokenization_utils import PreTrainedTokenizer\n",
    "\n",
    "from tensorflow.keras.preprocessing.sequence import pad_sequences\n",
    "\n",
    "from nltk.tokenize import sent_tokenize"
   ]
  },
  {
   "cell_type": "code",
   "execution_count": 2,
   "metadata": {},
   "outputs": [
    {
     "name": "stderr",
     "output_type": "stream",
     "text": [
      "ftfy or spacy is not installed using BERT BasicTokenizer instead of SpaCy & ftfy.\n"
     ]
    },
    {
     "name": "stdout",
     "output_type": "stream",
     "text": [
      "vocab exists\n",
      "gpt_ckpt/vocab.json\n",
      "Config model exists\n",
      "Pretrained model exists\n"
     ]
    }
   ],
   "source": [
    "ckpt_path = 'gpt_ckpt'\n",
    "vocab_path = os.path.join(ckpt_path, 'vocab.json')\n",
    "merges_path = os.path.join(ckpt_path, 'merges.txt')\n",
    "config_path = os.path.join(ckpt_path, 'config.json')\n",
    "model_path = os.path.join(ckpt_path, 'tf_model.h5')\n",
    "\n",
    "if not os.path.exists(ckpt_path):\n",
    "    os.makedirs(ckpt_path)\n",
    "\n",
    "# Vocab 파일 불러오기\n",
    "if os.path.isfile(vocab_path):\n",
    "    print(\"vocab exists\")\n",
    "    tokenizer = OpenAIGPTTokenizer.from_pretrained(ckpt_path) #토크나이저 불러오기\n",
    "else:\n",
    "    print(\"vocab does not exists\")\n",
    "    wget.download(\"https://s3.amazonaws.com/models.huggingface.co/bert/openai-gpt-vocab.json\", ckpt_path)\n",
    "    wget.download(\"https://s3.amazonaws.com/models.huggingface.co/bert/openai-gpt-merges.txt\", ckpt_path)\n",
    "    os.rename(os.path.join(ckpt_path, 'openai-gpt-vocab.json'), vocab_path)\n",
    "    os.rename(os.path.join(ckpt_path, 'openai-gpt-merges.txt'), merges_path)\n",
    "    \n",
    "#BERT Config파일 불러오기\n",
    "if os.path.isfile(config_path):\n",
    "    print(\"Config model exists\")\n",
    "else:\n",
    "    print(\"Config model does not exists\")\n",
    "    wget.download(\"https://s3.amazonaws.com/models.huggingface.co/bert/openai-gpt-config.json\", ckpt_path)\n",
    "    os.rename(os.path.join(ckpt_path, 'openai-gpt-config.json'), config_path)\n",
    "    \n",
    "#BERT 모델 불러오기, huggingface의 저장된 로컬 모델을 불러오려면 아래와 같은 방법으로 접근해야 가능.\n",
    "if os.path.isfile(model_path):\n",
    "    print(\"Pretrained model exists\")\n",
    "    model = TFOpenAIGPTLMHeadModel.from_pretrained(ckpt_path)# 모델 학습 불러오기\n",
    "else:\n",
    "    print(\"Pretrained model does not exists\")\n",
    "    wget.download(\"https://s3.amazonaws.com/models.huggingface.co/bert/openai-gpt-tf_model.h5\", ckpt_path)\n",
    "    os.rename(os.path.join(ckpt_path, 'openai-gpt-tf_model.h5'), model_path) # 'bert-base-multilingual-uncased-tf_model.h5' -> tf_model.h5\n"
   ]
  },
  {
   "cell_type": "code",
   "execution_count": 3,
   "metadata": {},
   "outputs": [],
   "source": [
    "tokenizer.pad_token = '_'"
   ]
  },
  {
   "cell_type": "code",
   "execution_count": 4,
   "metadata": {},
   "outputs": [],
   "source": [
    "sents = [s[:-1] for s in open('train.txt').readlines()]\n",
    "input_data = list()\n",
    "output_data = list()\n",
    "\n",
    "for s in sents:\n",
    "    tokens = tokenizer.encode(s, max_length=21, add_special_tokens=True, pad_to_max_length=True)\n",
    "    input_data.append(tokens[:-1])\n",
    "    output_data.append(tokens[1:])\n",
    "\n",
    "input_data = np.array(input_data, dtype=np.int64)\n",
    "output_data = np.array(output_data, dtype=np.int64)"
   ]
  },
  {
   "cell_type": "code",
   "execution_count": 5,
   "metadata": {},
   "outputs": [],
   "source": [
    "loss_object = tf.keras.losses.SparseCategoricalCrossentropy(\n",
    "    from_logits=True, reduction='none')\n",
    "\n",
    "train_accuracy = tf.keras.metrics.SparseCategoricalAccuracy(name='accuracy')\n",
    "\n",
    "def loss_function(real, pred):\n",
    "    mask = tf.math.logical_not(tf.math.equal(real, 0))\n",
    "    loss_ = loss_object(real, pred)\n",
    "\n",
    "    mask = tf.cast(mask, dtype=loss_.dtype)\n",
    "    loss_ *= mask\n",
    "\n",
    "    return tf.reduce_mean(loss_)\n",
    "\n",
    "def accuracy_function(real, pred):\n",
    "    mask = tf.math.logical_not(tf.math.equal(real, 0))\n",
    "    mask = tf.expand_dims(tf.cast(mask, dtype=pred.dtype), axis=-1)\n",
    "    pred *= mask    \n",
    "    acc = train_accuracy(real, pred)\n",
    "\n",
    "    return tf.reduce_mean(acc)"
   ]
  },
  {
   "cell_type": "code",
   "execution_count": 6,
   "metadata": {},
   "outputs": [],
   "source": [
    "model.compile(loss=loss_function,\n",
    "              optimizer=tf.keras.optimizers.Adam(1e-4),\n",
    "              metrics=[accuracy_function])"
   ]
  },
  {
   "cell_type": "code",
   "execution_count": 7,
   "metadata": {},
   "outputs": [
    {
     "name": "stdout",
     "output_type": "stream",
     "text": [
      "Train on 172 samples, validate on 20 samples\n"
     ]
    },
    {
     "name": "stderr",
     "output_type": "stream",
     "text": [
      "/usr/local/lib/python3.6/dist-packages/tensorflow_core/python/framework/indexed_slices.py:424: UserWarning: Converting sparse IndexedSlices to a dense Tensor of unknown shape. This may consume a large amount of memory.\n",
      "  \"Converting sparse IndexedSlices to a dense Tensor of unknown shape. \"\n",
      "/usr/local/lib/python3.6/dist-packages/tensorflow_core/python/framework/indexed_slices.py:424: UserWarning: Converting sparse IndexedSlices to a dense Tensor of unknown shape. This may consume a large amount of memory.\n",
      "  \"Converting sparse IndexedSlices to a dense Tensor of unknown shape. \"\n"
     ]
    },
    {
     "name": "stdout",
     "output_type": "stream",
     "text": [
      "172/172 [==============================] - 56s 324ms/sample - loss: 5.2861 - accuracy_function: 0.2063 - val_loss: 4.3657 - val_accuracy_function: 0.2846\n"
     ]
    }
   ],
   "source": [
    "# overfitting을 막기 위한 ealrystop 추가\n",
    "# earlystop_callback = EarlyStopping(monitor='val_accuracy', min_delta=0.0001,patience=1)\n",
    "# min_delta: the threshold that triggers the termination (acc should at least improve 0.0001)\n",
    "# patience: no improvment epochs (patience = 1, 1번 이상 상승이 없으면 종료)\n",
    "\n",
    "history = model.fit(input_data, output_data, \n",
    "                    batch_size=16, epochs=1,\n",
    "                    validation_split=0.1)#, callbacks=[earlystop_callback])\n",
    "\n",
    "\n",
    "# history = model.fit(dataset, epochs=2)#, callbacks=[earlystop_callback])"
   ]
  },
  {
   "cell_type": "code",
   "execution_count": 11,
   "metadata": {},
   "outputs": [
    {
     "name": "stdout",
     "output_type": "stream",
     "text": [
      "when i was a girl , i had a great deal\n"
     ]
    }
   ],
   "source": [
    "text = 'when'\n",
    "gen_count = 10\n",
    "\n",
    "for _ in range(gen_count):\n",
    "    input_ids = tf.constant(tokenizer.encode(text, add_special_tokens=True))[None, :]  # Batch size 1\n",
    "    outputs = model(input_ids)\n",
    "    last_hidden_states = outputs[0]  \n",
    "\n",
    "    o = tf.argmax(last_hidden_states, axis=-1).numpy()[0]\n",
    "    new = tokenizer.decode([o[-1]])\n",
    "    text += ' ' + new\n",
    "    \n",
    "print(text)"
   ]
  }
 ],
 "metadata": {
  "kernelspec": {
   "display_name": "Python 3",
   "language": "python",
   "name": "python3"
  },
  "language_info": {
   "codemirror_mode": {
    "name": "ipython",
    "version": 3
   },
   "file_extension": ".py",
   "mimetype": "text/x-python",
   "name": "python",
   "nbconvert_exporter": "python",
   "pygments_lexer": "ipython3",
   "version": "3.6.8"
  }
 },
 "nbformat": 4,
 "nbformat_minor": 2
}
