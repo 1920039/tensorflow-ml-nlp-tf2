{
 "cells": [
  {
   "cell_type": "code",
   "execution_count": 35,
   "metadata": {},
   "outputs": [],
   "source": [
    "import os\n",
    "import tensorflow as tf\n",
    "from transformers import *\n",
    "\n",
    "from tensorflow.keras.preprocessing.sequence import pad_sequences\n",
    "from tensorflow.keras.callbacks import EarlyStopping, ModelCheckpoint\n",
    "\n",
    "import pandas as pd\n",
    "import matplotlib.pyplot as plt\n",
    "\n",
    "from tqdm import tqdm\n",
    "import numpy as np\n",
    "import re\n",
    "\n",
    "import setGPU"
   ]
  },
  {
   "cell_type": "code",
   "execution_count": 36,
   "metadata": {},
   "outputs": [],
   "source": [
    "# 시각화\n",
    "\n",
    "def plot_graphs(history, string):\n",
    "    plt.plot(history.history[string])\n",
    "    plt.plot(history.history['val_'+string], '')\n",
    "    plt.xlabel(\"Epochs\")\n",
    "    plt.ylabel(string)\n",
    "    plt.legend([string, 'val_'+string])\n",
    "    plt.show()"
   ]
  },
  {
   "cell_type": "code",
   "execution_count": 37,
   "metadata": {},
   "outputs": [],
   "source": [
    "SEED_NUM = 1234\n",
    "tf.random.set_seed(SEED_NUM)"
   ]
  },
  {
   "cell_type": "code",
   "execution_count": 38,
   "metadata": {},
   "outputs": [],
   "source": [
    "class TFGPT2Classifier(tf.keras.Model):\n",
    "    def __init__(self, dir_path=None, num_class=None):\n",
    "        super(TFGPT2Classifier, self).__init__()\n",
    "        \n",
    "        self.dir_path = 'gpt2' if dir_path is None else dir_path\n",
    "        \n",
    "        self.gpt2 = TFGPT2Model.from_pretrained(self.dir_path)\n",
    "#         self.num_class = self.gpt2.config._num_labels if num_class is None else num_class\n",
    "        self.num_class = self.gpt2.config.num_labels\n",
    "        \n",
    "        self.dropout = tf.keras.layers.Dropout(self.gpt2.config.summary_first_dropout)\n",
    "        self.classifier = tf.keras.layers.Dense(self.num_class, \n",
    "                                                kernel_initializer=tf.keras.initializers.TruncatedNormal(stddev=self.gpt2.config.initializer_range), \n",
    "                                                name=\"classifier\")\n",
    "        \n",
    "    def call(self, inputs):\n",
    "        outputs = self.gpt2(inputs)\n",
    "        pooled_output = outputs[0][:, -1]\n",
    "\n",
    "        pooled_output = self.dropout(pooled_output)\n",
    "        logits = self.classifier(pooled_output)\n",
    "\n",
    "        outputs = (logits,) + outputs[2:] \n",
    "\n",
    "        return outputs"
   ]
  },
  {
   "cell_type": "code",
   "execution_count": 39,
   "metadata": {},
   "outputs": [
    {
     "name": "stderr",
     "output_type": "stream",
     "text": [
      "I0502 01:29:45.291782 140214607935296 tokenization_utils.py:418] loading file https://s3.amazonaws.com/models.huggingface.co/bert/gpt2-vocab.json from cache at /home/CompanyAI/.cache/torch/transformers/f2808208f9bec2320371a9f5f891c184ae0b674ef866b79c58177067d15732dd.1512018be4ba4e8726e41b9145129dc30651ea4fec86aa61f4b9f40bf94eac71\n",
      "I0502 01:29:45.293343 140214607935296 tokenization_utils.py:418] loading file https://s3.amazonaws.com/models.huggingface.co/bert/gpt2-merges.txt from cache at /home/CompanyAI/.cache/torch/transformers/d629f792e430b3c76a1291bb2766b0a047e36fae0588f9dbc1ae51decdff691b.70bec105b4158ed9a1747fea67a43f5dee97855c64d62b6ec3742f4cfdb5feda\n"
     ]
    }
   ],
   "source": [
    "tokenizer = GPT2Tokenizer.from_pretrained(\"gpt2\")"
   ]
  },
  {
   "cell_type": "code",
   "execution_count": 40,
   "metadata": {},
   "outputs": [],
   "source": [
    "#random seed 고정\n",
    "\n",
    "tf.random.set_seed(0)\n",
    "np.random.seed(0)\n",
    "\n",
    "BATCH_SIZE = 8\n",
    "NUM_EPOCHS = 20\n",
    "VALID_SPLIT = 0.1\n",
    "MAX_LEN = 174\n",
    "DATA_IN_PATH = 'data_in/ENG'\n",
    "DATA_OUT_PATH = \"data_out/ENG\""
   ]
  },
  {
   "cell_type": "code",
   "execution_count": 41,
   "metadata": {},
   "outputs": [
    {
     "name": "stdout",
     "output_type": "stream",
     "text": [
      "['#', '<|endoftext|>', '$', '@'] \n",
      " [2, 50256, 3, 31]\n",
      "[168, 243, 230, 167, 227, 243, 47991, 246, 168, 226, 116, 168, 248, 242, 11, 31619, 108, 246, 166, 108, 239, 168, 232, 113, 46695, 230, 46695, 97]\n",
      "[15496, 995]\n",
      "안녕하세요, 반갑습니다\n",
      "Hello world\n"
     ]
    }
   ],
   "source": [
    "# vocab = tokenizer.get_vocab()\n",
    "\n",
    "tokenizer.pad_token = '#'\n",
    "tokenizer.cls_token = '@'\n",
    "tokenizer.sep_token = '$'\n",
    "\n",
    "# Special Tokens\n",
    "print(tokenizer.all_special_tokens, \"\\n\", tokenizer.all_special_ids)\n",
    "\n",
    "# Test Tokenizers\n",
    "kor_encode = tokenizer.encode(\"안녕하세요, 반갑습니다\")\n",
    "eng_encode = tokenizer.encode(\"Hello world\")\n",
    "\n",
    "kor_decode = tokenizer.decode(kor_encode)\n",
    "eng_decode = tokenizer.decode(eng_encode)\n",
    "\n",
    "print(kor_encode)\n",
    "print(eng_encode)\n",
    "print(kor_decode)\n",
    "print(eng_decode)"
   ]
  },
  {
   "cell_type": "markdown",
   "metadata": {},
   "source": [
    "# Bag of Words Meets Bags of Popcorn (Eng)"
   ]
  },
  {
   "cell_type": "code",
   "execution_count": 8,
   "metadata": {},
   "outputs": [],
   "source": [
    "import re\n",
    "import json\n",
    "import numpy as np\n",
    "from bs4 import BeautifulSoup\n",
    "import html5lib\n",
    "from nltk.corpus import stopwords"
   ]
  },
  {
   "cell_type": "code",
   "execution_count": 9,
   "metadata": {},
   "outputs": [
    {
     "data": {
      "text/html": [
       "<div>\n",
       "<style scoped>\n",
       "    .dataframe tbody tr th:only-of-type {\n",
       "        vertical-align: middle;\n",
       "    }\n",
       "\n",
       "    .dataframe tbody tr th {\n",
       "        vertical-align: top;\n",
       "    }\n",
       "\n",
       "    .dataframe thead th {\n",
       "        text-align: right;\n",
       "    }\n",
       "</style>\n",
       "<table border=\"1\" class=\"dataframe\">\n",
       "  <thead>\n",
       "    <tr style=\"text-align: right;\">\n",
       "      <th></th>\n",
       "      <th>id</th>\n",
       "      <th>sentiment</th>\n",
       "      <th>review</th>\n",
       "    </tr>\n",
       "  </thead>\n",
       "  <tbody>\n",
       "    <tr>\n",
       "      <td>0</td>\n",
       "      <td>\"5814_8\"</td>\n",
       "      <td>1</td>\n",
       "      <td>\"With all this stuff going down at the moment ...</td>\n",
       "    </tr>\n",
       "    <tr>\n",
       "      <td>1</td>\n",
       "      <td>\"2381_9\"</td>\n",
       "      <td>1</td>\n",
       "      <td>\"\\\"The Classic War of the Worlds\\\" by Timothy ...</td>\n",
       "    </tr>\n",
       "    <tr>\n",
       "      <td>2</td>\n",
       "      <td>\"7759_3\"</td>\n",
       "      <td>0</td>\n",
       "      <td>\"The film starts with a manager (Nicholas Bell...</td>\n",
       "    </tr>\n",
       "    <tr>\n",
       "      <td>3</td>\n",
       "      <td>\"3630_4\"</td>\n",
       "      <td>0</td>\n",
       "      <td>\"It must be assumed that those who praised thi...</td>\n",
       "    </tr>\n",
       "    <tr>\n",
       "      <td>4</td>\n",
       "      <td>\"9495_8\"</td>\n",
       "      <td>1</td>\n",
       "      <td>\"Superbly trashy and wondrously unpretentious ...</td>\n",
       "    </tr>\n",
       "  </tbody>\n",
       "</table>\n",
       "</div>"
      ],
      "text/plain": [
       "         id  sentiment                                             review\n",
       "0  \"5814_8\"          1  \"With all this stuff going down at the moment ...\n",
       "1  \"2381_9\"          1  \"\\\"The Classic War of the Worlds\\\" by Timothy ...\n",
       "2  \"7759_3\"          0  \"The film starts with a manager (Nicholas Bell...\n",
       "3  \"3630_4\"          0  \"It must be assumed that those who praised thi...\n",
       "4  \"9495_8\"          1  \"Superbly trashy and wondrously unpretentious ..."
      ]
     },
     "execution_count": 9,
     "metadata": {},
     "output_type": "execute_result"
    }
   ],
   "source": [
    "TRAIN_BOW_DF = os.path.join(DATA_IN_PATH, 'popcorn', 'labeledTrainData.tsv')\n",
    "\n",
    "train_data_bow = pd.read_csv(TRAIN_BOW_DF, header = 0, delimiter = '\\t', quoting = 3)\n",
    "train_data_bow.head()"
   ]
  },
  {
   "cell_type": "code",
   "execution_count": 10,
   "metadata": {},
   "outputs": [],
   "source": [
    "# 4장의 기존 전처리를 follow up한다. 다만, Bert가 사전학습을 할 때 일반적으로 특수문자나 불용어를 제거하지 않기 때문에 제외한다.\n",
    "\n",
    "stop_words = set(stopwords.words('english')) # 영어 불용어들의 set을 만든다.\n",
    "\n",
    "def preprocessing( review, remove_stopwords = False ): \n",
    "    # 불용어 제거는 옵션으로 선택 가능하다.\n",
    "    \n",
    "    # 1. HTML 태그 제거\n",
    "    review_text = BeautifulSoup(review, \"html5lib\").get_text()\t\n",
    "\n",
    "#     # 2. 영어가 아닌 특수문자들을 공백(\" \")으로 바꾸기\n",
    "#     review_text = re.sub(\"[^a-zA-Z]\", \" \", review_text)\n",
    "\n",
    "    # 3. 대문자들을 소문자로 바꾸고 공백단위로 텍스트들 나눠서 리스트로 만든다.\n",
    "    words = review_text.lower().split()\n",
    "\n",
    "    if remove_stopwords: \n",
    "        # 4. 불용어들을 제거\n",
    "    \n",
    "        #영어에 관련된 불용어 불러오기\n",
    "        stops = set(stopwords.words(\"english\"))\n",
    "        # 불용어가 아닌 단어들로 이루어진 새로운 리스트 생성\n",
    "        words = [w for w in words if not w in stops]\n",
    "        # 5. 단어 리스트를 공백을 넣어서 하나의 글로 합친다.\t\n",
    "        clean_review = ' '.join(words)\n",
    "\n",
    "    else: # 불용어 제거하지 않을 때\n",
    "        clean_review = ' '.join(words)\n",
    "\n",
    "    return clean_review"
   ]
  },
  {
   "cell_type": "code",
   "execution_count": 11,
   "metadata": {},
   "outputs": [],
   "source": [
    "def class_tokenizer(sent1, MAX_LEN):\n",
    "    \n",
    "    # `encode_plus` will:\n",
    "    #   (1) Tokenize the sentence.\n",
    "    #   (2) Prepend the `[CLS]` token to the start.\n",
    "    #   (3) Append the `[SEP]` token to the end.\n",
    "    #   (4) Map tokens to their IDs.\n",
    "    #   (5) Pad or truncate the sentence to `max_length`\n",
    "    #   (6) Create attention masks for [PAD] tokens.\n",
    "\n",
    "    encoded_dict = tokenizer.encode_plus(\n",
    "        text = sent1,     \n",
    "        add_special_tokens = False, # Add '[CLS]' and '[SEP]'\n",
    "        max_length = MAX_LEN,           # Pad & truncate all sentences.\n",
    "        pad_to_max_length = True,\n",
    "        return_attention_mask = True   # Construct attn. masks.\n",
    "        \n",
    "    )\n",
    "    \n",
    "    input_id = encoded_dict['input_ids'] + [tokenizer.cls_token_id]\n",
    "    \n",
    "    return input_id"
   ]
  },
  {
   "cell_type": "code",
   "execution_count": 12,
   "metadata": {},
   "outputs": [
    {
     "name": "stdout",
     "output_type": "stream",
     "text": [
      "num sents, attention_masks, labels 50, 50\n"
     ]
    }
   ],
   "source": [
    "train_data_bow_sents = []\n",
    "train_data_bow_labels = []\n",
    "\n",
    "for train_sent, train_label in zip(train_data_bow[\"review\"][:50], train_data_bow[\"sentiment\"][:50]):\n",
    "    try:\n",
    "        token_sent = class_tokenizer(preprocessing(train_sent, remove_stopwords = False), MAX_LEN)\n",
    "        \n",
    "    except Exception as e:\n",
    "        print(\"Error message: {}\".format(e))\n",
    "        print(\"sentence: {}\".format(train_sent))\n",
    "        continue\n",
    "        \n",
    "    train_data_bow_sents.append(token_sent) #append는 빼 놓고 한다.\n",
    "    train_data_bow_labels.append(train_label)\n",
    "\n",
    "train_data_bow_sents = np.asarray(train_data_bow_sents, dtype=np.int32)\n",
    "train_data_bow_labels = np.asarray(train_data_bow_labels, dtype=np.int32) \n",
    "\n",
    "print(\"num sents, attention_masks, labels {}, {}\".format(len(train_data_bow_sents), len(train_data_bow_labels)))"
   ]
  },
  {
   "cell_type": "code",
   "execution_count": 14,
   "metadata": {},
   "outputs": [],
   "source": [
    "cls_model = TFGPT2Classifier(\"gpt2\")"
   ]
  },
  {
   "cell_type": "code",
   "execution_count": 45,
   "metadata": {},
   "outputs": [],
   "source": [
    "optimizer = tf.keras.optimizers.Adam(learning_rate=1e-4, epsilon=1e-08, clipnorm=1.0)\n",
    "loss = tf.keras.losses.SparseCategoricalCrossentropy(from_logits=True)\n",
    "metric = tf.keras.metrics.SparseCategoricalAccuracy('accuracy')\n",
    "cls_model.compile(optimizer=optimizer, loss=loss, metrics=[metric])"
   ]
  },
  {
   "cell_type": "code",
   "execution_count": 46,
   "metadata": {},
   "outputs": [
    {
     "name": "stdout",
     "output_type": "stream",
     "text": [
      "data_out/ENGtf2_gpt2_bag_of_words -- Folder already exists \n",
      "\n",
      "Train on 45 samples, validate on 5 samples\n",
      "Epoch 1/20\n",
      "40/45 [=========================>....] - ETA: 3s - loss: 2.0890 - accuracy: 0.4750 \n",
      "Epoch 00001: val_accuracy improved from -inf to 0.40000, saving model to data_out/ENGtf2_gpt2_bag_of_words/weights.h5\n",
      "45/45 [==============================] - 37s 817ms/sample - loss: 1.9735 - accuracy: 0.4889 - val_loss: 1.3465 - val_accuracy: 0.4000\n",
      "Epoch 2/20\n",
      "40/45 [=========================>....] - ETA: 2s - loss: 0.7757 - accuracy: 0.6250\n",
      "Epoch 00002: val_accuracy improved from 0.40000 to 0.60000, saving model to data_out/ENGtf2_gpt2_bag_of_words/weights.h5\n",
      "45/45 [==============================] - 24s 543ms/sample - loss: 0.8008 - accuracy: 0.5778 - val_loss: 0.5791 - val_accuracy: 0.6000\n",
      "Epoch 3/20\n",
      "40/45 [=========================>....] - ETA: 2s - loss: 0.6678 - accuracy: 0.6250\n",
      "Epoch 00003: val_accuracy did not improve from 0.60000\n",
      "45/45 [==============================] - 25s 551ms/sample - loss: 0.6976 - accuracy: 0.6000 - val_loss: 0.6460 - val_accuracy: 0.4000\n",
      "Epoch 4/20\n",
      "40/45 [=========================>....] - ETA: 2s - loss: 0.4752 - accuracy: 0.8000\n",
      "Epoch 00004: val_accuracy improved from 0.60000 to 0.80000, saving model to data_out/ENGtf2_gpt2_bag_of_words/weights.h5\n",
      "45/45 [==============================] - 25s 548ms/sample - loss: 0.4745 - accuracy: 0.8222 - val_loss: 0.5245 - val_accuracy: 0.8000\n",
      "Epoch 5/20\n",
      "40/45 [=========================>....] - ETA: 2s - loss: 0.4628 - accuracy: 0.8500\n",
      "Epoch 00005: val_accuracy did not improve from 0.80000\n",
      "45/45 [==============================] - 24s 540ms/sample - loss: 0.4903 - accuracy: 0.8000 - val_loss: 0.6851 - val_accuracy: 0.6000\n",
      "Epoch 6/20\n",
      "40/45 [=========================>....] - ETA: 2s - loss: 0.3401 - accuracy: 0.9500\n",
      "Epoch 00006: val_accuracy did not improve from 0.80000\n",
      "45/45 [==============================] - 24s 535ms/sample - loss: 0.3385 - accuracy: 0.9333 - val_loss: 0.6641 - val_accuracy: 0.8000\n",
      "Epoch 7/20\n",
      "40/45 [=========================>....] - ETA: 2s - loss: 0.2500 - accuracy: 0.8750\n",
      "Epoch 00007: val_accuracy did not improve from 0.80000\n",
      "45/45 [==============================] - 25s 547ms/sample - loss: 0.2710 - accuracy: 0.8444 - val_loss: 0.8129 - val_accuracy: 0.6000\n",
      "Epoch 8/20\n",
      "40/45 [=========================>....] - ETA: 2s - loss: 0.3191 - accuracy: 0.8500\n",
      "Epoch 00008: val_accuracy did not improve from 0.80000\n",
      "45/45 [==============================] - 25s 549ms/sample - loss: 0.2934 - accuracy: 0.8667 - val_loss: 0.5124 - val_accuracy: 0.6000\n",
      "Epoch 9/20\n",
      "40/45 [=========================>....] - ETA: 2s - loss: 0.2441 - accuracy: 0.9750\n",
      "Epoch 00009: val_accuracy did not improve from 0.80000\n",
      "45/45 [==============================] - 25s 544ms/sample - loss: 0.2628 - accuracy: 0.9333 - val_loss: 0.9340 - val_accuracy: 0.6000\n",
      "Epoch 10/20\n",
      "40/45 [=========================>....] - ETA: 2s - loss: 0.1327 - accuracy: 0.9750\n",
      "Epoch 00010: val_accuracy did not improve from 0.80000\n",
      "45/45 [==============================] - 24s 531ms/sample - loss: 0.1249 - accuracy: 0.9778 - val_loss: 1.4433 - val_accuracy: 0.6000\n",
      "Epoch 11/20\n",
      "40/45 [=========================>....] - ETA: 2s - loss: 0.0963 - accuracy: 0.9500\n",
      "Epoch 00011: val_accuracy did not improve from 0.80000\n",
      "45/45 [==============================] - 24s 523ms/sample - loss: 0.1113 - accuracy: 0.9333 - val_loss: 0.9493 - val_accuracy: 0.6000\n",
      "Epoch 12/20\n",
      "40/45 [=========================>....] - ETA: 2s - loss: 0.1377 - accuracy: 0.9500\n",
      "Epoch 00012: val_accuracy did not improve from 0.80000\n",
      "45/45 [==============================] - 24s 525ms/sample - loss: 0.1303 - accuracy: 0.9556 - val_loss: 0.5055 - val_accuracy: 0.6000\n",
      "Epoch 13/20\n",
      "40/45 [=========================>....] - ETA: 2s - loss: 0.1158 - accuracy: 0.9500\n",
      "Epoch 00013: val_accuracy did not improve from 0.80000\n",
      "45/45 [==============================] - 24s 530ms/sample - loss: 0.1654 - accuracy: 0.9111 - val_loss: 0.3228 - val_accuracy: 0.8000\n",
      "Epoch 14/20\n",
      "40/45 [=========================>....] - ETA: 2s - loss: 0.1527 - accuracy: 0.9000\n",
      "Epoch 00014: val_accuracy did not improve from 0.80000\n",
      "45/45 [==============================] - 24s 535ms/sample - loss: 0.1468 - accuracy: 0.9111 - val_loss: 2.0062 - val_accuracy: 0.6000\n",
      "Epoch 15/20\n",
      "40/45 [=========================>....] - ETA: 2s - loss: 0.0818 - accuracy: 0.9750\n",
      "Epoch 00015: val_accuracy did not improve from 0.80000\n",
      "45/45 [==============================] - 25s 550ms/sample - loss: 0.0830 - accuracy: 0.9778 - val_loss: 0.6127 - val_accuracy: 0.8000\n",
      "Epoch 16/20\n",
      "40/45 [=========================>....] - ETA: 2s - loss: 0.0904 - accuracy: 0.9750\n",
      "Epoch 00016: val_accuracy did not improve from 0.80000\n",
      "45/45 [==============================] - 24s 541ms/sample - loss: 0.1156 - accuracy: 0.9556 - val_loss: 0.5194 - val_accuracy: 0.6000\n",
      "Epoch 17/20\n",
      "40/45 [=========================>....] - ETA: 2s - loss: 0.1112 - accuracy: 0.9500\n",
      "Epoch 00017: val_accuracy did not improve from 0.80000\n",
      "45/45 [==============================] - 25s 545ms/sample - loss: 0.1424 - accuracy: 0.9333 - val_loss: 1.1334 - val_accuracy: 0.8000\n",
      "Epoch 18/20\n",
      "40/45 [=========================>....] - ETA: 2s - loss: 0.1250 - accuracy: 0.9750\n",
      "Epoch 00018: val_accuracy did not improve from 0.80000\n",
      "45/45 [==============================] - 24s 544ms/sample - loss: 0.1149 - accuracy: 0.9778 - val_loss: 0.8194 - val_accuracy: 0.6000\n",
      "Epoch 19/20\n",
      "40/45 [=========================>....] - ETA: 2s - loss: 0.0544 - accuracy: 1.0000\n",
      "Epoch 00019: val_accuracy did not improve from 0.80000\n",
      "45/45 [==============================] - 25s 548ms/sample - loss: 0.0484 - accuracy: 1.0000 - val_loss: 0.7194 - val_accuracy: 0.6000\n",
      "Epoch 20/20\n",
      "40/45 [=========================>....] - ETA: 2s - loss: 0.0145 - accuracy: 1.0000\n",
      "Epoch 00020: val_accuracy did not improve from 0.80000\n",
      "45/45 [==============================] - 24s 539ms/sample - loss: 0.0177 - accuracy: 1.0000 - val_loss: 0.7999 - val_accuracy: 0.6000\n"
     ]
    }
   ],
   "source": [
    "model_name = \"tf2_gpt2_bag_of_words\"\n",
    "\n",
    "earlystop_callback = EarlyStopping(monitor='val_accuracy', min_delta=0.0001,patience=999)\n",
    "\n",
    "checkpoint_path = DATA_OUT_PATH + model_name + '/weights.h5'\n",
    "checkpoint_dir = os.path.dirname(checkpoint_path)\n",
    "\n",
    "if os.path.exists(checkpoint_dir):\n",
    "    print(\"{} -- Folder already exists \\n\".format(checkpoint_dir))\n",
    "else:\n",
    "    os.makedirs(checkpoint_dir, exist_ok=True)\n",
    "    print(\"{} -- Folder create complete \\n\".format(checkpoint_dir))\n",
    "    \n",
    "cp_callback = ModelCheckpoint(\n",
    "    checkpoint_path, monitor='val_accuracy', verbose=1, save_best_only=True, save_weights_only=True)\n",
    "\n",
    "history = cls_model.fit(train_data_bow_sents, train_data_bow_labels, epochs=NUM_EPOCHS, batch_size=BATCH_SIZE,\n",
    "                    validation_split = VALID_SPLIT, callbacks=[earlystop_callback, cp_callback])"
   ]
  },
  {
   "cell_type": "code",
   "execution_count": 47,
   "metadata": {},
   "outputs": [
    {
     "data": {
      "image/png": "[encoded data removed]",
      "text/plain": [
       "<Figure size 432x288 with 1 Axes>"
      ]
     },
     "metadata": {
      "needs_background": "light"
     },
     "output_type": "display_data"
    }
   ],
   "source": [
    "plot_graphs(history, 'accuracy')"
   ]
  },
  {
   "cell_type": "code",
   "execution_count": 48,
   "metadata": {},
   "outputs": [
    {
     "data": {
      "image/png": "[encoded data removed]",
      "text/plain": [
       "<Figure size 432x288 with 1 Axes>"
      ]
     },
     "metadata": {
      "needs_background": "light"
     },
     "output_type": "display_data"
    }
   ],
   "source": [
    "plot_graphs(history, 'loss')"
   ]
  },
  {
   "cell_type": "markdown",
   "metadata": {},
   "source": [
    "# Bag of Words Test Dataset (제출 확인 필요)"
   ]
  },
  {
   "cell_type": "code",
   "execution_count": 49,
   "metadata": {},
   "outputs": [],
   "source": [
    "#필요시 사용하세요.\n",
    "cls_model.load_weights('data_out/movie_review_weights.h5')"
   ]
  },
  {
   "cell_type": "code",
   "execution_count": 50,
   "metadata": {},
   "outputs": [
    {
     "data": {
      "text/html": [
       "<div>\n",
       "<style scoped>\n",
       "    .dataframe tbody tr th:only-of-type {\n",
       "        vertical-align: middle;\n",
       "    }\n",
       "\n",
       "    .dataframe tbody tr th {\n",
       "        vertical-align: top;\n",
       "    }\n",
       "\n",
       "    .dataframe thead th {\n",
       "        text-align: right;\n",
       "    }\n",
       "</style>\n",
       "<table border=\"1\" class=\"dataframe\">\n",
       "  <thead>\n",
       "    <tr style=\"text-align: right;\">\n",
       "      <th></th>\n",
       "      <th>id</th>\n",
       "      <th>review</th>\n",
       "    </tr>\n",
       "  </thead>\n",
       "  <tbody>\n",
       "    <tr>\n",
       "      <td>0</td>\n",
       "      <td>\"12311_10\"</td>\n",
       "      <td>\"Naturally in a film who's main themes are of ...</td>\n",
       "    </tr>\n",
       "    <tr>\n",
       "      <td>1</td>\n",
       "      <td>\"8348_2\"</td>\n",
       "      <td>\"This movie is a disaster within a disaster fi...</td>\n",
       "    </tr>\n",
       "    <tr>\n",
       "      <td>2</td>\n",
       "      <td>\"5828_4\"</td>\n",
       "      <td>\"All in all, this is a movie for kids. We saw ...</td>\n",
       "    </tr>\n",
       "    <tr>\n",
       "      <td>3</td>\n",
       "      <td>\"7186_2\"</td>\n",
       "      <td>\"Afraid of the Dark left me with the impressio...</td>\n",
       "    </tr>\n",
       "    <tr>\n",
       "      <td>4</td>\n",
       "      <td>\"12128_7\"</td>\n",
       "      <td>\"A very accurate depiction of small time mob l...</td>\n",
       "    </tr>\n",
       "  </tbody>\n",
       "</table>\n",
       "</div>"
      ],
      "text/plain": [
       "           id                                             review\n",
       "0  \"12311_10\"  \"Naturally in a film who's main themes are of ...\n",
       "1    \"8348_2\"  \"This movie is a disaster within a disaster fi...\n",
       "2    \"5828_4\"  \"All in all, this is a movie for kids. We saw ...\n",
       "3    \"7186_2\"  \"Afraid of the Dark left me with the impressio...\n",
       "4   \"12128_7\"  \"A very accurate depiction of small time mob l..."
      ]
     },
     "execution_count": 50,
     "metadata": {},
     "output_type": "execute_result"
    }
   ],
   "source": [
    "TEST_BOW_DF = os.path.join(DATA_IN_PATH, 'popcorn', 'testData.tsv')\n",
    "\n",
    "test_data_bow = pd.read_csv(TEST_BOW_DF, header=0, delimiter=\"\\t\", quoting=3)\n",
    "test_data_bow.head()"
   ]
  },
  {
   "cell_type": "code",
   "execution_count": 52,
   "metadata": {},
   "outputs": [],
   "source": [
    "test_data_bow_sents = []\n",
    "test_data_bow_idx = []\n",
    "\n",
    "for test_sent, test_idx in zip(test_data_bow[\"review\"], test_data_bow[\"id\"]):\n",
    "    try:\n",
    "        token_sent = class_tokenizer(preprocessing(test_sent, remove_stopwords = False), MAX_LEN)\n",
    "        \n",
    "    except Exception as e:\n",
    "        print(\"Error message: {}\".format(e))\n",
    "        print(\"sentence: {}\".format(test_sent))\n",
    "        continue\n",
    "        \n",
    "    test_data_bow_sents.append(token_sent)\n",
    "    test_data_bow_idx.append(test_idx)\n",
    "\n",
    "test_data_bow_sents = np.asarray(test_data_bow_sents, dtype=np.int32)"
   ]
  },
  {
   "cell_type": "code",
   "execution_count": 53,
   "metadata": {},
   "outputs": [
    {
     "name": "stdout",
     "output_type": "stream",
     "text": [
      "num sents, labels 25000, 25000\n"
     ]
    }
   ],
   "source": [
    "print(\"num sents, labels {}, {}\".format(len(test_data_bow_sents), len(test_data_bow_idx)))"
   ]
  },
  {
   "cell_type": "code",
   "execution_count": 57,
   "metadata": {},
   "outputs": [],
   "source": [
    "predictions = cls_model.predict(test_data_bow_sents, batch_size=512)\n",
    "predictions = np.argmax(predictions, axis=1)"
   ]
  },
  {
   "cell_type": "code",
   "execution_count": 58,
   "metadata": {},
   "outputs": [],
   "source": [
    "output = pd.DataFrame(data={\"id\": list(test_data_bow_idx), \"sentiment\":list(predictions)})\n",
    "output.to_csv(DATA_OUT_PATH + 'movie_review_result_gpt2.csv', index=False, quoting=3)"
   ]
  },
  {
   "cell_type": "markdown",
   "metadata": {},
   "source": [
    "# Quora Simliarity (ENG)"
   ]
  },
  {
   "cell_type": "code",
   "execution_count": 42,
   "metadata": {},
   "outputs": [],
   "source": [
    "BATCH_SIZE = 128\n",
    "NUM_EPOCHS = 20\n",
    "VALID_SPLIT = 0.1\n",
    "MAX_LEN = 31 * 2"
   ]
  },
  {
   "cell_type": "code",
   "execution_count": 43,
   "metadata": {},
   "outputs": [
    {
     "data": {
      "text/html": [
       "<div>\n",
       "<style scoped>\n",
       "    .dataframe tbody tr th:only-of-type {\n",
       "        vertical-align: middle;\n",
       "    }\n",
       "\n",
       "    .dataframe tbody tr th {\n",
       "        vertical-align: top;\n",
       "    }\n",
       "\n",
       "    .dataframe thead th {\n",
       "        text-align: right;\n",
       "    }\n",
       "</style>\n",
       "<table border=\"1\" class=\"dataframe\">\n",
       "  <thead>\n",
       "    <tr style=\"text-align: right;\">\n",
       "      <th></th>\n",
       "      <th>id</th>\n",
       "      <th>qid1</th>\n",
       "      <th>qid2</th>\n",
       "      <th>question1</th>\n",
       "      <th>question2</th>\n",
       "      <th>is_duplicate</th>\n",
       "    </tr>\n",
       "  </thead>\n",
       "  <tbody>\n",
       "    <tr>\n",
       "      <th>0</th>\n",
       "      <td>0</td>\n",
       "      <td>1</td>\n",
       "      <td>2</td>\n",
       "      <td>What is the step by step guide to invest in sh...</td>\n",
       "      <td>What is the step by step guide to invest in sh...</td>\n",
       "      <td>0</td>\n",
       "    </tr>\n",
       "    <tr>\n",
       "      <th>1</th>\n",
       "      <td>1</td>\n",
       "      <td>3</td>\n",
       "      <td>4</td>\n",
       "      <td>What is the story of Kohinoor (Koh-i-Noor) Dia...</td>\n",
       "      <td>What would happen if the Indian government sto...</td>\n",
       "      <td>0</td>\n",
       "    </tr>\n",
       "    <tr>\n",
       "      <th>2</th>\n",
       "      <td>2</td>\n",
       "      <td>5</td>\n",
       "      <td>6</td>\n",
       "      <td>How can I increase the speed of my internet co...</td>\n",
       "      <td>How can Internet speed be increased by hacking...</td>\n",
       "      <td>0</td>\n",
       "    </tr>\n",
       "    <tr>\n",
       "      <th>3</th>\n",
       "      <td>3</td>\n",
       "      <td>7</td>\n",
       "      <td>8</td>\n",
       "      <td>Why am I mentally very lonely? How can I solve...</td>\n",
       "      <td>Find the remainder when [math]23^{24}[/math] i...</td>\n",
       "      <td>0</td>\n",
       "    </tr>\n",
       "    <tr>\n",
       "      <th>4</th>\n",
       "      <td>4</td>\n",
       "      <td>9</td>\n",
       "      <td>10</td>\n",
       "      <td>Which one dissolve in water quikly sugar, salt...</td>\n",
       "      <td>Which fish would survive in salt water?</td>\n",
       "      <td>0</td>\n",
       "    </tr>\n",
       "  </tbody>\n",
       "</table>\n",
       "</div>"
      ],
      "text/plain": [
       "   id  qid1  qid2                                          question1  \\\n",
       "0   0     1     2  What is the step by step guide to invest in sh...   \n",
       "1   1     3     4  What is the story of Kohinoor (Koh-i-Noor) Dia...   \n",
       "2   2     5     6  How can I increase the speed of my internet co...   \n",
       "3   3     7     8  Why am I mentally very lonely? How can I solve...   \n",
       "4   4     9    10  Which one dissolve in water quikly sugar, salt...   \n",
       "\n",
       "                                           question2  is_duplicate  \n",
       "0  What is the step by step guide to invest in sh...             0  \n",
       "1  What would happen if the Indian government sto...             0  \n",
       "2  How can Internet speed be increased by hacking...             0  \n",
       "3  Find the remainder when [math]23^{24}[/math] i...             0  \n",
       "4            Which fish would survive in salt water?             0  "
      ]
     },
     "execution_count": 43,
     "metadata": {},
     "output_type": "execute_result"
    }
   ],
   "source": [
    "TRAIN_QUORA_DF = os.path.join(DATA_IN_PATH, 'quora', 'train.csv')\n",
    "\n",
    "train_data_quora = pd.read_csv(TRAIN_QUORA_DF, header = 0)\n",
    "train_data_quora.head()"
   ]
  },
  {
   "cell_type": "code",
   "execution_count": 44,
   "metadata": {},
   "outputs": [],
   "source": [
    "# Simliarty tokenizer\n",
    "\n",
    "# 참조: https://huggingface.co/transformers/main_classes/tokenizer.html?highlight=encode_plus#transformers.PreTrainedTokenizer.encode_plus\n",
    "\n",
    "def sim_tokenizer(sent1, sent2, MAX_LEN):\n",
    "    \n",
    "    # `encode_plus` will:\n",
    "    #   (1) Tokenize the sentence.\n",
    "    #   (2) Prepend the `[CLS]` token to the start.\n",
    "    #   (3) Append the `[SEP]` token to the end.\n",
    "    #   (4) Map tokens to their IDs.\n",
    "    #   (5) Pad or truncate the sentence to `max_length`\n",
    "    #   (6) Create attention masks for [PAD] tokens.\n",
    "\n",
    "    encoded_dict = tokenizer.encode_plus(\n",
    "        text = sent1,                      # Sentence to encode.\n",
    "        text_pair = sent2,\n",
    "        add_special_tokens = True, # Add '[CLS]' and '[SEP]'\n",
    "        max_length = MAX_LEN,           # Pad & truncate all sentences.\n",
    "        pad_to_max_length = True,\n",
    "        return_attention_mask = True   # Construct attn. masks.\n",
    "        \n",
    "    )\n",
    "    \n",
    "    input_id = encoded_dict['input_ids'][1:] + [tokenizer.cls_token_id]\n",
    "    \n",
    "    return input_id"
   ]
  },
  {
   "cell_type": "code",
   "execution_count": 49,
   "metadata": {},
   "outputs": [
    {
     "name": "stdout",
     "output_type": "stream",
     "text": [
      "# sents: 404290, # labels: 404290\n"
     ]
    }
   ],
   "source": [
    "FILTERS = \"([~.,!?\\\"':;)(])\"\n",
    "\n",
    "change_filter = re.compile(FILTERS)\n",
    "\n",
    "train_input_ids = []\n",
    "train_labels = []\n",
    "\n",
    "for sent1, sent2, label in zip(train_data_quora['question1'], train_data_quora['question2'], \n",
    "                        train_data_quora['is_duplicate']):\n",
    "    \n",
    "    sent1 = re.sub(change_filter, \"\", str(sent1))\n",
    "    sent2 = re.sub(change_filter, \"\", str(sent2))\n",
    "    \n",
    "    input_id = sim_tokenizer(sent1, sent2, MAX_LEN)\n",
    "    \n",
    "    train_input_ids.append(input_id)\n",
    "    train_labels.append(label)\n",
    "    \n",
    "train_quora_input_ids = np.array(train_input_ids, dtype=int)\n",
    "train_quora_labels = np.array(train_labels, dtype=int)\n",
    "\n",
    "print(\"# sents: {}, # labels: {}\".format(len(train_input_ids), len(train_labels)))"
   ]
  },
  {
   "cell_type": "code",
   "execution_count": 50,
   "metadata": {},
   "outputs": [
    {
     "name": "stderr",
     "output_type": "stream",
     "text": [
      "I0502 01:32:53.228691 140214607935296 configuration_utils.py:254] loading configuration file https://s3.amazonaws.com/models.huggingface.co/bert/gpt2-config.json from cache at /home/CompanyAI/.cache/torch/transformers/4be02c5697d91738003fb1685c9872f284166aa32e061576bbe6aaeb95649fcf.4c1d7fc2ac6ddabeaf0c8bec2ffc7dc112f668f5871a06efcff113d2797ec7d5\n",
      "I0502 01:32:53.231693 140214607935296 configuration_utils.py:290] Model config GPT2Config {\n",
      "  \"activation_function\": \"gelu_new\",\n",
      "  \"architectures\": [\n",
      "    \"GPT2LMHeadModel\"\n",
      "  ],\n",
      "  \"attn_pdrop\": 0.1,\n",
      "  \"bos_token_id\": 50256,\n",
      "  \"do_sample\": false,\n",
      "  \"embd_pdrop\": 0.1,\n",
      "  \"eos_token_id\": 50256,\n",
      "  \"eos_token_ids\": 0,\n",
      "  \"finetuning_task\": null,\n",
      "  \"id2label\": {\n",
      "    \"0\": \"LABEL_0\",\n",
      "    \"1\": \"LABEL_1\"\n",
      "  },\n",
      "  \"initializer_range\": 0.02,\n",
      "  \"is_decoder\": false,\n",
      "  \"label2id\": {\n",
      "    \"LABEL_0\": 0,\n",
      "    \"LABEL_1\": 1\n",
      "  },\n",
      "  \"layer_norm_epsilon\": 1e-05,\n",
      "  \"length_penalty\": 1.0,\n",
      "  \"max_length\": 20,\n",
      "  \"model_type\": \"gpt2\",\n",
      "  \"n_ctx\": 1024,\n",
      "  \"n_embd\": 768,\n",
      "  \"n_head\": 12,\n",
      "  \"n_layer\": 12,\n",
      "  \"n_positions\": 1024,\n",
      "  \"num_beams\": 1,\n",
      "  \"num_labels\": 2,\n",
      "  \"num_return_sequences\": 1,\n",
      "  \"output_attentions\": false,\n",
      "  \"output_hidden_states\": false,\n",
      "  \"output_past\": true,\n",
      "  \"pad_token_id\": 0,\n",
      "  \"pruned_heads\": {},\n",
      "  \"repetition_penalty\": 1.0,\n",
      "  \"resid_pdrop\": 0.1,\n",
      "  \"summary_activation\": null,\n",
      "  \"summary_first_dropout\": 0.1,\n",
      "  \"summary_proj_to_labels\": true,\n",
      "  \"summary_type\": \"cls_index\",\n",
      "  \"summary_use_proj\": true,\n",
      "  \"temperature\": 1.0,\n",
      "  \"top_k\": 50,\n",
      "  \"top_p\": 1.0,\n",
      "  \"torchscript\": false,\n",
      "  \"use_bfloat16\": false,\n",
      "  \"vocab_size\": 50257\n",
      "}\n",
      "\n",
      "I0502 01:32:54.154144 140214607935296 modeling_tf_utils.py:338] loading weights file https://s3.amazonaws.com/models.huggingface.co/bert/gpt2-tf_model.h5 from cache at /home/CompanyAI/.cache/torch/transformers/c7c3f6047c3a01d30533b2fc5110f0853a43f9e97d332aa77771d54c1811e423.afd2261c07481427cd087f622388c2c086be9c62875f5945922c7adb2239b63a.h5\n"
     ]
    }
   ],
   "source": [
    "sim_model = TFGPT2Classifier(\"gpt2\")"
   ]
  },
  {
   "cell_type": "code",
   "execution_count": 51,
   "metadata": {},
   "outputs": [],
   "source": [
    "optimizer = tf.keras.optimizers.Adam(learning_rate=1e-4, epsilon=1e-08, clipnorm=1.0)\n",
    "loss = tf.keras.losses.SparseCategoricalCrossentropy(from_logits=True)\n",
    "metric = tf.keras.metrics.SparseCategoricalAccuracy('accuracy')\n",
    "sim_model.compile(optimizer=optimizer, loss=loss, metrics=[metric])"
   ]
  },
  {
   "cell_type": "code",
   "execution_count": 52,
   "metadata": {
    "scrolled": true
   },
   "outputs": [
    {
     "name": "stdout",
     "output_type": "stream",
     "text": [
      "data_out/ENG/tf2_gpt_quora -- Folder already exists \n",
      "\n",
      "Train on 363861 samples, validate on 40429 samples\n",
      "Epoch 1/20\n",
      "363776/363861 [============================>.] - ETA: 0s - loss: 0.3572 - accuracy: 0.8337\n",
      "Epoch 00001: val_accuracy improved from -inf to 0.85644, saving model to data_out/ENG/tf2_gpt_quora/weights.h5\n",
      "363861/363861 [==============================] - 1569s 4ms/sample - loss: 0.3572 - accuracy: 0.8337 - val_loss: 0.3124 - val_accuracy: 0.8564\n",
      "Epoch 2/20\n",
      "363776/363861 [============================>.] - ETA: 0s - loss: 0.2574 - accuracy: 0.8894\n",
      "Epoch 00002: val_accuracy improved from 0.85644 to 0.88526, saving model to data_out/ENG/tf2_gpt_quora/weights.h5\n",
      "363861/363861 [==============================] - 1553s 4ms/sample - loss: 0.2574 - accuracy: 0.8894 - val_loss: 0.2662 - val_accuracy: 0.8853\n",
      "Epoch 3/20\n",
      "363776/363861 [============================>.] - ETA: 0s - loss: 0.1983 - accuracy: 0.9177\n",
      "Epoch 00003: val_accuracy improved from 0.88526 to 0.89292, saving model to data_out/ENG/tf2_gpt_quora/weights.h5\n",
      "363861/363861 [==============================] - 1553s 4ms/sample - loss: 0.1983 - accuracy: 0.9177 - val_loss: 0.2563 - val_accuracy: 0.8929\n",
      "Epoch 4/20\n",
      "363776/363861 [============================>.] - ETA: 0s - loss: 0.1521 - accuracy: 0.9390\n",
      "Epoch 00004: val_accuracy improved from 0.89292 to 0.89572, saving model to data_out/ENG/tf2_gpt_quora/weights.h5\n",
      "363861/363861 [==============================] - 1552s 4ms/sample - loss: 0.1521 - accuracy: 0.9390 - val_loss: 0.2754 - val_accuracy: 0.8957\n",
      "Epoch 5/20\n",
      "363776/363861 [============================>.] - ETA: 0s - loss: 0.1178 - accuracy: 0.9539\n",
      "Epoch 00005: val_accuracy did not improve from 0.89572\n",
      "363861/363861 [==============================] - 1549s 4ms/sample - loss: 0.1178 - accuracy: 0.9539 - val_loss: 0.3018 - val_accuracy: 0.8945\n",
      "Epoch 6/20\n",
      "363776/363861 [============================>.] - ETA: 0s - loss: 0.0929 - accuracy: 0.9644\n",
      "Epoch 00006: val_accuracy did not improve from 0.89572\n",
      "363861/363861 [==============================] - 1549s 4ms/sample - loss: 0.0929 - accuracy: 0.9644 - val_loss: 0.3551 - val_accuracy: 0.8936\n",
      "Epoch 7/20\n",
      "363776/363861 [============================>.] - ETA: 0s - loss: 0.0761 - accuracy: 0.9714\n",
      "Epoch 00007: val_accuracy did not improve from 0.89572\n",
      "363861/363861 [==============================] - 1550s 4ms/sample - loss: 0.0761 - accuracy: 0.9714 - val_loss: 0.3657 - val_accuracy: 0.8941\n"
     ]
    }
   ],
   "source": [
    "model_name = \"tf2_gpt_quora\"\n",
    "\n",
    "earlystop_callback = EarlyStopping(monitor='val_accuracy', min_delta=0.0001,patience=3)\n",
    "\n",
    "checkpoint_path = os.path.join(DATA_OUT_PATH,model_name, 'weights.h5')\n",
    "checkpoint_dir = os.path.dirname(checkpoint_path)\n",
    "\n",
    "if os.path.exists(checkpoint_dir):\n",
    "    print(\"{} -- Folder already exists \\n\".format(checkpoint_dir))\n",
    "else:\n",
    "    os.makedirs(checkpoint_dir, exist_ok=True)\n",
    "    print(\"{} -- Folder create complete \\n\".format(checkpoint_dir))\n",
    "    \n",
    "cp_callback = ModelCheckpoint(\n",
    "    checkpoint_path, monitor='val_accuracy', verbose=1, save_best_only=True, save_weights_only=True)\n",
    "\n",
    "history = sim_model.fit(train_quora_input_ids, train_quora_labels, epochs=NUM_EPOCHS,\n",
    "            batch_size=BATCH_SIZE, validation_split = VALID_SPLIT, callbacks=[earlystop_callback, cp_callback])"
   ]
  },
  {
   "cell_type": "code",
   "execution_count": 53,
   "metadata": {},
   "outputs": [
    {
     "data": {
      "image/png": "[encoded data removed]",
      "text/plain": [
       "<Figure size 432x288 with 1 Axes>"
      ]
     },
     "metadata": {
      "needs_background": "light"
     },
     "output_type": "display_data"
    }
   ],
   "source": [
    "plot_graphs(history, 'accuracy')"
   ]
  },
  {
   "cell_type": "code",
   "execution_count": 54,
   "metadata": {},
   "outputs": [
    {
     "data": {
      "image/png": "[encoded data removed]",
      "text/plain": [
       "<Figure size 432x288 with 1 Axes>"
      ]
     },
     "metadata": {
      "needs_background": "light"
     },
     "output_type": "display_data"
    }
   ],
   "source": [
    "plot_graphs(history, 'loss')"
   ]
  },
  {
   "cell_type": "markdown",
   "metadata": {},
   "source": [
    "# Quora Simliarity TEST"
   ]
  },
  {
   "cell_type": "code",
   "execution_count": 48,
   "metadata": {},
   "outputs": [
    {
     "ename": "ValueError",
     "evalue": "You are trying to load a weight file containing 2 layers into a model with 1 layers.",
     "output_type": "error",
     "traceback": [
      "\u001b[0;31m---------------------------------------------------------------------------\u001b[0m",
      "\u001b[0;31mValueError\u001b[0m                                Traceback (most recent call last)",
      "\u001b[0;32m<ipython-input-48-45c8c0427bd4>\u001b[0m in \u001b[0;36m<module>\u001b[0;34m\u001b[0m\n\u001b[0;32m----> 1\u001b[0;31m \u001b[0msim_model\u001b[0m\u001b[0;34m.\u001b[0m\u001b[0mload_weights\u001b[0m\u001b[0;34m(\u001b[0m\u001b[0mcheckpoint_path\u001b[0m\u001b[0;34m)\u001b[0m\u001b[0;34m\u001b[0m\u001b[0;34m\u001b[0m\u001b[0m\n\u001b[0m",
      "\u001b[0;32m~/tf2/lib/python3.6/site-packages/tensorflow_core/python/keras/engine/training.py\u001b[0m in \u001b[0;36mload_weights\u001b[0;34m(self, filepath, by_name, skip_mismatch)\u001b[0m\n\u001b[1;32m    232\u001b[0m         raise ValueError('Load weights is not yet supported with TPUStrategy '\n\u001b[1;32m    233\u001b[0m                          'with steps_per_run greater than 1.')\n\u001b[0;32m--> 234\u001b[0;31m     \u001b[0;32mreturn\u001b[0m \u001b[0msuper\u001b[0m\u001b[0;34m(\u001b[0m\u001b[0mModel\u001b[0m\u001b[0;34m,\u001b[0m \u001b[0mself\u001b[0m\u001b[0;34m)\u001b[0m\u001b[0;34m.\u001b[0m\u001b[0mload_weights\u001b[0m\u001b[0;34m(\u001b[0m\u001b[0mfilepath\u001b[0m\u001b[0;34m,\u001b[0m \u001b[0mby_name\u001b[0m\u001b[0;34m,\u001b[0m \u001b[0mskip_mismatch\u001b[0m\u001b[0;34m)\u001b[0m\u001b[0;34m\u001b[0m\u001b[0;34m\u001b[0m\u001b[0m\n\u001b[0m\u001b[1;32m    235\u001b[0m \u001b[0;34m\u001b[0m\u001b[0m\n\u001b[1;32m    236\u001b[0m   \u001b[0;34m@\u001b[0m\u001b[0mtrackable\u001b[0m\u001b[0;34m.\u001b[0m\u001b[0mno_automatic_dependency_tracking\u001b[0m\u001b[0;34m\u001b[0m\u001b[0;34m\u001b[0m\u001b[0m\n",
      "\u001b[0;32m~/tf2/lib/python3.6/site-packages/tensorflow_core/python/keras/engine/network.py\u001b[0m in \u001b[0;36mload_weights\u001b[0;34m(self, filepath, by_name, skip_mismatch)\u001b[0m\n\u001b[1;32m   1220\u001b[0m             f, self.layers, skip_mismatch=skip_mismatch)\n\u001b[1;32m   1221\u001b[0m       \u001b[0;32melse\u001b[0m\u001b[0;34m:\u001b[0m\u001b[0;34m\u001b[0m\u001b[0;34m\u001b[0m\u001b[0m\n\u001b[0;32m-> 1222\u001b[0;31m         \u001b[0mhdf5_format\u001b[0m\u001b[0;34m.\u001b[0m\u001b[0mload_weights_from_hdf5_group\u001b[0m\u001b[0;34m(\u001b[0m\u001b[0mf\u001b[0m\u001b[0;34m,\u001b[0m \u001b[0mself\u001b[0m\u001b[0;34m.\u001b[0m\u001b[0mlayers\u001b[0m\u001b[0;34m)\u001b[0m\u001b[0;34m\u001b[0m\u001b[0;34m\u001b[0m\u001b[0m\n\u001b[0m\u001b[1;32m   1223\u001b[0m \u001b[0;34m\u001b[0m\u001b[0m\n\u001b[1;32m   1224\u001b[0m   \u001b[0;32mdef\u001b[0m \u001b[0m_updated_config\u001b[0m\u001b[0;34m(\u001b[0m\u001b[0mself\u001b[0m\u001b[0;34m)\u001b[0m\u001b[0;34m:\u001b[0m\u001b[0;34m\u001b[0m\u001b[0;34m\u001b[0m\u001b[0m\n",
      "\u001b[0;32m~/tf2/lib/python3.6/site-packages/tensorflow_core/python/keras/saving/hdf5_format.py\u001b[0m in \u001b[0;36mload_weights_from_hdf5_group\u001b[0;34m(f, layers)\u001b[0m\n\u001b[1;32m    675\u001b[0m                      \u001b[0;34m'containing '\u001b[0m \u001b[0;34m+\u001b[0m \u001b[0mstr\u001b[0m\u001b[0;34m(\u001b[0m\u001b[0mlen\u001b[0m\u001b[0;34m(\u001b[0m\u001b[0mlayer_names\u001b[0m\u001b[0;34m)\u001b[0m\u001b[0;34m)\u001b[0m \u001b[0;34m+\u001b[0m\u001b[0;34m\u001b[0m\u001b[0;34m\u001b[0m\u001b[0m\n\u001b[1;32m    676\u001b[0m                      \u001b[0;34m' layers into a model with '\u001b[0m \u001b[0;34m+\u001b[0m \u001b[0mstr\u001b[0m\u001b[0;34m(\u001b[0m\u001b[0mlen\u001b[0m\u001b[0;34m(\u001b[0m\u001b[0mfiltered_layers\u001b[0m\u001b[0;34m)\u001b[0m\u001b[0;34m)\u001b[0m \u001b[0;34m+\u001b[0m\u001b[0;34m\u001b[0m\u001b[0;34m\u001b[0m\u001b[0m\n\u001b[0;32m--> 677\u001b[0;31m                      ' layers.')\n\u001b[0m\u001b[1;32m    678\u001b[0m \u001b[0;34m\u001b[0m\u001b[0m\n\u001b[1;32m    679\u001b[0m   \u001b[0;31m# We batch weight value assignments in a single backend call\u001b[0m\u001b[0;34m\u001b[0m\u001b[0;34m\u001b[0m\u001b[0;34m\u001b[0m\u001b[0m\n",
      "\u001b[0;31mValueError\u001b[0m: You are trying to load a weight file containing 2 layers into a model with 1 layers."
     ]
    }
   ],
   "source": [
    "sim_model.load_weights(checkpoint_path)"
   ]
  },
  {
   "cell_type": "code",
   "execution_count": 55,
   "metadata": {
    "scrolled": true
   },
   "outputs": [
    {
     "data": {
      "text/html": [
       "<div>\n",
       "<style scoped>\n",
       "    .dataframe tbody tr th:only-of-type {\n",
       "        vertical-align: middle;\n",
       "    }\n",
       "\n",
       "    .dataframe tbody tr th {\n",
       "        vertical-align: top;\n",
       "    }\n",
       "\n",
       "    .dataframe thead th {\n",
       "        text-align: right;\n",
       "    }\n",
       "</style>\n",
       "<table border=\"1\" class=\"dataframe\">\n",
       "  <thead>\n",
       "    <tr style=\"text-align: right;\">\n",
       "      <th></th>\n",
       "      <th>test_id</th>\n",
       "      <th>question1</th>\n",
       "      <th>question2</th>\n",
       "    </tr>\n",
       "  </thead>\n",
       "  <tbody>\n",
       "    <tr>\n",
       "      <th>0</th>\n",
       "      <td>0</td>\n",
       "      <td>How does the Surface Pro himself 4 compare wit...</td>\n",
       "      <td>Why did Microsoft choose core m3 and not core ...</td>\n",
       "    </tr>\n",
       "    <tr>\n",
       "      <th>1</th>\n",
       "      <td>1</td>\n",
       "      <td>Should I have a hair transplant at age 24? How...</td>\n",
       "      <td>How much cost does hair transplant require?</td>\n",
       "    </tr>\n",
       "    <tr>\n",
       "      <th>2</th>\n",
       "      <td>2</td>\n",
       "      <td>What but is the best way to send money from Ch...</td>\n",
       "      <td>What you send money to China?</td>\n",
       "    </tr>\n",
       "    <tr>\n",
       "      <th>3</th>\n",
       "      <td>3</td>\n",
       "      <td>Which food not emulsifiers?</td>\n",
       "      <td>What foods fibre?</td>\n",
       "    </tr>\n",
       "    <tr>\n",
       "      <th>4</th>\n",
       "      <td>4</td>\n",
       "      <td>How \"aberystwyth\" start reading?</td>\n",
       "      <td>How their can I start reading?</td>\n",
       "    </tr>\n",
       "  </tbody>\n",
       "</table>\n",
       "</div>"
      ],
      "text/plain": [
       "   test_id                                          question1  \\\n",
       "0        0  How does the Surface Pro himself 4 compare wit...   \n",
       "1        1  Should I have a hair transplant at age 24? How...   \n",
       "2        2  What but is the best way to send money from Ch...   \n",
       "3        3                        Which food not emulsifiers?   \n",
       "4        4                   How \"aberystwyth\" start reading?   \n",
       "\n",
       "                                           question2  \n",
       "0  Why did Microsoft choose core m3 and not core ...  \n",
       "1        How much cost does hair transplant require?  \n",
       "2                      What you send money to China?  \n",
       "3                                  What foods fibre?  \n",
       "4                     How their can I start reading?  "
      ]
     },
     "execution_count": 55,
     "metadata": {},
     "output_type": "execute_result"
    }
   ],
   "source": [
    "TEST_QUORA_DF = os.path.join(DATA_IN_PATH, 'quora', 'test.csv')\n",
    "\n",
    "test_data_quora = pd.read_csv(TEST_QUORA_DF, encoding=\"utf-8\")\n",
    "valid_ids = [type(x) ==int for x in test_data_quora.test_id]\n",
    "test_data = test_data_quora[valid_ids].drop_duplicates()\n",
    "\n",
    "test_data_quora.head()"
   ]
  },
  {
   "cell_type": "code",
   "execution_count": 56,
   "metadata": {},
   "outputs": [
    {
     "name": "stdout",
     "output_type": "stream",
     "text": [
      "# sents: 2345796, # labels: 2345796\n"
     ]
    }
   ],
   "source": [
    "test_input_sents = []\n",
    "test_ids = []\n",
    "\n",
    "for sent1, sent2, i in zip(test_data_quora['question1'], test_data_quora['question2'], \n",
    "                        test_data_quora['test_id']):\n",
    "    \n",
    "    sent1 = re.sub(change_filter, \"\", str(sent1))\n",
    "    sent2 = re.sub(change_filter, \"\", str(sent2))\n",
    "    \n",
    "    input_id = sim_tokenizer(sent1, sent2, MAX_LEN)\n",
    "    \n",
    "    test_input_sents.append(input_id)\n",
    "    test_ids.append(i)\n",
    "    \n",
    "test_input_sents = np.array(test_input_sents, dtype=int)\n",
    "\n",
    "print(\"# sents: {}, # labels: {}\".format(len(test_input_sents), len(test_ids)))"
   ]
  },
  {
   "cell_type": "code",
   "execution_count": 57,
   "metadata": {},
   "outputs": [],
   "source": [
    "# 테스트 값 예측하기\n",
    "\n",
    "predictions = sim_model.predict(test_input_sents, batch_size=512)"
   ]
  },
  {
   "cell_type": "code",
   "execution_count": 58,
   "metadata": {},
   "outputs": [],
   "source": [
    "predictions = np.argmax(predictions, axis=1)\n",
    "\n",
    "output = pd.DataFrame( data={\"test_id\":test_ids, \"is_duplicate\": list(predictions)} )\n",
    "output.to_csv(os.path.join(DATA_OUT_PATH, \"gpt2_quora_predict.csv\"), index=False, quoting=3)"
   ]
  }
 ],
 "metadata": {
  "kernelspec": {
   "display_name": "Python 3",
   "language": "python",
   "name": "python3"
  },
  "language_info": {
   "codemirror_mode": {
    "name": "ipython",
    "version": 3
   },
   "file_extension": ".py",
   "mimetype": "text/x-python",
   "name": "python",
   "nbconvert_exporter": "python",
   "pygments_lexer": "ipython3",
   "version": "3.6.7"
  }
 },
 "nbformat": 4,
 "nbformat_minor": 2
}
