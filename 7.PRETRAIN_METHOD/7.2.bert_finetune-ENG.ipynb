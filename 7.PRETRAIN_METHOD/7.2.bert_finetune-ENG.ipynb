{
 "cells": [
  {
   "cell_type": "code",
   "execution_count": 1,
   "metadata": {},
   "outputs": [
    {
     "name": "stderr",
     "output_type": "stream",
     "text": [
      "I0418 11:45:25.710868 139986118530880 file_utils.py:38] PyTorch version 1.4.0 available.\n",
      "I0418 11:45:25.712228 139986118530880 file_utils.py:54] TensorFlow version 2.1.0 available.\n"
     ]
    },
    {
     "name": "stdout",
     "output_type": "stream",
     "text": [
      "setGPU: Setting GPU to: 0\n"
     ]
    }
   ],
   "source": [
    "import os\n",
    "import tensorflow as tf\n",
    "from transformers import *\n",
    "\n",
    "from tensorflow.keras.preprocessing.sequence import pad_sequences\n",
    "from tensorflow.keras.callbacks import EarlyStopping, ModelCheckpoint\n",
    "\n",
    "import pandas as pd\n",
    "import matplotlib.pyplot as plt\n",
    "\n",
    "from tqdm import tqdm\n",
    "import numpy as np\n",
    "import re\n",
    "\n",
    "import setGPU"
   ]
  },
  {
   "cell_type": "code",
   "execution_count": 2,
   "metadata": {},
   "outputs": [],
   "source": [
    "# 시각화\n",
    "\n",
    "def plot_graphs(history, string):\n",
    "    plt.plot(history.history[string])\n",
    "    plt.plot(history.history['val_'+string], '')\n",
    "    plt.xlabel(\"Epochs\")\n",
    "    plt.ylabel(string)\n",
    "    plt.legend([string, 'val_'+string])\n",
    "    plt.show()"
   ]
  },
  {
   "cell_type": "code",
   "execution_count": 3,
   "metadata": {},
   "outputs": [],
   "source": [
    "SEED_NUM = 1234\n",
    "tf.random.set_seed(SEED_NUM)"
   ]
  },
  {
   "cell_type": "code",
   "execution_count": 4,
   "metadata": {},
   "outputs": [
    {
     "name": "stderr",
     "output_type": "stream",
     "text": [
      "I0418 11:45:28.882362 139986118530880 tokenization_utils.py:418] loading file https://s3.amazonaws.com/models.huggingface.co/bert/bert-base-multilingual-uncased-vocab.txt from cache at /home/CompanyAI/.cache/torch/transformers/bb773818882b0524dc53a1b31a2cc95bc489f000e7e19773ba07846011a6c711.535306b226c42cebebbc0dabc83b92ab11260e9919e21e2ab0beb301f267b4c7\n",
      "I0418 11:45:29.942812 139986118530880 configuration_utils.py:254] loading configuration file https://s3.amazonaws.com/models.huggingface.co/bert/bert-base-multilingual-uncased-config.json from cache at /home/CompanyAI/.cache/torch/transformers/33b56ce0f312e47e4d77a57791a4fc6233ae4a560dd2bdd186107058294e58ab.c7892120c5a9b21e515abc904e398dbabddf9510b122f659063cbf361fe16868\n",
      "I0418 11:45:29.944377 139986118530880 configuration_utils.py:290] Model config BertConfig {\n",
      "  \"architectures\": [\n",
      "    \"BertForMaskedLM\"\n",
      "  ],\n",
      "  \"attention_probs_dropout_prob\": 0.1,\n",
      "  \"bos_token_id\": 0,\n",
      "  \"directionality\": \"bidi\",\n",
      "  \"do_sample\": false,\n",
      "  \"eos_token_ids\": 0,\n",
      "  \"finetuning_task\": null,\n",
      "  \"hidden_act\": \"gelu\",\n",
      "  \"hidden_dropout_prob\": 0.1,\n",
      "  \"hidden_size\": 768,\n",
      "  \"id2label\": {\n",
      "    \"0\": \"LABEL_0\",\n",
      "    \"1\": \"LABEL_1\"\n",
      "  },\n",
      "  \"initializer_range\": 0.02,\n",
      "  \"intermediate_size\": 3072,\n",
      "  \"is_decoder\": false,\n",
      "  \"label2id\": {\n",
      "    \"LABEL_0\": 0,\n",
      "    \"LABEL_1\": 1\n",
      "  },\n",
      "  \"layer_norm_eps\": 1e-12,\n",
      "  \"length_penalty\": 1.0,\n",
      "  \"max_length\": 20,\n",
      "  \"max_position_embeddings\": 512,\n",
      "  \"model_type\": \"bert\",\n",
      "  \"num_attention_heads\": 12,\n",
      "  \"num_beams\": 1,\n",
      "  \"num_hidden_layers\": 12,\n",
      "  \"num_labels\": 2,\n",
      "  \"num_return_sequences\": 1,\n",
      "  \"output_attentions\": false,\n",
      "  \"output_hidden_states\": false,\n",
      "  \"output_past\": true,\n",
      "  \"pad_token_id\": 0,\n",
      "  \"pooler_fc_size\": 768,\n",
      "  \"pooler_num_attention_heads\": 12,\n",
      "  \"pooler_num_fc_layers\": 3,\n",
      "  \"pooler_size_per_head\": 128,\n",
      "  \"pooler_type\": \"first_token_transform\",\n",
      "  \"pruned_heads\": {},\n",
      "  \"repetition_penalty\": 1.0,\n",
      "  \"temperature\": 1.0,\n",
      "  \"top_k\": 50,\n",
      "  \"top_p\": 1.0,\n",
      "  \"torchscript\": false,\n",
      "  \"type_vocab_size\": 2,\n",
      "  \"use_bfloat16\": false,\n",
      "  \"vocab_size\": 105879\n",
      "}\n",
      "\n",
      "I0418 11:45:30.890924 139986118530880 modeling_tf_utils.py:338] loading weights file https://s3.amazonaws.com/models.huggingface.co/bert/bert-base-multilingual-uncased-tf_model.h5 from cache at /home/CompanyAI/.cache/torch/transformers/7efc9507bca9e880aea7a38a849d8e16fcd54f2071f8f8143afa5815d00a16f4.25728a4fd7ddaafee2965f5821a206f237b83c672e0bb092881f9b1f5eea2b2f.h5\n",
      "I0418 11:45:55.408653 139986118530880 modeling_tf_utils.py:376] Layers of TFBertForSequenceClassification not initialized from pretrained model: ['dropout_37', 'classifier']\n",
      "I0418 11:45:55.410964 139986118530880 modeling_tf_utils.py:380] Layers from pretrained model not used in TFBertForSequenceClassification: ['nsp___cls', 'mlm___cls']\n"
     ]
    }
   ],
   "source": [
    "tokenizer = BertTokenizer.from_pretrained(\"bert-base-multilingual-uncased\")\n",
    "model = TFBertForSequenceClassification.from_pretrained(\"bert-base-multilingual-uncased\")"
   ]
  },
  {
   "cell_type": "code",
   "execution_count": 5,
   "metadata": {},
   "outputs": [],
   "source": [
    "#random seed 고정\n",
    "\n",
    "tf.random.set_seed(0)\n",
    "np.random.seed(0)\n",
    "\n",
    "BATCH_SIZE = 128\n",
    "NUM_EPOCHS = 20\n",
    "VALID_SPLIT = 0.2\n",
    "MAX_LEN = 128\n",
    "DATA_IN_PATH = 'data_in/ENG'\n",
    "DATA_OUT_PATH = \"data_out/ENG\""
   ]
  },
  {
   "cell_type": "code",
   "execution_count": 6,
   "metadata": {},
   "outputs": [
    {
     "name": "stdout",
     "output_type": "stream",
     "text": [
      "['[PAD]', '[SEP]', '[MASK]', '[UNK]', '[CLS]'] \n",
      " [0, 102, 103, 100, 101]\n",
      "[101, 1174, 26646, 49345, 13045, 35132, 25169, 47024, 117, 1170, 26646, 11376, 17360, 13212, 79427, 102]\n",
      "[101, 29155, 10228, 102]\n",
      "[CLS] 안녕하세요, 반갑습니다 [SEP]\n",
      "[CLS] hello world [SEP]\n"
     ]
    }
   ],
   "source": [
    "# Special Tokens\n",
    "print(tokenizer.all_special_tokens, \"\\n\", tokenizer.all_special_ids)\n",
    "\n",
    "# Test Tokenizers\n",
    "kor_encode = tokenizer.encode(\"안녕하세요, 반갑습니다\")\n",
    "eng_encode = tokenizer.encode(\"Hello world\")\n",
    "\n",
    "kor_decode = tokenizer.decode(kor_encode)\n",
    "eng_decode = tokenizer.decode(eng_encode)\n",
    "\n",
    "print(kor_encode)\n",
    "print(eng_encode)\n",
    "print(kor_decode)\n",
    "print(eng_decode)"
   ]
  },
  {
   "cell_type": "markdown",
   "metadata": {},
   "source": [
    "# Bag of Words Meets Bags of Popcorn (Eng)"
   ]
  },
  {
   "cell_type": "code",
   "execution_count": null,
   "metadata": {},
   "outputs": [],
   "source": [
    "import re\n",
    "import json\n",
    "import numpy as np\n",
    "from bs4 import BeautifulSoup\n",
    "import html5lib\n",
    "from nltk.corpus import stopwords"
   ]
  },
  {
   "cell_type": "code",
   "execution_count": 16,
   "metadata": {},
   "outputs": [
    {
     "data": {
      "text/html": [
       "<div>\n",
       "<style scoped>\n",
       "    .dataframe tbody tr th:only-of-type {\n",
       "        vertical-align: middle;\n",
       "    }\n",
       "\n",
       "    .dataframe tbody tr th {\n",
       "        vertical-align: top;\n",
       "    }\n",
       "\n",
       "    .dataframe thead th {\n",
       "        text-align: right;\n",
       "    }\n",
       "</style>\n",
       "<table border=\"1\" class=\"dataframe\">\n",
       "  <thead>\n",
       "    <tr style=\"text-align: right;\">\n",
       "      <th></th>\n",
       "      <th>id</th>\n",
       "      <th>sentiment</th>\n",
       "      <th>review</th>\n",
       "    </tr>\n",
       "  </thead>\n",
       "  <tbody>\n",
       "    <tr>\n",
       "      <th>0</th>\n",
       "      <td>\"5814_8\"</td>\n",
       "      <td>1</td>\n",
       "      <td>\"With all this stuff going down at the moment ...</td>\n",
       "    </tr>\n",
       "    <tr>\n",
       "      <th>1</th>\n",
       "      <td>\"2381_9\"</td>\n",
       "      <td>1</td>\n",
       "      <td>\"\\\"The Classic War of the Worlds\\\" by Timothy ...</td>\n",
       "    </tr>\n",
       "    <tr>\n",
       "      <th>2</th>\n",
       "      <td>\"7759_3\"</td>\n",
       "      <td>0</td>\n",
       "      <td>\"The film starts with a manager (Nicholas Bell...</td>\n",
       "    </tr>\n",
       "    <tr>\n",
       "      <th>3</th>\n",
       "      <td>\"3630_4\"</td>\n",
       "      <td>0</td>\n",
       "      <td>\"It must be assumed that those who praised thi...</td>\n",
       "    </tr>\n",
       "    <tr>\n",
       "      <th>4</th>\n",
       "      <td>\"9495_8\"</td>\n",
       "      <td>1</td>\n",
       "      <td>\"Superbly trashy and wondrously unpretentious ...</td>\n",
       "    </tr>\n",
       "  </tbody>\n",
       "</table>\n",
       "</div>"
      ],
      "text/plain": [
       "         id  sentiment                                             review\n",
       "0  \"5814_8\"          1  \"With all this stuff going down at the moment ...\n",
       "1  \"2381_9\"          1  \"\\\"The Classic War of the Worlds\\\" by Timothy ...\n",
       "2  \"7759_3\"          0  \"The film starts with a manager (Nicholas Bell...\n",
       "3  \"3630_4\"          0  \"It must be assumed that those who praised thi...\n",
       "4  \"9495_8\"          1  \"Superbly trashy and wondrously unpretentious ..."
      ]
     },
     "execution_count": 16,
     "metadata": {},
     "output_type": "execute_result"
    }
   ],
   "source": [
    "# Load Train dataset\n",
    "TRAIN_BOW_DF = os.path.join(DATA_IN_PATH, 'popcorn', 'labeledTrainData.tsv')\n",
    "\n",
    "train_data_bow = pd.read_csv( TRAIN_BOW_DF, header = 0, delimiter = '\\t', quoting = 3)\n",
    "train_data_bow.head()"
   ]
  },
  {
   "cell_type": "code",
   "execution_count": 9,
   "metadata": {},
   "outputs": [],
   "source": [
    "# 4장의 기존 전처리를 follow up한다. 다만, Bert가 사전학습을 할 때 일반적으로 특수문자나 불용어를 제거하지 않기 때문에 제외한다.\n",
    "\n",
    "stop_words = set(stopwords.words('english')) # 영어 불용어들의 set을 만든다.\n",
    "\n",
    "def preprocessing( review, remove_stopwords = False ): \n",
    "    # 불용어 제거는 옵션으로 선택 가능하다.\n",
    "    \n",
    "    # 1. HTML 태그 제거\n",
    "    review_text = BeautifulSoup(review, \"html5lib\").get_text()\t\n",
    "\n",
    "#     # 2. 영어가 아닌 특수문자들을 공백(\" \")으로 바꾸기\n",
    "#     review_text = re.sub(\"[^a-zA-Z]\", \" \", review_text)\n",
    "\n",
    "    # 3. 대문자들을 소문자로 바꾸고 공백단위로 텍스트들 나눠서 리스트로 만든다.\n",
    "    words = review_text.lower().split()\n",
    "\n",
    "    if remove_stopwords: \n",
    "        # 4. 불용어들을 제거\n",
    "    \n",
    "        #영어에 관련된 불용어 불러오기\n",
    "        stops = set(stopwords.words(\"english\"))\n",
    "        # 불용어가 아닌 단어들로 이루어진 새로운 리스트 생성\n",
    "        words = [w for w in words if not w in stops]\n",
    "        # 5. 단어 리스트를 공백을 넣어서 하나의 글로 합친다.\t\n",
    "        clean_review = ' '.join(words)\n",
    "\n",
    "    else: # 불용어 제거하지 않을 때\n",
    "        clean_review = ' '.join(words)\n",
    "\n",
    "    return clean_review\n",
    "\n",
    "# preprocessing(train_sent, remove_stopwords = False)"
   ]
  },
  {
   "cell_type": "code",
   "execution_count": null,
   "metadata": {},
   "outputs": [],
   "source": [
    "train_data_bow_sents = []\n",
    "train_data_bow_labels = []\n",
    "\n",
    "for train_sent, train_label in zip(train_data_bow[\"review\"], train_data_bow[\"sentiment\"]):\n",
    "    try:\n",
    "        # Max Len의 경우 4장에 EDA값을 추출하였던 길이 174를 사용한다.\n",
    "        token_sent = tokenizer.encode(preprocessing(train_sent[:174], remove_stopwords = False))\n",
    "        \n",
    "    except Exception as e:\n",
    "        print(\"Error message: {}\".format(e))\n",
    "        print(\"sentence: {}\".format(train_sent))\n",
    "        continue\n",
    "        \n",
    "    train_data_bow_sents.append(token_sent) #append는 빼 놓고 한다.\n",
    "    train_data_bow_labels.append(train_label)\n",
    "\n",
    "train_data_bow_sent_pads = pad_sequences(train_data_bow_sents, maxlen=MAX_LEN, padding='post')\n",
    "train_data_bow_labels = np.asarray(train_data_bow_labels, dtype=np.int32) #레이블 토크나이징 리스트\n",
    "\n",
    "print(\"num sents, labels {}, {}\".format(len(train_data_bow_sent_pads), len(train_data_bow_labels)))"
   ]
  },
  {
   "cell_type": "code",
   "execution_count": 12,
   "metadata": {},
   "outputs": [],
   "source": [
    "# 학습 준비하기\n",
    "optimizer = tf.keras.optimizers.Adam(learning_rate=3e-5, epsilon=1e-08, clipnorm=1.0)\n",
    "loss = tf.keras.losses.SparseCategoricalCrossentropy(from_logits=True)\n",
    "metric = tf.keras.metrics.SparseCategoricalAccuracy('accuracy')\n",
    "model.compile(optimizer=optimizer, loss=loss, metrics=[metric])"
   ]
  },
  {
   "cell_type": "code",
   "execution_count": 15,
   "metadata": {},
   "outputs": [
    {
     "name": "stdout",
     "output_type": "stream",
     "text": [
      "data_out/tf2_bert_bag_of_words -- Folder already exists \n",
      "\n",
      "Train on 20000 samples, validate on 5000 samples\n",
      "Epoch 1/20\n",
      "19968/20000 [============================>.] - ETA: 0s - loss: 0.5976 - accuracy: 0.6465\n",
      "Epoch 00001: val_accuracy improved from -inf to 0.76172, saving model to data_out/tf2_bert_bag_of_words/weights.h5\n",
      "20000/20000 [==============================] - 175s 9ms/sample - loss: 0.5973 - accuracy: 0.6467 - val_loss: 0.0243 - val_accuracy: 0.7617\n",
      "Epoch 2/20\n",
      "19968/20000 [============================>.] - ETA: 0s - loss: 0.4572 - accuracy: 0.7797\n",
      "Epoch 00002: val_accuracy did not improve from 0.76172\n",
      "20000/20000 [==============================] - 168s 8ms/sample - loss: 0.4569 - accuracy: 0.7800 - val_loss: 0.0248 - val_accuracy: 0.7578\n",
      "Epoch 3/20\n",
      "19968/20000 [============================>.] - ETA: 0s - loss: 0.3533 - accuracy: 0.8393\n",
      "Epoch 00003: val_accuracy did not improve from 0.76172\n",
      "20000/20000 [==============================] - 168s 8ms/sample - loss: 0.3532 - accuracy: 0.8394 - val_loss: 0.0290 - val_accuracy: 0.7500\n",
      "Epoch 4/20\n",
      "19968/20000 [============================>.] - ETA: 0s - loss: 0.2613 - accuracy: 0.8918\n",
      "Epoch 00004: val_accuracy improved from 0.76172 to 0.77344, saving model to data_out/tf2_bert_bag_of_words/weights.h5\n",
      "20000/20000 [==============================] - 170s 9ms/sample - loss: 0.2613 - accuracy: 0.8918 - val_loss: 0.0277 - val_accuracy: 0.7734\n",
      "Epoch 5/20\n",
      "19968/20000 [============================>.] - ETA: 0s - loss: 0.1702 - accuracy: 0.9332\n",
      "Epoch 00005: val_accuracy improved from 0.77344 to 0.77734, saving model to data_out/tf2_bert_bag_of_words/weights.h5\n",
      "20000/20000 [==============================] - 170s 9ms/sample - loss: 0.1701 - accuracy: 0.9333 - val_loss: 0.0354 - val_accuracy: 0.7773\n",
      "Epoch 6/20\n",
      "19968/20000 [============================>.] - ETA: 0s - loss: 0.1170 - accuracy: 0.9562\n",
      "Epoch 00006: val_accuracy did not improve from 0.77734\n",
      "20000/20000 [==============================] - 167s 8ms/sample - loss: 0.1174 - accuracy: 0.9560 - val_loss: 0.0405 - val_accuracy: 0.7695\n",
      "Epoch 7/20\n",
      "19968/20000 [============================>.] - ETA: 0s - loss: 0.0788 - accuracy: 0.9728\n",
      "Epoch 00007: val_accuracy improved from 0.77734 to 0.79688, saving model to data_out/tf2_bert_bag_of_words/weights.h5\n",
      "20000/20000 [==============================] - 170s 8ms/sample - loss: 0.0788 - accuracy: 0.9728 - val_loss: 0.0382 - val_accuracy: 0.7969\n",
      "Epoch 8/20\n",
      "19968/20000 [============================>.] - ETA: 0s - loss: 0.0632 - accuracy: 0.9780\n",
      "Epoch 00008: val_accuracy did not improve from 0.79688\n",
      "20000/20000 [==============================] - 167s 8ms/sample - loss: 0.0632 - accuracy: 0.9780 - val_loss: 0.0474 - val_accuracy: 0.7812\n",
      "Epoch 9/20\n",
      "19968/20000 [============================>.] - ETA: 0s - loss: 0.0505 - accuracy: 0.9825\n",
      "Epoch 00009: val_accuracy did not improve from 0.79688\n",
      "20000/20000 [==============================] - 167s 8ms/sample - loss: 0.0505 - accuracy: 0.9825 - val_loss: 0.0501 - val_accuracy: 0.7578\n",
      "Epoch 10/20\n",
      "19968/20000 [============================>.] - ETA: 0s - loss: 0.0388 - accuracy: 0.9873\n",
      "Epoch 00010: val_accuracy did not improve from 0.79688\n",
      "20000/20000 [==============================] - 167s 8ms/sample - loss: 0.0388 - accuracy: 0.9873 - val_loss: 0.0595 - val_accuracy: 0.7500\n",
      "Epoch 11/20\n",
      "19968/20000 [============================>.] - ETA: 0s - loss: 0.0408 - accuracy: 0.9860\n",
      "Epoch 00011: val_accuracy did not improve from 0.79688\n",
      "20000/20000 [==============================] - 167s 8ms/sample - loss: 0.0407 - accuracy: 0.9860 - val_loss: 0.0583 - val_accuracy: 0.7812\n",
      "Epoch 12/20\n",
      "19968/20000 [============================>.] - ETA: 0s - loss: 0.0302 - accuracy: 0.9887\n",
      "Epoch 00012: val_accuracy did not improve from 0.79688\n",
      "20000/20000 [==============================] - 168s 8ms/sample - loss: 0.0302 - accuracy: 0.9887 - val_loss: 0.0576 - val_accuracy: 0.7812\n",
      "{'loss': [0.5973146186828613, 0.4569097741127014, 0.35320542097091673, 0.26125410847663877, 0.17011674065589905, 0.11742938311100005, 0.07881238958835601, 0.06316693836450576, 0.05046968639791012, 0.038844842287898064, 0.0407458316180855, 0.03021391904950142], 'accuracy': [0.6467, 0.77995, 0.8394, 0.89185, 0.9333, 0.95605, 0.97275, 0.978, 0.9825, 0.9873, 0.986, 0.98875], 'val_loss': [0.024348655700683595, 0.024799744415283202, 0.02898699645996094, 0.027737782287597657, 0.035433853149414066, 0.04045782165527344, 0.03816816101074219, 0.04742197570800781, 0.05008118743896484, 0.059505181884765626, 0.05834380798339844, 0.05759078674316406], 'val_accuracy': [0.76171875, 0.7578125, 0.75, 0.7734375, 0.77734375, 0.76953125, 0.796875, 0.78125, 0.7578125, 0.75, 0.78125, 0.78125]}\n"
     ]
    }
   ],
   "source": [
    "model_name = \"tf2_bert_bag_of_words\"\n",
    "\n",
    "# overfitting을 막기 위한 ealrystop 추가\n",
    "earlystop_callback = EarlyStopping(monitor='val_accuracy', min_delta=0.0001,patience=5)\n",
    "# min_delta: the threshold that triggers the termination (acc should at least improve 0.0001)\n",
    "# patience: no improvment epochs (patience = 1, 1번 이상 상승이 없으면 종료)\\\n",
    "\n",
    "checkpoint_path = DATA_OUT_PATH + model_name + '/weights.h5'\n",
    "checkpoint_dir = os.path.dirname(checkpoint_path)\n",
    "\n",
    "# Create path if exists\n",
    "if os.path.exists(checkpoint_dir):\n",
    "    print(\"{} -- Folder already exists \\n\".format(checkpoint_dir))\n",
    "else:\n",
    "    os.makedirs(checkpoint_dir, exist_ok=True)\n",
    "    print(\"{} -- Folder create complete \\n\".format(checkpoint_dir))\n",
    "    \n",
    "cp_callback = ModelCheckpoint(\n",
    "    checkpoint_path, monitor='val_accuracy', verbose=1, save_best_only=True, save_weights_only=True)\n",
    "\n",
    "# 학습과 eval 시작\n",
    "history = model.fit(train_data_bow_sent_pads, train_data_bow_labels, epochs=NUM_EPOCHS, batch_size=BATCH_SIZE,\n",
    "                    validation_split = VALID_SPLIT, callbacks=[earlystop_callback, cp_callback], validation_steps=2)\n",
    "\n",
    "#steps_for_epoch\n",
    "\n",
    "print(history.history)"
   ]
  },
  {
   "cell_type": "code",
   "execution_count": 16,
   "metadata": {},
   "outputs": [
    {
     "data": {
      "image/png": "[encoded data removed]",
      "text/plain": [
       "<Figure size 432x288 with 1 Axes>"
      ]
     },
     "metadata": {
      "needs_background": "light"
     },
     "output_type": "display_data"
    }
   ],
   "source": [
    "plot_graphs(history, 'accuracy')"
   ]
  },
  {
   "cell_type": "code",
   "execution_count": 17,
   "metadata": {},
   "outputs": [
    {
     "data": {
      "image/png": "[encoded data removed]",
      "text/plain": [
       "<Figure size 432x288 with 1 Axes>"
      ]
     },
     "metadata": {
      "needs_background": "light"
     },
     "output_type": "display_data"
    }
   ],
   "source": [
    "plot_graphs(history, 'loss')"
   ]
  },
  {
   "cell_type": "markdown",
   "metadata": {},
   "source": [
    "# Bag of Words Test Dataset (제출 확인 필요)"
   ]
  },
  {
   "cell_type": "code",
   "execution_count": 17,
   "metadata": {},
   "outputs": [
    {
     "data": {
      "text/html": [
       "<div>\n",
       "<style scoped>\n",
       "    .dataframe tbody tr th:only-of-type {\n",
       "        vertical-align: middle;\n",
       "    }\n",
       "\n",
       "    .dataframe tbody tr th {\n",
       "        vertical-align: top;\n",
       "    }\n",
       "\n",
       "    .dataframe thead th {\n",
       "        text-align: right;\n",
       "    }\n",
       "</style>\n",
       "<table border=\"1\" class=\"dataframe\">\n",
       "  <thead>\n",
       "    <tr style=\"text-align: right;\">\n",
       "      <th></th>\n",
       "      <th>id</th>\n",
       "      <th>review</th>\n",
       "    </tr>\n",
       "  </thead>\n",
       "  <tbody>\n",
       "    <tr>\n",
       "      <th>0</th>\n",
       "      <td>\"12311_10\"</td>\n",
       "      <td>\"Naturally in a film who's main themes are of ...</td>\n",
       "    </tr>\n",
       "    <tr>\n",
       "      <th>1</th>\n",
       "      <td>\"8348_2\"</td>\n",
       "      <td>\"This movie is a disaster within a disaster fi...</td>\n",
       "    </tr>\n",
       "    <tr>\n",
       "      <th>2</th>\n",
       "      <td>\"5828_4\"</td>\n",
       "      <td>\"All in all, this is a movie for kids. We saw ...</td>\n",
       "    </tr>\n",
       "    <tr>\n",
       "      <th>3</th>\n",
       "      <td>\"7186_2\"</td>\n",
       "      <td>\"Afraid of the Dark left me with the impressio...</td>\n",
       "    </tr>\n",
       "    <tr>\n",
       "      <th>4</th>\n",
       "      <td>\"12128_7\"</td>\n",
       "      <td>\"A very accurate depiction of small time mob l...</td>\n",
       "    </tr>\n",
       "  </tbody>\n",
       "</table>\n",
       "</div>"
      ],
      "text/plain": [
       "           id                                             review\n",
       "0  \"12311_10\"  \"Naturally in a film who's main themes are of ...\n",
       "1    \"8348_2\"  \"This movie is a disaster within a disaster fi...\n",
       "2    \"5828_4\"  \"All in all, this is a movie for kids. We saw ...\n",
       "3    \"7186_2\"  \"Afraid of the Dark left me with the impressio...\n",
       "4   \"12128_7\"  \"A very accurate depiction of small time mob l..."
      ]
     },
     "execution_count": 17,
     "metadata": {},
     "output_type": "execute_result"
    }
   ],
   "source": [
    "TEST_BOW_DF = os.path.join(DATA_IN_PATH, 'popcorn', 'testData.tsv')\n",
    "\n",
    "test_data_bow = pd.read_csv(TEST_BOW_DF, header=0, delimiter=\"\\t\", quoting=3)\n",
    "test_data_bow.head()"
   ]
  },
  {
   "cell_type": "code",
   "execution_count": 19,
   "metadata": {},
   "outputs": [],
   "source": [
    "test_data_bow_sents = []\n",
    "test_data_bow_idx = []\n",
    "\n",
    "for test_sent, test_idx in zip(test_data_bow[\"review\"], test_data_bow[\"id\"]):\n",
    "    try:\n",
    "        # Max Len의 경우 4장에 EDA값을 추출하였던 길이 174를 사용한다.\n",
    "        token_sent = tokenizer.encode(preprocessing(test_sent[:174], remove_stopwords = False))\n",
    "        \n",
    "    except Exception as e:\n",
    "        print(\"Error message: {}\".format(e))\n",
    "        print(\"sentence: {}\".format(test_sent))\n",
    "        continue\n",
    "        \n",
    "    test_data_bow_sents.append(token_sent) #append는 빼 놓고 한다.\n",
    "    test_data_bow_idx.append(test_idx)\n",
    "\n",
    "test_data_bow_sent_pad = pad_sequences(test_data_bow_sents, maxlen=MAX_LEN, padding='post') # convert into numpy"
   ]
  },
  {
   "cell_type": "code",
   "execution_count": 22,
   "metadata": {},
   "outputs": [
    {
     "name": "stdout",
     "output_type": "stream",
     "text": [
      "num sents, labels 25000, 25000\n"
     ]
    }
   ],
   "source": [
    "print(\"num sents, labels {}, {}\".format(len(test_data_bow_sent_pad), len(test_data_bow_idx)))"
   ]
  },
  {
   "cell_type": "markdown",
   "metadata": {},
   "source": [
    "# Quora Simliarity (ENG)"
   ]
  },
  {
   "cell_type": "code",
   "execution_count": 63,
   "metadata": {},
   "outputs": [],
   "source": [
    "# BASE PARAM\n",
    "\n",
    "BATCH_SIZE = 256\n",
    "NUM_EPOCHS = 50\n",
    "VALID_SPLIT = 0.1\n",
    "MAX_LEN = 31 * 2"
   ]
  },
  {
   "cell_type": "code",
   "execution_count": 56,
   "metadata": {},
   "outputs": [
    {
     "data": {
      "text/html": [
       "<div>\n",
       "<style scoped>\n",
       "    .dataframe tbody tr th:only-of-type {\n",
       "        vertical-align: middle;\n",
       "    }\n",
       "\n",
       "    .dataframe tbody tr th {\n",
       "        vertical-align: top;\n",
       "    }\n",
       "\n",
       "    .dataframe thead th {\n",
       "        text-align: right;\n",
       "    }\n",
       "</style>\n",
       "<table border=\"1\" class=\"dataframe\">\n",
       "  <thead>\n",
       "    <tr style=\"text-align: right;\">\n",
       "      <th></th>\n",
       "      <th>id</th>\n",
       "      <th>qid1</th>\n",
       "      <th>qid2</th>\n",
       "      <th>question1</th>\n",
       "      <th>question2</th>\n",
       "      <th>is_duplicate</th>\n",
       "    </tr>\n",
       "  </thead>\n",
       "  <tbody>\n",
       "    <tr>\n",
       "      <th>0</th>\n",
       "      <td>0</td>\n",
       "      <td>1</td>\n",
       "      <td>2</td>\n",
       "      <td>What is the step by step guide to invest in sh...</td>\n",
       "      <td>What is the step by step guide to invest in sh...</td>\n",
       "      <td>0</td>\n",
       "    </tr>\n",
       "    <tr>\n",
       "      <th>1</th>\n",
       "      <td>1</td>\n",
       "      <td>3</td>\n",
       "      <td>4</td>\n",
       "      <td>What is the story of Kohinoor (Koh-i-Noor) Dia...</td>\n",
       "      <td>What would happen if the Indian government sto...</td>\n",
       "      <td>0</td>\n",
       "    </tr>\n",
       "    <tr>\n",
       "      <th>2</th>\n",
       "      <td>2</td>\n",
       "      <td>5</td>\n",
       "      <td>6</td>\n",
       "      <td>How can I increase the speed of my internet co...</td>\n",
       "      <td>How can Internet speed be increased by hacking...</td>\n",
       "      <td>0</td>\n",
       "    </tr>\n",
       "    <tr>\n",
       "      <th>3</th>\n",
       "      <td>3</td>\n",
       "      <td>7</td>\n",
       "      <td>8</td>\n",
       "      <td>Why am I mentally very lonely? How can I solve...</td>\n",
       "      <td>Find the remainder when [math]23^{24}[/math] i...</td>\n",
       "      <td>0</td>\n",
       "    </tr>\n",
       "    <tr>\n",
       "      <th>4</th>\n",
       "      <td>4</td>\n",
       "      <td>9</td>\n",
       "      <td>10</td>\n",
       "      <td>Which one dissolve in water quikly sugar, salt...</td>\n",
       "      <td>Which fish would survive in salt water?</td>\n",
       "      <td>0</td>\n",
       "    </tr>\n",
       "  </tbody>\n",
       "</table>\n",
       "</div>"
      ],
      "text/plain": [
       "   id  qid1  qid2                                          question1  \\\n",
       "0   0     1     2  What is the step by step guide to invest in sh...   \n",
       "1   1     3     4  What is the story of Kohinoor (Koh-i-Noor) Dia...   \n",
       "2   2     5     6  How can I increase the speed of my internet co...   \n",
       "3   3     7     8  Why am I mentally very lonely? How can I solve...   \n",
       "4   4     9    10  Which one dissolve in water quikly sugar, salt...   \n",
       "\n",
       "                                           question2  is_duplicate  \n",
       "0  What is the step by step guide to invest in sh...             0  \n",
       "1  What would happen if the Indian government sto...             0  \n",
       "2  How can Internet speed be increased by hacking...             0  \n",
       "3  Find the remainder when [math]23^{24}[/math] i...             0  \n",
       "4            Which fish would survive in salt water?             0  "
      ]
     },
     "execution_count": 56,
     "metadata": {},
     "output_type": "execute_result"
    }
   ],
   "source": [
    "# Load Train dataset\n",
    "TRAIN_QUORA_DF = os.path.join(DATA_IN_PATH, 'quora', 'train.csv')\n",
    "\n",
    "train_data_quora = pd.read_csv(TRAIN_QUORA_DF, header = 0)\n",
    "train_data_quora.head()"
   ]
  },
  {
   "cell_type": "code",
   "execution_count": 57,
   "metadata": {},
   "outputs": [],
   "source": [
    "# Simliarty tokenizer\n",
    "\n",
    "# 참조: https://huggingface.co/transformers/main_classes/tokenizer.html?highlight=encode_plus#transformers.PreTrainedTokenizer.encode_plus\n",
    "\n",
    "def sim_tokenizer(sent1, sent2, MAX_LEN):\n",
    "    \n",
    "    # `encode_plus` will:\n",
    "    #   (1) Tokenize the sentence.\n",
    "    #   (2) Prepend the `[CLS]` token to the start.\n",
    "    #   (3) Append the `[SEP]` token to the end.\n",
    "    #   (4) Map tokens to their IDs.\n",
    "    #   (5) Pad or truncate the sentence to `max_length`\n",
    "    #   (6) Create attention masks for [PAD] tokens.\n",
    "\n",
    "    encoded_dict = tokenizer.encode_plus(\n",
    "        text = sent1,                      # Sentence to encode.\n",
    "        text_pair = sent2,\n",
    "        add_special_tokens = True, # Add '[CLS]' and '[SEP]'\n",
    "        max_length = MAX_LEN,           # Pad & truncate all sentences.\n",
    "        pad_to_max_length = True,\n",
    "        return_attention_mask = True   # Construct attn. masks.\n",
    "        \n",
    "    )\n",
    "    \n",
    "    input_id = encoded_dict['input_ids'] # Add the encoded sentence to the list.\n",
    "    attention_mask = encoded_dict['attention_mask'] # And its attention mask (simply differentiates padding from non-padding).\n",
    "    token_type_id = encoded_dict['token_type_ids'] # diffenciate two sentences\n",
    "    \n",
    "    return input_id, attention_mask, token_type_id"
   ]
  },
  {
   "cell_type": "code",
   "execution_count": 59,
   "metadata": {},
   "outputs": [],
   "source": [
    "# 토크나이저를 제외하고는 5장에서 처리한 방식과 유사하게 접근\n",
    "FILTERS = \"([~.,!?\\\"':;)(])\"\n",
    "\n",
    "change_filter = re.compile(FILTERS)\n",
    "\n",
    "input_ids = []\n",
    "attention_masks = []\n",
    "token_type_ids = []\n",
    "\n",
    "for sent1, sent2 in zip(train_data_quora['question1'], train_data_quora['question2']):\n",
    "    \n",
    "    sent1 = re.sub(change_filter, \"\", str(sent1))\n",
    "    sent2 = re.sub(change_filter, \"\", str(sent2))\n",
    "    \n",
    "    input_id, attention_mask, token_type_id = sim_tokenizer(sent1, sent2, MAX_LEN)\n",
    "    \n",
    "    input_ids.append(input_id)\n",
    "    attention_masks.append(attention_mask)\n",
    "    token_type_ids.append(token_type_id)\n",
    "    \n",
    "train_quora_input_ids = np.array(input_ids, dtype=int)\n",
    "train_quora_attention_masks = np.array(attention_masks, dtype=int)\n",
    "train_quora_type_ids = np.array(token_type_ids, dtype=int)\n",
    "train_quora_inputs = (train_quora_input_ids, train_quora_attention_masks, train_quora_type_ids)\n",
    "\n",
    "train_quora_labels = np.array(train_data_quora['is_duplicate'], dtype=int)\n",
    "\n",
    "print(\"# sents: {}, # labels: {}\".format(len(train_quora_input_ids), len(train_quora_labels)))"
   ]
  },
  {
   "cell_type": "code",
   "execution_count": 61,
   "metadata": {},
   "outputs": [],
   "source": [
    "# 학습 준비하기\n",
    "optimizer = tf.keras.optimizers.Adam(learning_rate=3e-5, epsilon=1e-08, clipnorm=1.0)\n",
    "loss = tf.keras.losses.SparseCategoricalCrossentropy(from_logits=True)\n",
    "metric = tf.keras.metrics.SparseCategoricalAccuracy('accuracy')\n",
    "model.compile(optimizer=optimizer, loss=loss, metrics=[metric])"
   ]
  },
  {
   "cell_type": "code",
   "execution_count": null,
   "metadata": {
    "scrolled": true
   },
   "outputs": [
    {
     "name": "stdout",
     "output_type": "stream",
     "text": [
      "data_out/ENGtf2_bert_quora -- Folder already exists \n",
      "\n",
      "Train on 323432 samples, validate on 80858 samples\n",
      "Epoch 1/50\n",
      "323328/323432 [============================>.] - ETA: 0s - loss: 0.3238 - accuracy: 0.8528\n",
      "Epoch 00001: val_accuracy improved from -inf to 0.89648, saving model to data_out/ENGtf2_bert_quora/weights.h5\n",
      "323432/323432 [==============================] - 1261s 4ms/sample - loss: 0.3238 - accuracy: 0.8528 - val_loss: 0.0016 - val_accuracy: 0.8965\n",
      "Epoch 2/50\n",
      "323328/323432 [============================>.] - ETA: 0s - loss: 0.2346 - accuracy: 0.9004\n",
      "Epoch 00002: val_accuracy improved from 0.89648 to 0.90234, saving model to data_out/ENGtf2_bert_quora/weights.h5\n",
      "323432/323432 [==============================] - 1259s 4ms/sample - loss: 0.2346 - accuracy: 0.9004 - val_loss: 0.0014 - val_accuracy: 0.9023\n",
      "Epoch 3/50\n",
      "215808/323432 [===================>..........] - ETA: 6:55 - loss: 0.1820 - accuracy: 0.9255"
     ]
    }
   ],
   "source": [
    "model_name = \"tf2_bert_quora\"\n",
    "\n",
    "# overfitting을 막기 위한 ealrystop 추가\n",
    "earlystop_callback = EarlyStopping(monitor='val_accuracy', min_delta=0.0001,patience=5)\n",
    "# min_delta: the threshold that triggers the termination (acc should at least improve 0.0001)\n",
    "# patience: no improvment epochs (patience = 1, 1번 이상 상승이 없으면 종료)\\\n",
    "\n",
    "checkpoint_path = DATA_OUT_PATH + model_name + '/weights.h5'\n",
    "checkpoint_dir = os.path.dirname(checkpoint_path)\n",
    "\n",
    "# Create path if exists\n",
    "if os.path.exists(checkpoint_dir):\n",
    "    print(\"{} -- Folder already exists \\n\".format(checkpoint_dir))\n",
    "else:\n",
    "    os.makedirs(checkpoint_dir, exist_ok=True)\n",
    "    print(\"{} -- Folder create complete \\n\".format(checkpoint_dir))\n",
    "    \n",
    "cp_callback = ModelCheckpoint(\n",
    "    checkpoint_path, monitor='val_accuracy', verbose=1, save_best_only=True, save_weights_only=True)\n",
    "\n",
    "# 학습과 eval 시작\n",
    "history = model.fit(train_quora_inputs, train_quora_labels, epochs=NUM_EPOCHS,\n",
    "            batch_size=BATCH_SIZE, validation_split = VALID_SPLIT, callbacks=[earlystop_callback, cp_callback], validation_steps=2)\n",
    "\n",
    "#steps_for_epoch\n",
    "\n",
    "print(history.history)"
   ]
  },
  {
   "cell_type": "code",
   "execution_count": null,
   "metadata": {},
   "outputs": [],
   "source": [
    "plot_graphs(history, 'accuracy')"
   ]
  },
  {
   "cell_type": "code",
   "execution_count": null,
   "metadata": {},
   "outputs": [],
   "source": [
    "plot_graphs(history, 'loss')"
   ]
  },
  {
   "cell_type": "markdown",
   "metadata": {},
   "source": [
    "# Quora Simliarity TEST"
   ]
  },
  {
   "cell_type": "code",
   "execution_count": null,
   "metadata": {},
   "outputs": [],
   "source": [
    "# 테스트 데이터셋 로드\n",
    "\n",
    "TEST_QUORA_DF = os.path.join(DATA_IN_PATH, 'quora', 'test.csv')\n",
    "\n",
    "test_data_quora = pd.read_csv(TEST_QUORA_DF, header = 0)\n",
    "\n",
    "test_data_quora = pd.read_csv(TEST_QUORA_DF, header=0, delimiter=\"\\t\", quoting=3)\n",
    "test_data_quora.head()"
   ]
  },
  {
   "cell_type": "code",
   "execution_count": null,
   "metadata": {},
   "outputs": [],
   "source": [
    "# Test dataset 전처리\n",
    "\n",
    "input_ids = []\n",
    "attention_masks = []\n",
    "token_type_ids = []\n",
    "\n",
    "for sent1, sent2 in zip(test_data_quora['question1'], test_data_quora['question2']):\n",
    "    \n",
    "    sent1 = re.sub(change_filter, \"\", str(sent1))\n",
    "    sent2 = re.sub(change_filter, \"\", str(sent2))\n",
    "    \n",
    "    input_id, attention_mask, token_type_id = quora_tokenizer(sent1, sent2, MAX_LEN)\n",
    "    \n",
    "    input_ids.append(input_id)\n",
    "    attention_masks.append(attention_mask)\n",
    "    token_type_ids.append(token_type_id)\n",
    "    \n",
    "test_quora_input_ids = np.array(input_ids, dtype=int)\n",
    "test_quora_attention_masks = np.array(attention_masks, dtype=int)\n",
    "test_quora_type_ids = np.array(token_type_ids, dtype=int)\n",
    "test_quora_inputs = (train_quora_input_ids, train_quora_attention_masks, train_quora_type_ids)\n",
    "\n",
    "print(\"# sents: {}\".format(len(test_quora_input_ids))"
   ]
  },
  {
   "cell_type": "code",
   "execution_count": null,
   "metadata": {},
   "outputs": [],
   "source": [
    "# 테스트 값 예측하기\n",
    "\n",
    "predictions = model.predict(test_quora_inputs, batch_size=BATCH_SIZE)\n",
    "predictions = predictions.squeeze(-1)\n",
    "\n",
    "output = pd.DataFrame( data={\"test_id\":test_data_quora['test_id'], \"is_duplicate\": list(predictions)} )\n",
    "output.to_csv(\"bert_predict.csv\", index=False, quoting=3)"
   ]
  },
  {
   "cell_type": "code",
   "execution_count": null,
   "metadata": {},
   "outputs": [],
   "source": []
  }
 ],
 "metadata": {
  "kernelspec": {
   "display_name": "Python 3",
   "language": "python",
   "name": "python3"
  },
  "language_info": {
   "codemirror_mode": {
    "name": "ipython",
    "version": 3
   },
   "file_extension": ".py",
   "mimetype": "text/x-python",
   "name": "python",
   "nbconvert_exporter": "python",
   "pygments_lexer": "ipython3",
   "version": "3.6.5"
  }
 },
 "nbformat": 4,
 "nbformat_minor": 2
}
