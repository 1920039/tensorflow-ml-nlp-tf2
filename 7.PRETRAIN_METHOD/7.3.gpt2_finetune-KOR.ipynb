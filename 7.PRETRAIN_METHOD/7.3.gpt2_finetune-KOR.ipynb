{
 "cells": [
  {
   "cell_type": "code",
   "execution_count": 43,
   "metadata": {},
   "outputs": [],
   "source": [
    "import os\n",
    "import tensorflow as tf\n",
    "from transformers import *\n",
    "\n",
    "from tensorflow.keras.preprocessing.sequence import pad_sequences\n",
    "from tensorflow.keras.callbacks import EarlyStopping, ModelCheckpoint\n",
    "\n",
    "import gluonnlp as nlp\n",
    "from gluonnlp.data import SentencepieceTokenizer\n",
    "\n",
    "import pandas as pd\n",
    "import matplotlib.pyplot as plt\n",
    "\n",
    "from tqdm import tqdm\n",
    "import numpy as np\n",
    "import re\n",
    "\n",
    "import setGPU"
   ]
  },
  {
   "cell_type": "code",
   "execution_count": 44,
   "metadata": {},
   "outputs": [],
   "source": [
    "import tokenizers"
   ]
  },
  {
   "cell_type": "code",
   "execution_count": 45,
   "metadata": {},
   "outputs": [],
   "source": [
    "# 시각화\n",
    "\n",
    "def plot_graphs(history, string):\n",
    "    plt.plot(history.history[string])\n",
    "    plt.plot(history.history['val_'+string], '')\n",
    "    plt.xlabel(\"Epochs\")\n",
    "    plt.ylabel(string)\n",
    "    plt.legend([string, 'val_'+string])\n",
    "    plt.show()"
   ]
  },
  {
   "cell_type": "code",
   "execution_count": 46,
   "metadata": {},
   "outputs": [],
   "source": [
    "SEED_NUM = 1234\n",
    "tf.random.set_seed(SEED_NUM)"
   ]
  },
  {
   "cell_type": "code",
   "execution_count": 47,
   "metadata": {},
   "outputs": [],
   "source": [
    "class TFGPT2Classifier(tf.keras.Model):\n",
    "    def __init__(self, dir_path=None, num_class=None):\n",
    "        super(TFGPT2Classifier, self).__init__()\n",
    "        \n",
    "        self.dir_path = 'gpt2' if dir_path is None else dir_path\n",
    "        \n",
    "        self.gpt2 = TFGPT2Model.from_pretrained(self.dir_path)\n",
    "        self.num_class = self.gpt2.config.num_labels if num_class is None else num_class\n",
    "        \n",
    "        self.dropout = tf.keras.layers.Dropout(self.gpt2.config.summary_first_dropout)\n",
    "        self.classifier = tf.keras.layers.Dense(self.num_class, \n",
    "                                                kernel_initializer=tf.keras.initializers.TruncatedNormal(stddev=self.gpt2.config.initializer_range), \n",
    "                                                name=\"classifier\")\n",
    "        \n",
    "    def call(self, inputs):\n",
    "        outputs = self.gpt2(inputs)\n",
    "        pooled_output = outputs[0][:, -1]\n",
    "\n",
    "        pooled_output = self.dropout(pooled_output)\n",
    "        logits = self.classifier(pooled_output)\n",
    "\n",
    "        outputs = (logits,) + outputs[2:] \n",
    "\n",
    "        return outputs"
   ]
  },
  {
   "cell_type": "code",
   "execution_count": 48,
   "metadata": {},
   "outputs": [],
   "source": [
    "TOKENIZER_PATH = './gpt_ckpt/kogpt2_news_wiki_ko_cased_818bfa919d.spiece'\n",
    "\n",
    "tokenizer = SentencepieceTokenizer(TOKENIZER_PATH)\n",
    "vocab = nlp.vocab.BERTVocab.from_sentencepiece(TOKENIZER_PATH,\n",
    "                                               mask_token=None,\n",
    "                                               sep_token='<unused0>',\n",
    "                                               cls_token='<unused1>',\n",
    "                                               unknown_token='<unk>',\n",
    "                                               padding_token='<pad>',\n",
    "                                               bos_token='<s>',\n",
    "                                               eos_token='</s>')"
   ]
  },
  {
   "cell_type": "code",
   "execution_count": 49,
   "metadata": {},
   "outputs": [],
   "source": [
    "#random seed 고정\n",
    "\n",
    "tf.random.set_seed(0)\n",
    "np.random.seed(0)\n",
    "\n",
    "BATCH_SIZE = 8\n",
    "NUM_EPOCHS = 20\n",
    "VALID_SPLIT = 0.1\n",
    "MAX_LEN = 39\n",
    "DATA_IN_PATH = 'data_in/KOR'\n",
    "DATA_OUT_PATH = \"data_out/KOR\"\n",
    "BASE_MODEL_PATH = './gpt_ckpt'"
   ]
  },
  {
   "cell_type": "markdown",
   "metadata": {},
   "source": [
    "# Korean Movie Review Classification"
   ]
  },
  {
   "cell_type": "code",
   "execution_count": 85,
   "metadata": {},
   "outputs": [
    {
     "data": {
      "text/html": [
       "<div>\n",
       "<style scoped>\n",
       "    .dataframe tbody tr th:only-of-type {\n",
       "        vertical-align: middle;\n",
       "    }\n",
       "\n",
       "    .dataframe tbody tr th {\n",
       "        vertical-align: top;\n",
       "    }\n",
       "\n",
       "    .dataframe thead th {\n",
       "        text-align: right;\n",
       "    }\n",
       "</style>\n",
       "<table border=\"1\" class=\"dataframe\">\n",
       "  <thead>\n",
       "    <tr style=\"text-align: right;\">\n",
       "      <th></th>\n",
       "      <th>id</th>\n",
       "      <th>document</th>\n",
       "      <th>label</th>\n",
       "    </tr>\n",
       "  </thead>\n",
       "  <tbody>\n",
       "    <tr>\n",
       "      <td>0</td>\n",
       "      <td>9976970</td>\n",
       "      <td>아 더빙.. 진짜 짜증나네요 목소리</td>\n",
       "      <td>0</td>\n",
       "    </tr>\n",
       "    <tr>\n",
       "      <td>1</td>\n",
       "      <td>3819312</td>\n",
       "      <td>흠...포스터보고 초딩영화줄....오버연기조차 가볍지 않구나</td>\n",
       "      <td>1</td>\n",
       "    </tr>\n",
       "    <tr>\n",
       "      <td>2</td>\n",
       "      <td>10265843</td>\n",
       "      <td>너무재밓었다그래서보는것을추천한다</td>\n",
       "      <td>0</td>\n",
       "    </tr>\n",
       "    <tr>\n",
       "      <td>3</td>\n",
       "      <td>9045019</td>\n",
       "      <td>교도소 이야기구먼 ..솔직히 재미는 없다..평점 조정</td>\n",
       "      <td>0</td>\n",
       "    </tr>\n",
       "    <tr>\n",
       "      <td>4</td>\n",
       "      <td>6483659</td>\n",
       "      <td>사이몬페그의 익살스런 연기가 돋보였던 영화!스파이더맨에서 늙어보이기만 했던 커스틴 ...</td>\n",
       "      <td>1</td>\n",
       "    </tr>\n",
       "  </tbody>\n",
       "</table>\n",
       "</div>"
      ],
      "text/plain": [
       "         id                                           document  label\n",
       "0   9976970                                아 더빙.. 진짜 짜증나네요 목소리      0\n",
       "1   3819312                  흠...포스터보고 초딩영화줄....오버연기조차 가볍지 않구나      1\n",
       "2  10265843                                  너무재밓었다그래서보는것을추천한다      0\n",
       "3   9045019                      교도소 이야기구먼 ..솔직히 재미는 없다..평점 조정      0\n",
       "4   6483659  사이몬페그의 익살스런 연기가 돋보였던 영화!스파이더맨에서 늙어보이기만 했던 커스틴 ...      1"
      ]
     },
     "execution_count": 85,
     "metadata": {},
     "output_type": "execute_result"
    }
   ],
   "source": [
    "# 데이터 전처리 준비\n",
    "\n",
    "DATA_TRAIN_PATH = os.path.join(DATA_IN_PATH, \"naver_movie\", \"ratings_train.txt\")\n",
    "\n",
    "train_data = pd.read_csv(DATA_TRAIN_PATH, header = 0, delimiter = '\\t', quoting = 3)\n",
    "train_data = train_data.dropna()\n",
    "train_data.head()"
   ]
  },
  {
   "cell_type": "code",
   "execution_count": 51,
   "metadata": {},
   "outputs": [],
   "source": [
    "# 텍스트 전처리\n",
    "\n",
    "def clean_text(sent):\n",
    "    sent_clean = re.sub(\"[^가-힣ㄱ-ㅎㅏ-ㅣ\\\\s]\", \"\", sent)\n",
    "    return sent_clean"
   ]
  },
  {
   "cell_type": "code",
   "execution_count": 52,
   "metadata": {},
   "outputs": [],
   "source": [
    "train_data = train_data[:50] # for test\n",
    "\n",
    "train_data_sents = list()\n",
    "train_data_labels = list()\n",
    "\n",
    "for train_sent, train_label in zip(train_data['document'], train_data['label']):\n",
    "    tokens = [vocab[vocab.bos_token]]  + vocab[tokenizer(clean_text(train_sent))] + \\\n",
    "             [vocab[vocab.eos_token], vocab[vocab.cls_token]]\n",
    "    train_data_sents.append(tokens)\n",
    "    train_data_labels.append(train_label)\n",
    "\n",
    "train_data_sents = pad_sequences(train_data_sents, MAX_LEN, value=vocab[vocab.padding_token])\n",
    "\n",
    "train_data_sents = np.array(train_data_sents, dtype=np.int64)\n",
    "train_data_labels = np.array(train_data_labels, dtype=np.int64)"
   ]
  },
  {
   "cell_type": "code",
   "execution_count": 55,
   "metadata": {},
   "outputs": [],
   "source": [
    "cls_model = TFGPT2Classifier(BASE_MODEL_PATH)"
   ]
  },
  {
   "cell_type": "code",
   "execution_count": 56,
   "metadata": {},
   "outputs": [],
   "source": [
    "optimizer = tf.keras.optimizers.Adam(learning_rate=1e-4, epsilon=1e-08, clipnorm=1.0)\n",
    "loss = tf.keras.losses.SparseCategoricalCrossentropy(from_logits=True)\n",
    "metric = tf.keras.metrics.SparseCategoricalAccuracy('accuracy')\n",
    "cls_model.compile(optimizer=optimizer, loss=loss, metrics=[metric])"
   ]
  },
  {
   "cell_type": "code",
   "execution_count": 57,
   "metadata": {},
   "outputs": [
    {
     "name": "stdout",
     "output_type": "stream",
     "text": [
      "data_out/KORtf2_gpt2_naver_movie -- Folder already exists \n",
      "\n",
      "Train on 45 samples, validate on 5 samples\n",
      "Epoch 1/20\n",
      "40/45 [=========================>....] - ETA: 3s - loss: 0.7613 - accuracy: 0.5250\n",
      "Epoch 00001: val_accuracy improved from -inf to 0.20000, saving model to data_out/KORtf2_gpt2_naver_movie/weights.h5\n",
      "45/45 [==============================] - 29s 649ms/sample - loss: 0.7544 - accuracy: 0.5111 - val_loss: 0.7718 - val_accuracy: 0.2000\n",
      "Epoch 2/20\n",
      "40/45 [=========================>....] - ETA: 1s - loss: 0.6601 - accuracy: 0.6000\n",
      "Epoch 00002: val_accuracy did not improve from 0.20000\n",
      "45/45 [==============================] - 18s 400ms/sample - loss: 0.6658 - accuracy: 0.6000 - val_loss: 0.9117 - val_accuracy: 0.2000\n",
      "Epoch 3/20\n",
      "40/45 [=========================>....] - ETA: 1s - loss: 0.6730 - accuracy: 0.6000\n",
      "Epoch 00003: val_accuracy did not improve from 0.20000\n",
      "45/45 [==============================] - 19s 414ms/sample - loss: 0.6720 - accuracy: 0.6000 - val_loss: 0.7627 - val_accuracy: 0.2000\n",
      "Epoch 4/20\n",
      "40/45 [=========================>....] - ETA: 2s - loss: 0.6761 - accuracy: 0.6250\n",
      "Epoch 00004: val_accuracy did not improve from 0.20000\n",
      "45/45 [==============================] - 19s 420ms/sample - loss: 0.6789 - accuracy: 0.6000 - val_loss: 0.7960 - val_accuracy: 0.2000\n",
      "Epoch 5/20\n",
      "40/45 [=========================>....] - ETA: 2s - loss: 0.6827 - accuracy: 0.6000\n",
      "Epoch 00005: val_accuracy did not improve from 0.20000\n",
      "45/45 [==============================] - 19s 416ms/sample - loss: 0.6828 - accuracy: 0.6000 - val_loss: 0.8184 - val_accuracy: 0.2000\n",
      "Epoch 6/20\n",
      "40/45 [=========================>....] - ETA: 2s - loss: 0.6836 - accuracy: 0.5500\n",
      "Epoch 00006: val_accuracy did not improve from 0.20000\n",
      "45/45 [==============================] - 19s 420ms/sample - loss: 0.6682 - accuracy: 0.6000 - val_loss: 0.7945 - val_accuracy: 0.2000\n",
      "Epoch 7/20\n",
      "40/45 [=========================>....] - ETA: 2s - loss: 0.6909 - accuracy: 0.5500\n",
      "Epoch 00007: val_accuracy did not improve from 0.20000\n",
      "45/45 [==============================] - 19s 431ms/sample - loss: 0.6735 - accuracy: 0.6000 - val_loss: 0.8386 - val_accuracy: 0.2000\n",
      "Epoch 8/20\n",
      "40/45 [=========================>....] - ETA: 2s - loss: 0.6635 - accuracy: 0.6000\n",
      "Epoch 00008: val_accuracy did not improve from 0.20000\n",
      "45/45 [==============================] - 19s 430ms/sample - loss: 0.6650 - accuracy: 0.6000 - val_loss: 0.8837 - val_accuracy: 0.2000\n",
      "Epoch 9/20\n",
      "40/45 [=========================>....] - ETA: 2s - loss: 0.6496 - accuracy: 0.6000\n",
      "Epoch 00009: val_accuracy did not improve from 0.20000\n",
      "45/45 [==============================] - 19s 426ms/sample - loss: 0.6525 - accuracy: 0.6000 - val_loss: 0.8354 - val_accuracy: 0.2000\n",
      "Epoch 10/20\n",
      "40/45 [=========================>....] - ETA: 2s - loss: 0.6390 - accuracy: 0.6000\n",
      "Epoch 00010: val_accuracy did not improve from 0.20000\n",
      "45/45 [==============================] - 19s 417ms/sample - loss: 0.6363 - accuracy: 0.6000 - val_loss: 0.8046 - val_accuracy: 0.2000\n",
      "Epoch 11/20\n",
      "40/45 [=========================>....] - ETA: 2s - loss: 0.6532 - accuracy: 0.6000\n",
      "Epoch 00011: val_accuracy did not improve from 0.20000\n",
      "45/45 [==============================] - 19s 419ms/sample - loss: 0.6359 - accuracy: 0.6444 - val_loss: 0.7724 - val_accuracy: 0.2000\n",
      "Epoch 12/20\n",
      "40/45 [=========================>....] - ETA: 2s - loss: 0.5672 - accuracy: 0.7250\n",
      "Epoch 00012: val_accuracy improved from 0.20000 to 0.60000, saving model to data_out/KORtf2_gpt2_naver_movie/weights.h5\n",
      "45/45 [==============================] - 20s 435ms/sample - loss: 0.5549 - accuracy: 0.7556 - val_loss: 0.7457 - val_accuracy: 0.6000\n",
      "Epoch 13/20\n",
      "40/45 [=========================>....] - ETA: 2s - loss: 0.3505 - accuracy: 0.9250\n",
      "Epoch 00013: val_accuracy improved from 0.60000 to 0.80000, saving model to data_out/KORtf2_gpt2_naver_movie/weights.h5\n",
      "45/45 [==============================] - 20s 436ms/sample - loss: 0.3484 - accuracy: 0.9111 - val_loss: 0.6770 - val_accuracy: 0.8000\n",
      "Epoch 14/20\n",
      "40/45 [=========================>....] - ETA: 2s - loss: 0.4186 - accuracy: 0.8500\n",
      "Epoch 00014: val_accuracy did not improve from 0.80000\n",
      "45/45 [==============================] - 19s 422ms/sample - loss: 0.3759 - accuracy: 0.8667 - val_loss: 1.9370 - val_accuracy: 0.2000\n",
      "Epoch 15/20\n",
      "40/45 [=========================>....] - ETA: 2s - loss: 0.0793 - accuracy: 0.9750\n",
      "Epoch 00015: val_accuracy did not improve from 0.80000\n",
      "45/45 [==============================] - 19s 429ms/sample - loss: 0.1155 - accuracy: 0.9333 - val_loss: 0.7210 - val_accuracy: 0.6000\n",
      "Epoch 16/20\n",
      "40/45 [=========================>....] - ETA: 2s - loss: 0.1133 - accuracy: 0.9500\n",
      "Epoch 00016: val_accuracy did not improve from 0.80000\n",
      "45/45 [==============================] - 19s 432ms/sample - loss: 0.1289 - accuracy: 0.9556 - val_loss: 1.5239 - val_accuracy: 0.0000e+00\n",
      "Epoch 17/20\n",
      "40/45 [=========================>....] - ETA: 2s - loss: 0.0783 - accuracy: 0.9750\n",
      "Epoch 00017: val_accuracy did not improve from 0.80000\n",
      "45/45 [==============================] - 20s 434ms/sample - loss: 0.0733 - accuracy: 0.9778 - val_loss: 0.8439 - val_accuracy: 0.8000\n",
      "Epoch 18/20\n",
      "40/45 [=========================>....] - ETA: 2s - loss: 0.0490 - accuracy: 0.9750\n",
      "Epoch 00018: val_accuracy did not improve from 0.80000\n",
      "45/45 [==============================] - 19s 424ms/sample - loss: 0.0505 - accuracy: 0.9778 - val_loss: 0.7424 - val_accuracy: 0.8000\n",
      "Epoch 19/20\n",
      "40/45 [=========================>....] - ETA: 2s - loss: 0.0542 - accuracy: 0.9750\n",
      "Epoch 00019: val_accuracy did not improve from 0.80000\n",
      "45/45 [==============================] - 19s 428ms/sample - loss: 0.0521 - accuracy: 0.9778 - val_loss: 1.7373 - val_accuracy: 0.0000e+00\n",
      "Epoch 20/20\n",
      "40/45 [=========================>....] - ETA: 2s - loss: 0.0258 - accuracy: 1.0000\n",
      "Epoch 00020: val_accuracy did not improve from 0.80000\n",
      "45/45 [==============================] - 19s 419ms/sample - loss: 0.0238 - accuracy: 1.0000 - val_loss: 2.4342 - val_accuracy: 0.0000e+00\n"
     ]
    }
   ],
   "source": [
    "model_name = \"tf2_gpt2_naver_movie\"\n",
    "\n",
    "earlystop_callback = EarlyStopping(monitor='val_accuracy', min_delta=0.0001,patience=5)\n",
    "\n",
    "checkpoint_path = DATA_OUT_PATH + model_name + '/weights.h5'\n",
    "checkpoint_dir = os.path.dirname(checkpoint_path)\n",
    "\n",
    "if os.path.exists(checkpoint_dir):\n",
    "    print(\"{} -- Folder already exists \\n\".format(checkpoint_dir))\n",
    "else:\n",
    "    os.makedirs(checkpoint_dir, exist_ok=True)\n",
    "    print(\"{} -- Folder create complete \\n\".format(checkpoint_dir))\n",
    "    \n",
    "cp_callback = ModelCheckpoint(\n",
    "    checkpoint_path, monitor='val_accuracy', verbose=1, save_best_only=True, save_weights_only=True)\n",
    "\n",
    "history = cls_model.fit(train_data_sents, train_data_labels, epochs=NUM_EPOCHS, batch_size=BATCH_SIZE,\n",
    "                    validation_split = VALID_SPLIT, callbacks=[earlystop_callback, cp_callback])"
   ]
  },
  {
   "cell_type": "code",
   "execution_count": 58,
   "metadata": {},
   "outputs": [
    {
     "data": {
      "image/png": "[encoded data removed]",
      "text/plain": [
       "<Figure size 432x288 with 1 Axes>"
      ]
     },
     "metadata": {
      "needs_background": "light"
     },
     "output_type": "display_data"
    }
   ],
   "source": [
    "plot_graphs(history, 'accuracy')"
   ]
  },
  {
   "cell_type": "code",
   "execution_count": 59,
   "metadata": {},
   "outputs": [
    {
     "data": {
      "image/png": "[encoded data removed]",
      "text/plain": [
       "<Figure size 432x288 with 1 Axes>"
      ]
     },
     "metadata": {
      "needs_background": "light"
     },
     "output_type": "display_data"
    }
   ],
   "source": [
    "plot_graphs(history, 'loss')"
   ]
  },
  {
   "cell_type": "markdown",
   "metadata": {},
   "source": [
    "# Korean Movie Review Test 데이터"
   ]
  },
  {
   "cell_type": "code",
   "execution_count": 60,
   "metadata": {},
   "outputs": [
    {
     "data": {
      "text/html": [
       "<div>\n",
       "<style scoped>\n",
       "    .dataframe tbody tr th:only-of-type {\n",
       "        vertical-align: middle;\n",
       "    }\n",
       "\n",
       "    .dataframe tbody tr th {\n",
       "        vertical-align: top;\n",
       "    }\n",
       "\n",
       "    .dataframe thead th {\n",
       "        text-align: right;\n",
       "    }\n",
       "</style>\n",
       "<table border=\"1\" class=\"dataframe\">\n",
       "  <thead>\n",
       "    <tr style=\"text-align: right;\">\n",
       "      <th></th>\n",
       "      <th>id</th>\n",
       "      <th>document</th>\n",
       "      <th>label</th>\n",
       "    </tr>\n",
       "  </thead>\n",
       "  <tbody>\n",
       "    <tr>\n",
       "      <td>0</td>\n",
       "      <td>6270596</td>\n",
       "      <td>굳 ㅋ</td>\n",
       "      <td>1</td>\n",
       "    </tr>\n",
       "    <tr>\n",
       "      <td>1</td>\n",
       "      <td>9274899</td>\n",
       "      <td>GDNTOPCLASSINTHECLUB</td>\n",
       "      <td>0</td>\n",
       "    </tr>\n",
       "    <tr>\n",
       "      <td>2</td>\n",
       "      <td>8544678</td>\n",
       "      <td>뭐야 이 평점들은.... 나쁘진 않지만 10점 짜리는 더더욱 아니잖아</td>\n",
       "      <td>0</td>\n",
       "    </tr>\n",
       "    <tr>\n",
       "      <td>3</td>\n",
       "      <td>6825595</td>\n",
       "      <td>지루하지는 않은데 완전 막장임... 돈주고 보기에는....</td>\n",
       "      <td>0</td>\n",
       "    </tr>\n",
       "    <tr>\n",
       "      <td>4</td>\n",
       "      <td>6723715</td>\n",
       "      <td>3D만 아니었어도 별 다섯 개 줬을텐데.. 왜 3D로 나와서 제 심기를 불편하게 하죠??</td>\n",
       "      <td>0</td>\n",
       "    </tr>\n",
       "  </tbody>\n",
       "</table>\n",
       "</div>"
      ],
      "text/plain": [
       "        id                                           document  label\n",
       "0  6270596                                                굳 ㅋ      1\n",
       "1  9274899                               GDNTOPCLASSINTHECLUB      0\n",
       "2  8544678             뭐야 이 평점들은.... 나쁘진 않지만 10점 짜리는 더더욱 아니잖아      0\n",
       "3  6825595                   지루하지는 않은데 완전 막장임... 돈주고 보기에는....      0\n",
       "4  6723715  3D만 아니었어도 별 다섯 개 줬을텐데.. 왜 3D로 나와서 제 심기를 불편하게 하죠??      0"
      ]
     },
     "execution_count": 60,
     "metadata": {},
     "output_type": "execute_result"
    }
   ],
   "source": [
    "test_data = pd.read_csv(DATA_TEST_PATH, header = 0, delimiter = '\\t', quoting = 3)\n",
    "test_data = test_data.dropna()\n",
    "test_data.head()"
   ]
  },
  {
   "cell_type": "code",
   "execution_count": 61,
   "metadata": {},
   "outputs": [],
   "source": [
    "test_data = test_data[:50] # for test\n",
    "\n",
    "test_data_sents = list()\n",
    "test_data_labels = list()\n",
    "\n",
    "for test_sent, test_label in zip(test_data['document'], test_data['label']):\n",
    "    tokens = [vocab[vocab.bos_token]]  + vocab[tokenizer(clean_text(test_sent))] + \\\n",
    "             [vocab[vocab.eos_token], vocab[vocab.cls_token]]\n",
    "    test_data_sents.append(tokens)\n",
    "    test_data_labels.append(test_label)\n",
    "\n",
    "test_data_sents = pad_sequences(test_data_sents, MAX_LEN, value=vocab[vocab.padding_token])#, padding='post')\n",
    "\n",
    "test_data_sents = np.array(test_data_sents, dtype=np.int64)\n",
    "test_data_labels = np.array(test_data_labels, dtype=np.int64)"
   ]
  },
  {
   "cell_type": "code",
   "execution_count": 62,
   "metadata": {},
   "outputs": [
    {
     "name": "stdout",
     "output_type": "stream",
     "text": [
      "num sents, labels 50, 50\n"
     ]
    }
   ],
   "source": [
    "print(\"num sents, labels {}, {}\".format(len(test_data_sents), len(test_data_labels)))"
   ]
  },
  {
   "cell_type": "code",
   "execution_count": 64,
   "metadata": {},
   "outputs": [
    {
     "name": "stdout",
     "output_type": "stream",
     "text": [
      "50/50 [==============================] - 6s 115ms/sample - loss: 2.3543 - accuracy: 0.4800\n",
      "test loss, test acc:  [2.3543322849273682, 0.48]\n"
     ]
    }
   ],
   "source": [
    "results = cls_model.evaluate(test_data_sents, test_data_labels)\n",
    "print(\"test loss, test acc: \", results)"
   ]
  },
  {
   "cell_type": "markdown",
   "metadata": {},
   "source": [
    "# KorNLI 데이터셋 학습"
   ]
  },
  {
   "cell_type": "code",
   "execution_count": 3,
   "metadata": {},
   "outputs": [],
   "source": [
    "BATCH_SIZE = 128\n",
    "NUM_EPOCHS = 20\n",
    "VALID_SPLIT = 0.1\n",
    "MAX_LEN = 64 "
   ]
  },
  {
   "cell_type": "code",
   "execution_count": 65,
   "metadata": {},
   "outputs": [],
   "source": [
    "# Load Train dataset\n",
    "TRAIN_XNLI_DF = os.path.join(DATA_IN_PATH, 'KorNLI', 'multinli.train.ko.tsv')\n",
    "train_data_xnli = pd.read_csv(TRAIN_XNLI_DF, header=0, delimiter = '\\t', quoting = 3).dropna()"
   ]
  },
  {
   "cell_type": "code",
   "execution_count": 71,
   "metadata": {},
   "outputs": [],
   "source": [
    "train_data_xnli = train_data_xnli[:50] # for test\n",
    "\n",
    "train_data_sents = list()\n",
    "\n",
    "for train_sent_1, train_sent_2 in zip(train_data_xnli['sentence1'], train_data_xnli['sentence2']):\n",
    "    tokens = [vocab[vocab.bos_token]] + vocab[tokenizer(clean_text(train_sent_1))] + \\\n",
    "             [vocab[vocab.eos_token], vocab[vocab.sep_token], vocab[vocab.bos_token]] + \\\n",
    "             vocab[tokenizer(clean_text(train_sent_2))] + [vocab[vocab.eos_token], vocab[vocab.cls_token]]\n",
    "    train_data_sents.append(tokens)\n",
    "\n",
    "train_data_sents = pad_sequences(train_data_sents, MAX_LEN, value=vocab[vocab.padding_token])\n",
    "\n",
    "train_data_sents = np.array(train_data_sents, dtype=np.int64)"
   ]
  },
  {
   "cell_type": "code",
   "execution_count": 72,
   "metadata": {},
   "outputs": [
    {
     "name": "stdout",
     "output_type": "stream",
     "text": [
      "# sents: 50, # labels: 50\n"
     ]
    }
   ],
   "source": [
    "# Label을 Netural, Contradiction, Entailment 에서 숫자 형으로 변경한다.\n",
    "label_dict = {\"entailment\": 0, \"contradiction\": 1, \"neutral\": 2}\n",
    "def convert_int(label):\n",
    "    num_label = label_dict[label]    \n",
    "    return num_label\n",
    "\n",
    "train_data_xnli[\"gold_label_int\"] = train_data_xnli[\"gold_label\"].apply(convert_int)\n",
    "train_data_labels = np.array(train_data_xnli['gold_label_int'], dtype=int)\n",
    "\n",
    "print(\"# sents: {}, # labels: {}\".format(len(train_data_sents), len(train_data_labels)))"
   ]
  },
  {
   "cell_type": "code",
   "execution_count": 73,
   "metadata": {},
   "outputs": [],
   "source": [
    "sim_model = TFGPT2Classifier('./gpt_ckpt', 3)"
   ]
  },
  {
   "cell_type": "code",
   "execution_count": 74,
   "metadata": {},
   "outputs": [],
   "source": [
    "optimizer = tf.keras.optimizers.Adam(learning_rate=1e-4, epsilon=1e-08, clipnorm=1.0)\n",
    "loss = tf.keras.losses.SparseCategoricalCrossentropy(from_logits=True)\n",
    "metric = tf.keras.metrics.SparseCategoricalAccuracy('accuracy')\n",
    "sim_model.compile(optimizer=optimizer, loss=loss, metrics=[metric])"
   ]
  },
  {
   "cell_type": "code",
   "execution_count": 75,
   "metadata": {
    "scrolled": true
   },
   "outputs": [
    {
     "name": "stdout",
     "output_type": "stream",
     "text": [
      "data_out/KOR/tf2_gpt_kornli -- Folder already exists \n",
      "\n",
      "Train on 45 samples, validate on 5 samples\n",
      "Epoch 1/20\n",
      "40/45 [=========================>....] - ETA: 3s - loss: 1.1006 - accuracy: 0.4500\n",
      "Epoch 00001: val_accuracy improved from -inf to 0.40000, saving model to data_out/KOR/tf2_gpt_kornli/weights.h5\n",
      "45/45 [==============================] - 30s 662ms/sample - loss: 1.1225 - accuracy: 0.4222 - val_loss: 1.0786 - val_accuracy: 0.4000\n",
      "Epoch 2/20\n",
      "40/45 [=========================>....] - ETA: 1s - loss: 1.0656 - accuracy: 0.4750\n",
      "Epoch 00002: val_accuracy did not improve from 0.40000\n",
      "45/45 [==============================] - 19s 412ms/sample - loss: 1.0706 - accuracy: 0.4444 - val_loss: 1.1005 - val_accuracy: 0.4000\n",
      "Epoch 3/20\n",
      "40/45 [=========================>....] - ETA: 1s - loss: 1.0218 - accuracy: 0.6000\n",
      "Epoch 00003: val_accuracy did not improve from 0.40000\n",
      "45/45 [==============================] - 18s 405ms/sample - loss: 1.0346 - accuracy: 0.5778 - val_loss: 1.0934 - val_accuracy: 0.4000\n",
      "Epoch 4/20\n",
      "40/45 [=========================>....] - ETA: 1s - loss: 0.9943 - accuracy: 0.4500\n",
      "Epoch 00004: val_accuracy did not improve from 0.40000\n",
      "45/45 [==============================] - 18s 404ms/sample - loss: 0.9884 - accuracy: 0.4667 - val_loss: 1.1017 - val_accuracy: 0.4000\n",
      "Epoch 5/20\n",
      "40/45 [=========================>....] - ETA: 1s - loss: 0.9074 - accuracy: 0.5500\n",
      "Epoch 00005: val_accuracy did not improve from 0.40000\n",
      "45/45 [==============================] - 18s 396ms/sample - loss: 0.9159 - accuracy: 0.5333 - val_loss: 1.1140 - val_accuracy: 0.4000\n",
      "Epoch 6/20\n",
      "40/45 [=========================>....] - ETA: 1s - loss: 0.7954 - accuracy: 0.6250\n",
      "Epoch 00006: val_accuracy did not improve from 0.40000\n",
      "45/45 [==============================] - 18s 396ms/sample - loss: 0.7839 - accuracy: 0.6667 - val_loss: 1.1478 - val_accuracy: 0.4000\n",
      "Epoch 7/20\n",
      "40/45 [=========================>....] - ETA: 1s - loss: 0.5821 - accuracy: 0.9250\n",
      "Epoch 00007: val_accuracy did not improve from 0.40000\n",
      "45/45 [==============================] - 18s 397ms/sample - loss: 0.5613 - accuracy: 0.9333 - val_loss: 1.2086 - val_accuracy: 0.4000\n",
      "Epoch 8/20\n",
      "40/45 [=========================>....] - ETA: 1s - loss: 0.4070 - accuracy: 0.9500\n",
      "Epoch 00008: val_accuracy did not improve from 0.40000\n",
      "45/45 [==============================] - 18s 406ms/sample - loss: 0.4140 - accuracy: 0.9333 - val_loss: 1.1532 - val_accuracy: 0.2000\n",
      "Epoch 9/20\n",
      "40/45 [=========================>....] - ETA: 1s - loss: 0.2228 - accuracy: 1.0000\n",
      "Epoch 00009: val_accuracy did not improve from 0.40000\n",
      "45/45 [==============================] - 18s 402ms/sample - loss: 0.2394 - accuracy: 0.9778 - val_loss: 1.6330 - val_accuracy: 0.4000\n",
      "Epoch 10/20\n",
      "40/45 [=========================>....] - ETA: 2s - loss: 0.1629 - accuracy: 1.0000\n",
      "Epoch 00010: val_accuracy improved from 0.40000 to 0.60000, saving model to data_out/KOR/tf2_gpt_kornli/weights.h5\n",
      "45/45 [==============================] - 20s 434ms/sample - loss: 0.1565 - accuracy: 1.0000 - val_loss: 0.8523 - val_accuracy: 0.6000\n",
      "Epoch 11/20\n",
      "40/45 [=========================>....] - ETA: 2s - loss: 0.0946 - accuracy: 1.0000\n",
      "Epoch 00011: val_accuracy did not improve from 0.60000\n",
      "45/45 [==============================] - 19s 422ms/sample - loss: 0.0886 - accuracy: 1.0000 - val_loss: 0.8672 - val_accuracy: 0.6000\n",
      "Epoch 12/20\n",
      "40/45 [=========================>....] - ETA: 1s - loss: 0.0582 - accuracy: 1.0000\n",
      "Epoch 00012: val_accuracy improved from 0.60000 to 1.00000, saving model to data_out/KOR/tf2_gpt_kornli/weights.h5\n",
      "45/45 [==============================] - 19s 425ms/sample - loss: 0.0564 - accuracy: 1.0000 - val_loss: 0.5398 - val_accuracy: 1.0000\n",
      "Epoch 13/20\n",
      "40/45 [=========================>....] - ETA: 2s - loss: 0.0331 - accuracy: 1.0000\n",
      "Epoch 00013: val_accuracy did not improve from 1.00000\n",
      "45/45 [==============================] - 19s 429ms/sample - loss: 0.0325 - accuracy: 1.0000 - val_loss: 0.4251 - val_accuracy: 1.0000\n",
      "Epoch 14/20\n",
      "40/45 [=========================>....] - ETA: 2s - loss: 0.0201 - accuracy: 1.0000\n",
      "Epoch 00014: val_accuracy did not improve from 1.00000\n",
      "45/45 [==============================] - 19s 423ms/sample - loss: 0.0205 - accuracy: 1.0000 - val_loss: 0.3264 - val_accuracy: 1.0000\n",
      "Epoch 15/20\n",
      "40/45 [=========================>....] - ETA: 2s - loss: 0.0170 - accuracy: 1.0000\n",
      "Epoch 00015: val_accuracy did not improve from 1.00000\n",
      "45/45 [==============================] - 19s 419ms/sample - loss: 0.0172 - accuracy: 1.0000 - val_loss: 0.3322 - val_accuracy: 1.0000\n",
      "Epoch 16/20\n",
      "40/45 [=========================>....] - ETA: 1s - loss: 0.0133 - accuracy: 1.0000\n",
      "Epoch 00016: val_accuracy did not improve from 1.00000\n",
      "45/45 [==============================] - 18s 396ms/sample - loss: 0.0135 - accuracy: 1.0000 - val_loss: 0.3466 - val_accuracy: 1.0000\n",
      "Epoch 17/20\n",
      "40/45 [=========================>....] - ETA: 1s - loss: 0.0107 - accuracy: 1.0000\n",
      "Epoch 00017: val_accuracy did not improve from 1.00000\n",
      "45/45 [==============================] - 19s 415ms/sample - loss: 0.0103 - accuracy: 1.0000 - val_loss: 0.3459 - val_accuracy: 1.0000\n",
      "Epoch 18/20\n",
      "40/45 [=========================>....] - ETA: 1s - loss: 0.0096 - accuracy: 1.0000\n",
      "Epoch 00018: val_accuracy did not improve from 1.00000\n",
      "45/45 [==============================] - 19s 413ms/sample - loss: 0.0096 - accuracy: 1.0000 - val_loss: 0.3577 - val_accuracy: 0.8000\n",
      "Epoch 19/20\n",
      "40/45 [=========================>....] - ETA: 1s - loss: 0.0076 - accuracy: 1.0000\n",
      "Epoch 00019: val_accuracy did not improve from 1.00000\n",
      "45/45 [==============================] - 19s 412ms/sample - loss: 0.0079 - accuracy: 1.0000 - val_loss: 0.3746 - val_accuracy: 0.8000\n",
      "Epoch 20/20\n",
      "40/45 [=========================>....] - ETA: 1s - loss: 0.0078 - accuracy: 1.0000\n",
      "Epoch 00020: val_accuracy did not improve from 1.00000\n",
      "45/45 [==============================] - 19s 411ms/sample - loss: 0.0075 - accuracy: 1.0000 - val_loss: 0.3376 - val_accuracy: 1.0000\n"
     ]
    }
   ],
   "source": [
    "model_name = \"tf2_gpt_kornli\"\n",
    "\n",
    "earlystop_callback = EarlyStopping(monitor='val_accuracy', min_delta=0.0001,patience=5)\n",
    "\n",
    "checkpoint_path = os.path.join(DATA_OUT_PATH, model_name, 'weights.h5')\n",
    "checkpoint_dir = os.path.dirname(checkpoint_path)\n",
    "\n",
    "if os.path.exists(checkpoint_dir):\n",
    "    print(\"{} -- Folder already exists \\n\".format(checkpoint_dir))\n",
    "else:\n",
    "    os.makedirs(checkpoint_dir, exist_ok=True)\n",
    "    print(\"{} -- Folder create complete \\n\".format(checkpoint_dir))\n",
    "    \n",
    "cp_callback = ModelCheckpoint(\n",
    "    checkpoint_path, monitor='val_accuracy', verbose=1, save_best_only=True, save_weights_only=True)\n",
    "\n",
    "history = sim_model.fit(train_data_sents, train_data_labels, epochs=NUM_EPOCHS,\n",
    "            batch_size=BATCH_SIZE, validation_split = VALID_SPLIT, callbacks=[earlystop_callback, cp_callback])"
   ]
  },
  {
   "cell_type": "code",
   "execution_count": 76,
   "metadata": {},
   "outputs": [
    {
     "data": {
      "image/png": "[encoded data removed]",
      "text/plain": [
       "<Figure size 432x288 with 1 Axes>"
      ]
     },
     "metadata": {
      "needs_background": "light"
     },
     "output_type": "display_data"
    }
   ],
   "source": [
    "plot_graphs(history, 'accuracy')"
   ]
  },
  {
   "cell_type": "code",
   "execution_count": 77,
   "metadata": {},
   "outputs": [
    {
     "data": {
      "image/png": "[encoded data removed]",
      "text/plain": [
       "<Figure size 432x288 with 1 Axes>"
      ]
     },
     "metadata": {
      "needs_background": "light"
     },
     "output_type": "display_data"
    }
   ],
   "source": [
    "plot_graphs(history, 'loss')"
   ]
  },
  {
   "cell_type": "markdown",
   "metadata": {},
   "source": [
    "# KorNLI 데이터셋 테스트"
   ]
  },
  {
   "cell_type": "code",
   "execution_count": 78,
   "metadata": {
    "scrolled": true
   },
   "outputs": [],
   "source": [
    "# Load Test dataset\n",
    "TEST_XNLI_DF = os.path.join(DATA_IN_PATH, 'KorNLI', 'xnli.test.ko.tsv')\n",
    "\n",
    "test_data_xnli = pd.read_csv(TEST_XNLI_DF, header=0, delimiter = '\\t', quoting = 3)"
   ]
  },
  {
   "cell_type": "code",
   "execution_count": 82,
   "metadata": {},
   "outputs": [],
   "source": [
    "# test_data_xnli = test_data_xnli[:50] # for test\n",
    "\n",
    "test_data_sents = list()\n",
    "\n",
    "for test_sent_1, test_sent_2 in zip(test_data_xnli['sentence1'], test_data_xnli['sentence2']):\n",
    "    tokens = [vocab[vocab.bos_token]] + vocab[tokenizer(clean_text(test_sent_1))] + \\\n",
    "             [vocab[vocab.eos_token], vocab[vocab.sep_token], vocab[vocab.bos_token]] + \\\n",
    "             vocab[tokenizer(clean_text(test_sent_2))] + [vocab[vocab.eos_token], vocab[vocab.cls_token]]\n",
    "    test_data_sents.append(tokens)\n",
    "\n",
    "test_data_sents = pad_sequences(test_data_sents, MAX_LEN, value=vocab[vocab.padding_token])\n",
    "\n",
    "test_data_sents = np.array(test_data_sents, dtype=np.int64)"
   ]
  },
  {
   "cell_type": "code",
   "execution_count": 83,
   "metadata": {},
   "outputs": [
    {
     "name": "stdout",
     "output_type": "stream",
     "text": [
      "# sents: 50, # labels: 50\n"
     ]
    }
   ],
   "source": [
    "test_data_xnli[\"gold_label_int\"] = test_data_xnli[\"gold_label\"].apply(convert_int)\n",
    "test_data_labels = np.array(test_data_xnli['gold_label_int'], dtype=int)\n",
    "\n",
    "print(\"# sents: {}, # labels: {}\".format(len(test_data_sents), len(test_data_labels)))"
   ]
  },
  {
   "cell_type": "code",
   "execution_count": 84,
   "metadata": {},
   "outputs": [
    {
     "name": "stdout",
     "output_type": "stream",
     "text": [
      "50/50 [==============================] - 6s 117ms/sample - loss: 1.6495 - accuracy: 0.4200\n",
      "test loss, test acc:  [1.6495202827453612, 0.42]\n"
     ]
    }
   ],
   "source": [
    "results = sim_model.evaluate(test_data_sents, test_data_labels)\n",
    "print(\"test loss, test acc: \", results)"
   ]
  }
 ],
 "metadata": {
  "kernelspec": {
   "display_name": "Python 3",
   "language": "python",
   "name": "python3"
  },
  "language_info": {
   "codemirror_mode": {
    "name": "ipython",
    "version": 3
   },
   "file_extension": ".py",
   "mimetype": "text/x-python",
   "name": "python",
   "nbconvert_exporter": "python",
   "pygments_lexer": "ipython3",
   "version": "3.7.4"
  }
 },
 "nbformat": 4,
 "nbformat_minor": 2
}
