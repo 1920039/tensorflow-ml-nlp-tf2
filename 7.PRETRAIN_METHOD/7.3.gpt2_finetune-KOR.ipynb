{
 "cells": [
  {
   "cell_type": "code",
   "execution_count": 1,
   "metadata": {},
   "outputs": [
    {
     "name": "stderr",
     "output_type": "stream",
     "text": [
      "I0510 15:00:51.426460 140232862971712 file_utils.py:38] PyTorch version 1.4.0 available.\n",
      "I0510 15:00:51.427439 140232862971712 file_utils.py:54] TensorFlow version 2.1.0 available.\n"
     ]
    },
    {
     "name": "stdout",
     "output_type": "stream",
     "text": [
      "setGPU: Setting GPU to: 1\n"
     ]
    }
   ],
   "source": [
    "import os\n",
    "import tensorflow as tf\n",
    "from transformers import *\n",
    "\n",
    "from tensorflow.keras.preprocessing.sequence import pad_sequences\n",
    "from tensorflow.keras.callbacks import EarlyStopping, ModelCheckpoint\n",
    "\n",
    "import gluonnlp as nlp\n",
    "from gluonnlp.data import SentencepieceTokenizer\n",
    "\n",
    "import pandas as pd\n",
    "import matplotlib.pyplot as plt\n",
    "\n",
    "from tqdm import tqdm\n",
    "import numpy as np\n",
    "import re\n",
    "\n",
    "import setGPU"
   ]
  },
  {
   "cell_type": "code",
   "execution_count": 2,
   "metadata": {},
   "outputs": [],
   "source": [
    "# 시각화\n",
    "\n",
    "def plot_graphs(history, string):\n",
    "    plt.plot(history.history[string])\n",
    "    plt.plot(history.history['val_'+string], '')\n",
    "    plt.xlabel(\"Epochs\")\n",
    "    plt.ylabel(string)\n",
    "    plt.legend([string, 'val_'+string])\n",
    "    plt.show()"
   ]
  },
  {
   "cell_type": "code",
   "execution_count": 3,
   "metadata": {},
   "outputs": [],
   "source": [
    "SEED_NUM = 1234\n",
    "tf.random.set_seed(SEED_NUM)"
   ]
  },
  {
   "cell_type": "code",
   "execution_count": 4,
   "metadata": {},
   "outputs": [],
   "source": [
    "class TFGPT2Classifier(tf.keras.Model):\n",
    "    def __init__(self, dir_path=None, num_class=None):\n",
    "        super(TFGPT2Classifier, self).__init__()\n",
    "        \n",
    "        self.dir_path = 'gpt2' if dir_path is None else dir_path\n",
    "        \n",
    "        self.gpt2 = TFGPT2Model.from_pretrained(self.dir_path)\n",
    "        self.num_class = self.gpt2.config.num_labels if num_class is None else num_class\n",
    "        \n",
    "        self.dropout = tf.keras.layers.Dropout(self.gpt2.config.summary_first_dropout)\n",
    "        self.classifier = tf.keras.layers.Dense(self.num_class, \n",
    "                                                kernel_initializer=tf.keras.initializers.TruncatedNormal(stddev=self.gpt2.config.initializer_range), \n",
    "                                                name=\"classifier\")\n",
    "        \n",
    "    def call(self, inputs):\n",
    "        outputs = self.gpt2(inputs)\n",
    "        pooled_output = outputs[0][:, -1]\n",
    "\n",
    "        pooled_output = self.dropout(pooled_output)\n",
    "        logits = self.classifier(pooled_output)\n",
    "\n",
    "        outputs = (logits,) + outputs[2:] \n",
    "\n",
    "        return outputs"
   ]
  },
  {
   "cell_type": "code",
   "execution_count": 5,
   "metadata": {},
   "outputs": [],
   "source": [
    "TOKENIZER_PATH = './gpt_ckpt/kogpt2_news_wiki_ko_cased_818bfa919d.spiece'\n",
    "\n",
    "tokenizer = SentencepieceTokenizer(TOKENIZER_PATH)\n",
    "vocab = nlp.vocab.BERTVocab.from_sentencepiece(TOKENIZER_PATH,\n",
    "                                               mask_token=None,\n",
    "                                               sep_token='$',\n",
    "                                               cls_token='@',\n",
    "                                               unknown_token='<unk>',\n",
    "                                               padding_token='<pad>',\n",
    "                                               bos_token='<s>',\n",
    "                                               eos_token='</s>')"
   ]
  },
  {
   "cell_type": "code",
   "execution_count": 6,
   "metadata": {},
   "outputs": [],
   "source": [
    "#random seed 고정\n",
    "\n",
    "tf.random.set_seed(0)\n",
    "np.random.seed(0)\n",
    "\n",
    "BATCH_SIZE = 192\n",
    "NUM_EPOCHS = 20\n",
    "VALID_SPLIT = 0.1\n",
    "MAX_LEN = 64\n",
    "DATA_IN_PATH = 'data_in/KOR'\n",
    "DATA_OUT_PATH = \"data_out/KOR\""
   ]
  },
  {
   "cell_type": "code",
   "execution_count": 17,
   "metadata": {},
   "outputs": [
    {
     "data": {
      "text/html": [
       "<div>\n",
       "<style scoped>\n",
       "    .dataframe tbody tr th:only-of-type {\n",
       "        vertical-align: middle;\n",
       "    }\n",
       "\n",
       "    .dataframe tbody tr th {\n",
       "        vertical-align: top;\n",
       "    }\n",
       "\n",
       "    .dataframe thead th {\n",
       "        text-align: right;\n",
       "    }\n",
       "</style>\n",
       "<table border=\"1\" class=\"dataframe\">\n",
       "  <thead>\n",
       "    <tr style=\"text-align: right;\">\n",
       "      <th></th>\n",
       "      <th>id</th>\n",
       "      <th>document</th>\n",
       "      <th>label</th>\n",
       "    </tr>\n",
       "  </thead>\n",
       "  <tbody>\n",
       "    <tr>\n",
       "      <th>0</th>\n",
       "      <td>9976970</td>\n",
       "      <td>아 더빙.. 진짜 짜증나네요 목소리</td>\n",
       "      <td>0</td>\n",
       "    </tr>\n",
       "    <tr>\n",
       "      <th>1</th>\n",
       "      <td>3819312</td>\n",
       "      <td>흠...포스터보고 초딩영화줄....오버연기조차 가볍지 않구나</td>\n",
       "      <td>1</td>\n",
       "    </tr>\n",
       "    <tr>\n",
       "      <th>2</th>\n",
       "      <td>10265843</td>\n",
       "      <td>너무재밓었다그래서보는것을추천한다</td>\n",
       "      <td>0</td>\n",
       "    </tr>\n",
       "    <tr>\n",
       "      <th>3</th>\n",
       "      <td>9045019</td>\n",
       "      <td>교도소 이야기구먼 ..솔직히 재미는 없다..평점 조정</td>\n",
       "      <td>0</td>\n",
       "    </tr>\n",
       "    <tr>\n",
       "      <th>4</th>\n",
       "      <td>6483659</td>\n",
       "      <td>사이몬페그의 익살스런 연기가 돋보였던 영화!스파이더맨에서 늙어보이기만 했던 커스틴 ...</td>\n",
       "      <td>1</td>\n",
       "    </tr>\n",
       "  </tbody>\n",
       "</table>\n",
       "</div>"
      ],
      "text/plain": [
       "         id                                           document  label\n",
       "0   9976970                                아 더빙.. 진짜 짜증나네요 목소리      0\n",
       "1   3819312                  흠...포스터보고 초딩영화줄....오버연기조차 가볍지 않구나      1\n",
       "2  10265843                                  너무재밓었다그래서보는것을추천한다      0\n",
       "3   9045019                      교도소 이야기구먼 ..솔직히 재미는 없다..평점 조정      0\n",
       "4   6483659  사이몬페그의 익살스런 연기가 돋보였던 영화!스파이더맨에서 늙어보이기만 했던 커스틴 ...      1"
      ]
     },
     "execution_count": 17,
     "metadata": {},
     "output_type": "execute_result"
    }
   ],
   "source": [
    "# 데이터 전처리 준비\n",
    "\n",
    "DATA_TRAIN_PATH = os.path.join(DATA_IN_PATH, \"naver_movie\", \"ratings_train.txt\")\n",
    "DATA_TEST_PATH = os.path.join(DATA_IN_PATH, \"naver_movie\", \"ratings_test.txt\")\n",
    "\n",
    "train_data = pd.read_csv(DATA_TRAIN_PATH, header = 0, delimiter = '\\t', quoting = 3)\n",
    "train_data = train_data.dropna()\n",
    "train_data.head()"
   ]
  },
  {
   "cell_type": "code",
   "execution_count": 18,
   "metadata": {},
   "outputs": [],
   "source": [
    "# 텍스트 전처리\n",
    "\n",
    "def clean_text(sent):\n",
    "    sent_clean = re.sub(\"[^가-힣ㄱ-ㅎㅏ-ㅣ\\\\s]\", \"\", sent)\n",
    "    return sent_clean"
   ]
  },
  {
   "cell_type": "code",
   "execution_count": 19,
   "metadata": {},
   "outputs": [],
   "source": [
    "# train_data = train_data[:1000] # for test\n",
    "\n",
    "train_data_sents = list()\n",
    "train_data_labels = list()\n",
    "\n",
    "for train_sent, train_label in zip(train_data['document'], train_data['label']):\n",
    "    tokens = [vocab[vocab.bos_token],]  + vocab[tokenizer(clean_text(train_sent))] + [vocab[vocab.eos_token],]\n",
    "    train_data_sents.append(tokens)\n",
    "    train_data_labels.append(train_label)\n",
    "\n",
    "train_data_sents = pad_sequences(train_data_sents, MAX_LEN - 1, value=vocab[vocab.padding_token])#, padding='post')\n",
    "cls_tokens = [[vocab[vocab.cls_token]]] * train_data_sents.shape[0]\n",
    "\n",
    "train_data_sents = np.concatenate((train_data_sents, cls_tokens), axis=-1)\n",
    "\n",
    "train_data_sents = np.array(train_data_sents, dtype=np.int64)\n",
    "train_data_labels = np.array(train_data_labels, dtype=np.int64)"
   ]
  },
  {
   "cell_type": "code",
   "execution_count": 20,
   "metadata": {},
   "outputs": [
    {
     "name": "stderr",
     "output_type": "stream",
     "text": [
      "I0506 15:35:05.369257 140047217469248 configuration_utils.py:252] loading configuration file ./gpt_ckpt/config.json\n",
      "I0506 15:35:05.370854 140047217469248 configuration_utils.py:290] Model config GPT2Config {\n",
      "  \"architectures\": [\n",
      "    \"GPT2LMHeadModel\"\n",
      "  ],\n",
      "  \"attn_pdrop\": 0.1,\n",
      "  \"bos_token_id\": null,\n",
      "  \"do_sample\": false,\n",
      "  \"embd_pdrop\": 0.1,\n",
      "  \"eos_token_ids\": null,\n",
      "  \"finetuning_task\": null,\n",
      "  \"id2label\": {\n",
      "    \"0\": \"LABEL_0\",\n",
      "    \"1\": \"LABEL_1\"\n",
      "  },\n",
      "  \"initializer_range\": 0.02,\n",
      "  \"is_decoder\": false,\n",
      "  \"label2id\": {\n",
      "    \"LABEL_0\": 0,\n",
      "    \"LABEL_1\": 1\n",
      "  },\n",
      "  \"layer_norm_epsilon\": 1e-05,\n",
      "  \"length_penalty\": 1.0,\n",
      "  \"max_length\": 20,\n",
      "  \"model_type\": \"gpt2\",\n",
      "  \"n_ctx\": 1024,\n",
      "  \"n_embd\": 768,\n",
      "  \"n_head\": 12,\n",
      "  \"n_layer\": 12,\n",
      "  \"n_positions\": 1024,\n",
      "  \"num_beams\": 1,\n",
      "  \"num_labels\": 2,\n",
      "  \"num_return_sequences\": 1,\n",
      "  \"output_attentions\": false,\n",
      "  \"output_hidden_states\": false,\n",
      "  \"output_past\": true,\n",
      "  \"pad_token_id\": null,\n",
      "  \"pruned_heads\": {},\n",
      "  \"repetition_penalty\": 1.0,\n",
      "  \"resid_pdrop\": 0.1,\n",
      "  \"summary_activation\": null,\n",
      "  \"summary_first_dropout\": 0.1,\n",
      "  \"summary_proj_to_labels\": true,\n",
      "  \"summary_type\": \"cls_index\",\n",
      "  \"summary_use_proj\": true,\n",
      "  \"temperature\": 1.0,\n",
      "  \"top_k\": 50,\n",
      "  \"top_p\": 1.0,\n",
      "  \"torchscript\": false,\n",
      "  \"use_bfloat16\": false,\n",
      "  \"vocab_size\": 50000\n",
      "}\n",
      "\n",
      "I0506 15:35:05.371861 140047217469248 modeling_tf_utils.py:336] loading weights file ./gpt_ckpt/tf_model.h5\n"
     ]
    }
   ],
   "source": [
    "cls_model = TFGPT2Classifier('./gpt_ckpt')"
   ]
  },
  {
   "cell_type": "code",
   "execution_count": 21,
   "metadata": {},
   "outputs": [],
   "source": [
    "optimizer = tf.keras.optimizers.Adam(learning_rate=1e-4, epsilon=1e-08, clipnorm=1.0)\n",
    "loss = tf.keras.losses.SparseCategoricalCrossentropy(from_logits=True)\n",
    "metric = tf.keras.metrics.SparseCategoricalAccuracy('accuracy')\n",
    "cls_model.compile(optimizer=optimizer, loss=loss, metrics=[metric])"
   ]
  },
  {
   "cell_type": "code",
   "execution_count": 22,
   "metadata": {},
   "outputs": [
    {
     "name": "stdout",
     "output_type": "stream",
     "text": [
      "data_out/KORtf2_gpt2_naver_movie -- Folder already exists \n",
      "\n",
      "Train on 134995 samples, validate on 15000 samples\n",
      "Epoch 1/20\n",
      "134976/134995 [============================>.] - ETA: 0s - loss: 0.3273 - accuracy: 0.8555\n",
      "Epoch 00001: val_accuracy improved from -inf to 0.87973, saving model to data_out/KORtf2_gpt2_naver_movie/weights.h5\n",
      "134995/134995 [==============================] - 606s 4ms/sample - loss: 0.3273 - accuracy: 0.8555 - val_loss: 0.2787 - val_accuracy: 0.8797\n",
      "Epoch 2/20\n",
      "134976/134995 [============================>.] - ETA: 0s - loss: 0.2495 - accuracy: 0.8952\n",
      "Epoch 00002: val_accuracy improved from 0.87973 to 0.89147, saving model to data_out/KORtf2_gpt2_naver_movie/weights.h5\n",
      "134995/134995 [==============================] - 590s 4ms/sample - loss: 0.2495 - accuracy: 0.8952 - val_loss: 0.2621 - val_accuracy: 0.8915\n",
      "Epoch 3/20\n",
      "134976/134995 [============================>.] - ETA: 0s - loss: 0.2041 - accuracy: 0.9163\n",
      "Epoch 00003: val_accuracy improved from 0.89147 to 0.89573, saving model to data_out/KORtf2_gpt2_naver_movie/weights.h5\n",
      "134995/134995 [==============================] - 590s 4ms/sample - loss: 0.2041 - accuracy: 0.9163 - val_loss: 0.2640 - val_accuracy: 0.8957\n",
      "Epoch 4/20\n",
      "134976/134995 [============================>.] - ETA: 0s - loss: 0.1607 - accuracy: 0.9349\n",
      "Epoch 00004: val_accuracy did not improve from 0.89573\n",
      "134995/134995 [==============================] - 587s 4ms/sample - loss: 0.1607 - accuracy: 0.9349 - val_loss: 0.2889 - val_accuracy: 0.8906\n",
      "Epoch 5/20\n",
      "134976/134995 [============================>.] - ETA: 0s - loss: 0.1229 - accuracy: 0.9515\n",
      "Epoch 00005: val_accuracy did not improve from 0.89573\n",
      "134995/134995 [==============================] - 587s 4ms/sample - loss: 0.1229 - accuracy: 0.9515 - val_loss: 0.3204 - val_accuracy: 0.8945\n"
     ]
    }
   ],
   "source": [
    "model_name = \"tf2_gpt2_naver_movie\"\n",
    "\n",
    "earlystop_callback = EarlyStopping(monitor='val_accuracy', min_delta=0.0001,patience=2)\n",
    "\n",
    "checkpoint_path = DATA_OUT_PATH + model_name + '/weights.h5'\n",
    "checkpoint_dir = os.path.dirname(checkpoint_path)\n",
    "\n",
    "if os.path.exists(checkpoint_dir):\n",
    "    print(\"{} -- Folder already exists \\n\".format(checkpoint_dir))\n",
    "else:\n",
    "    os.makedirs(checkpoint_dir, exist_ok=True)\n",
    "    print(\"{} -- Folder create complete \\n\".format(checkpoint_dir))\n",
    "    \n",
    "cp_callback = ModelCheckpoint(\n",
    "    checkpoint_path, monitor='val_accuracy', verbose=1, save_best_only=True, save_weights_only=True)\n",
    "\n",
    "history = cls_model.fit(train_data_sents, train_data_labels, epochs=NUM_EPOCHS, batch_size=BATCH_SIZE,\n",
    "                    validation_split = VALID_SPLIT, callbacks=[earlystop_callback, cp_callback])"
   ]
  },
  {
   "cell_type": "code",
   "execution_count": 23,
   "metadata": {},
   "outputs": [
    {
     "data": {
      "image/png": "[encoded data removed]",
      "text/plain": [
       "<Figure size 432x288 with 1 Axes>"
      ]
     },
     "metadata": {
      "needs_background": "light"
     },
     "output_type": "display_data"
    }
   ],
   "source": [
    "plot_graphs(history, 'accuracy')"
   ]
  },
  {
   "cell_type": "code",
   "execution_count": 24,
   "metadata": {},
   "outputs": [
    {
     "data": {
      "image/png": "[encoded data removed]",
      "text/plain": [
       "<Figure size 432x288 with 1 Axes>"
      ]
     },
     "metadata": {
      "needs_background": "light"
     },
     "output_type": "display_data"
    }
   ],
   "source": [
    "plot_graphs(history, 'loss')"
   ]
  },
  {
   "cell_type": "markdown",
   "metadata": {},
   "source": [
    "# Bag of Words Test Dataset (제출 확인 필요)"
   ]
  },
  {
   "cell_type": "code",
   "execution_count": 25,
   "metadata": {},
   "outputs": [
    {
     "data": {
      "text/html": [
       "<div>\n",
       "<style scoped>\n",
       "    .dataframe tbody tr th:only-of-type {\n",
       "        vertical-align: middle;\n",
       "    }\n",
       "\n",
       "    .dataframe tbody tr th {\n",
       "        vertical-align: top;\n",
       "    }\n",
       "\n",
       "    .dataframe thead th {\n",
       "        text-align: right;\n",
       "    }\n",
       "</style>\n",
       "<table border=\"1\" class=\"dataframe\">\n",
       "  <thead>\n",
       "    <tr style=\"text-align: right;\">\n",
       "      <th></th>\n",
       "      <th>id</th>\n",
       "      <th>document</th>\n",
       "      <th>label</th>\n",
       "    </tr>\n",
       "  </thead>\n",
       "  <tbody>\n",
       "    <tr>\n",
       "      <th>0</th>\n",
       "      <td>6270596</td>\n",
       "      <td>굳 ㅋ</td>\n",
       "      <td>1</td>\n",
       "    </tr>\n",
       "    <tr>\n",
       "      <th>1</th>\n",
       "      <td>9274899</td>\n",
       "      <td>GDNTOPCLASSINTHECLUB</td>\n",
       "      <td>0</td>\n",
       "    </tr>\n",
       "    <tr>\n",
       "      <th>2</th>\n",
       "      <td>8544678</td>\n",
       "      <td>뭐야 이 평점들은.... 나쁘진 않지만 10점 짜리는 더더욱 아니잖아</td>\n",
       "      <td>0</td>\n",
       "    </tr>\n",
       "    <tr>\n",
       "      <th>3</th>\n",
       "      <td>6825595</td>\n",
       "      <td>지루하지는 않은데 완전 막장임... 돈주고 보기에는....</td>\n",
       "      <td>0</td>\n",
       "    </tr>\n",
       "    <tr>\n",
       "      <th>4</th>\n",
       "      <td>6723715</td>\n",
       "      <td>3D만 아니었어도 별 다섯 개 줬을텐데.. 왜 3D로 나와서 제 심기를 불편하게 하죠??</td>\n",
       "      <td>0</td>\n",
       "    </tr>\n",
       "  </tbody>\n",
       "</table>\n",
       "</div>"
      ],
      "text/plain": [
       "        id                                           document  label\n",
       "0  6270596                                                굳 ㅋ      1\n",
       "1  9274899                               GDNTOPCLASSINTHECLUB      0\n",
       "2  8544678             뭐야 이 평점들은.... 나쁘진 않지만 10점 짜리는 더더욱 아니잖아      0\n",
       "3  6825595                   지루하지는 않은데 완전 막장임... 돈주고 보기에는....      0\n",
       "4  6723715  3D만 아니었어도 별 다섯 개 줬을텐데.. 왜 3D로 나와서 제 심기를 불편하게 하죠??      0"
      ]
     },
     "execution_count": 25,
     "metadata": {},
     "output_type": "execute_result"
    }
   ],
   "source": [
    "test_data = pd.read_csv(DATA_TEST_PATH, header = 0, delimiter = '\\t', quoting = 3)\n",
    "test_data = test_data.dropna()\n",
    "test_data.head()"
   ]
  },
  {
   "cell_type": "code",
   "execution_count": 26,
   "metadata": {},
   "outputs": [],
   "source": [
    "# test_data = test_data[:50] # for test\n",
    "\n",
    "test_data_sents = list()\n",
    "test_data_labels = list()\n",
    "\n",
    "for test_sent, test_label in zip(test_data['document'], test_data['label']):\n",
    "    tokens = [vocab[vocab.bos_token],]  + vocab[tokenizer(clean_text(test_sent))] + [vocab[vocab.eos_token],]\n",
    "    test_data_sents.append(tokens)\n",
    "    test_data_labels.append(test_label)\n",
    "\n",
    "test_data_sents = pad_sequences(test_data_sents, MAX_LEN - 1, value=vocab[vocab.padding_token])#, padding='post')\n",
    "cls_tokens = [[vocab[vocab.cls_token]]] * test_data_sents.shape[0]\n",
    "\n",
    "test_data_sents = np.concatenate((test_data_sents, cls_tokens), axis=-1)\n",
    "\n",
    "test_data_sents = np.array(test_data_sents, dtype=np.int64)\n",
    "test_data_labels = np.array(test_data_labels, dtype=np.int64)"
   ]
  },
  {
   "cell_type": "code",
   "execution_count": 27,
   "metadata": {},
   "outputs": [
    {
     "name": "stdout",
     "output_type": "stream",
     "text": [
      "num sents, labels 49997, 49997\n"
     ]
    }
   ],
   "source": [
    "print(\"num sents, labels {}, {}\".format(len(test_data_sents), len(test_data_labels)))"
   ]
  },
  {
   "cell_type": "code",
   "execution_count": null,
   "metadata": {},
   "outputs": [],
   "source": [
    "results = cls_model.evaluate(test_data_sents, test_data_labels)\n",
    "print(\"test loss, test acc: \", results)"
   ]
  },
  {
   "cell_type": "markdown",
   "metadata": {},
   "source": [
    "# Quora Simliarity (ENG)"
   ]
  },
  {
   "cell_type": "code",
   "execution_count": 7,
   "metadata": {},
   "outputs": [],
   "source": [
    "BATCH_SIZE = 128\n",
    "NUM_EPOCHS = 20\n",
    "VALID_SPLIT = 0.2\n",
    "# MAX_LEN = 14 * 2 # Average total * 2\n",
    "MAX_LEN = 80 # Average total * 2"
   ]
  },
  {
   "cell_type": "code",
   "execution_count": 23,
   "metadata": {},
   "outputs": [
    {
     "name": "stdout",
     "output_type": "stream",
     "text": [
      "Total # dataset: train - 942808, dev - 2490\n"
     ]
    }
   ],
   "source": [
    "# Load Train dataset\n",
    "\n",
    "TRAIN_SNLI_DF = os.path.join(DATA_IN_PATH, 'KorNLI', 'snli_1.0_train.kor')\n",
    "TRAIN_XNLI_DF = os.path.join(DATA_IN_PATH, 'KorNLI', 'multinli.train.ko.tsv')\n",
    "DEV_XNLI_DF = os.path.join(DATA_IN_PATH, 'KorNLI', 'xnli.dev.ko.tsv')\n",
    "\n",
    "train_data_snli = pd.read_csv(TRAIN_SNLI_DF, header=0, delimiter = '\\t', quoting = 3)\n",
    "train_data_xnli = pd.read_csv(TRAIN_XNLI_DF, header=0, delimiter = '\\t', quoting = 3)\n",
    "dev_data_xnli = pd.read_csv(DEV_XNLI_DF, header=0, delimiter = '\\t', quoting = 3)\n",
    "\n",
    "train_data_snli_xnli = train_data_snli.append(train_data_xnli)\n",
    "train_data_snli_xnli = train_data_snli_xnli.dropna()\n",
    "train_data_snli_xnli = train_data_snli_xnli.reset_index()\n",
    "\n",
    "dev_data_xnli = dev_data_xnli.dropna()\n",
    "\n",
    "print(\"Total # dataset: train - {}, dev - {}\".format(len(train_data_snli_xnli), len(dev_data_xnli)))"
   ]
  },
  {
   "cell_type": "code",
   "execution_count": 25,
   "metadata": {},
   "outputs": [],
   "source": [
    "# train_data_xnli = train_data_xnli[:50] # for test\n",
    "\n",
    "# 토크나이저를 제외하고는 5장에서 처리한 방식과 유사하게 접근\n",
    "def clean_text(sent):\n",
    "    sent_clean = re.sub(\"[^가-힣ㄱ-ㅎㅏ-ㅣ\\\\s]\", \" \", sent)\n",
    "    return sent_clean\n",
    "\n",
    "train_data_sent_1 = list()\n",
    "train_data_sent_2 = list()\n",
    "\n",
    "for train_sent_1, train_sent_2 in zip(train_data_snli_xnli['sentence1'], train_data_snli_xnli['sentence2']):\n",
    "#     tokens = [vocab[vocab.bos_token],]  + vocab[tokenizer(clean_text(train_sent_1))] + [vocab[vocab.eos_token],] + \\\n",
    "#     [vocab[vocab.sep_token],] + [vocab[vocab.bos_token],]  + vocab[tokenizer(clean_text(train_sent_2))] + [vocab[vocab.eos_token]]\n",
    "    train_data_sent_1.append(vocab[tokenizer(clean_text(train_sent_1))])\n",
    "    train_data_sent_2.append(vocab[tokenizer(clean_text(train_sent_2))])\n",
    "\n",
    "train_data_sent_1 = pad_sequences(train_data_sent_1, MAX_LEN // 2, value=vocab[vocab.padding_token])#, padding='post')\n",
    "train_data_sent_2 = pad_sequences(train_data_sent_2, MAX_LEN // 2, value=vocab[vocab.padding_token])#, padding='post')\n",
    "\n",
    "bos_tokens = np.asarray([[vocab[vocab.bos_token]]] * train_data_sent_1.shape[0], dtype=np.int64)\n",
    "eos_tokens = np.asarray([[vocab[vocab.eos_token]]] * train_data_sent_1.shape[0], dtype=np.int64)\n",
    "sep_tokens = np.asarray([[vocab[vocab.sep_token]]] * train_data_sent_1.shape[0], dtype=np.int64)\n",
    "cls_tokens = np.asarray([[vocab[vocab.cls_token]]] * train_data_sent_1.shape[0], dtype=np.int64)\n",
    "\n",
    "train_data_sents = np.concatenate((bos_tokens, train_data_sent_1, eos_tokens, sep_tokens, \n",
    "                                   bos_tokens, train_data_sent_2, eos_tokens, cls_tokens), axis=-1)\n",
    "\n",
    "train_data_sents = np.array(train_data_sents, dtype=np.int64)"
   ]
  },
  {
   "cell_type": "code",
   "execution_count": 27,
   "metadata": {},
   "outputs": [
    {
     "data": {
      "text/plain": [
       "array([    0,     3,     3,     3,     3,     3,     3,     3,     3,\n",
       "           3,     3,     3,     3,     3,     3,     3,     3,     3,\n",
       "           3,     3,     3,     3,     3,     3,     3,     3,     3,\n",
       "           3,     3,     3,     3,  3214,   996,  2373, 13952, 47612,\n",
       "       16540,  5886,  3564, 47531,  4394,     1, 48140,     0,     3,\n",
       "           3,     3,     3,     3,     3,     3,     3,     3,     3,\n",
       "           3,     3,     3,     3,     3,     3,     3,     3,     3,\n",
       "           3,     3,     3,     3,     3,     3,     3,     3,     3,\n",
       "           3,     3,     3,     3,   118,  2373,  9442,   264,  3214,\n",
       "        2777,  4106,   123,     1, 47810])"
      ]
     },
     "execution_count": 27,
     "metadata": {},
     "output_type": "execute_result"
    }
   ],
   "source": [
    "train_data_sents[0]"
   ]
  },
  {
   "cell_type": "code",
   "execution_count": 28,
   "metadata": {},
   "outputs": [],
   "source": [
    "# train_data_xnli = train_data_xnli[:50] # for test\n",
    "\n",
    "dev_data_sent_1 = list()\n",
    "dev_data_sent_2 = list()\n",
    "\n",
    "for dev_sent_1, dev_sent_2 in zip(dev_data_xnli['sentence1'], dev_data_xnli['sentence2']):\n",
    "    dev_data_sent_1.append(vocab[tokenizer(clean_text(dev_sent_1))])\n",
    "    dev_data_sent_2.append(vocab[tokenizer(clean_text(dev_sent_2))])\n",
    "\n",
    "dev_data_sent_1 = pad_sequences(dev_data_sent_1, MAX_LEN // 2, value=vocab[vocab.padding_token])#, padding='post')\n",
    "dev_data_sent_2 = pad_sequences(dev_data_sent_2, MAX_LEN // 2, value=vocab[vocab.padding_token])#, padding='post')\n",
    "\n",
    "bos_tokens = np.asarray([[vocab[vocab.bos_token]]] * dev_data_sent_1.shape[0], dtype=np.int64)\n",
    "eos_tokens = np.asarray([[vocab[vocab.eos_token]]] * dev_data_sent_1.shape[0], dtype=np.int64)\n",
    "sep_tokens = np.asarray([[vocab[vocab.sep_token]]] * dev_data_sent_1.shape[0], dtype=np.int64)\n",
    "cls_tokens = np.asarray([[vocab[vocab.cls_token]]] * dev_data_sent_1.shape[0], dtype=np.int64)\n",
    "\n",
    "dev_data_sents = np.concatenate((bos_tokens, dev_data_sent_1, eos_tokens, sep_tokens, \n",
    "                                   bos_tokens, dev_data_sent_2, eos_tokens, cls_tokens), axis=-1)\n",
    "\n",
    "dev_data_sents = np.array(dev_data_sents, dtype=np.int64)"
   ]
  },
  {
   "cell_type": "code",
   "execution_count": 29,
   "metadata": {},
   "outputs": [
    {
     "name": "stdout",
     "output_type": "stream",
     "text": [
      "# train labels: 942808, #dev labels: 2490\n"
     ]
    }
   ],
   "source": [
    "# Label을 Netural, Contradiction, Entailment 에서 숫자 형으로 변경한다.\n",
    "label_dict = {\"entailment\": 0, \"contradiction\": 1, \"neutral\": 2}\n",
    "def convert_int(label):\n",
    "    num_label = label_dict[label]    \n",
    "    return num_label\n",
    "\n",
    "train_data_snli_xnli[\"gold_label_int\"] = train_data_snli_xnli[\"gold_label\"].apply(convert_int)\n",
    "train_data_labels = np.array(train_data_snli_xnli['gold_label_int'], dtype=int)\n",
    "\n",
    "dev_data_xnli[\"gold_label_int\"] = dev_data_xnli[\"gold_label\"].apply(convert_int)\n",
    "dev_data_labels = np.array(dev_data_xnli['gold_label_int'], dtype=int)\n",
    "\n",
    "print(\"# train labels: {}, #dev labels: {}\".format(len(train_data_labels), len(dev_data_labels)))"
   ]
  },
  {
   "cell_type": "code",
   "execution_count": 30,
   "metadata": {},
   "outputs": [
    {
     "name": "stderr",
     "output_type": "stream",
     "text": [
      "I0510 15:13:03.469924 140232862971712 configuration_utils.py:252] loading configuration file ./gpt_ckpt/config.json\n",
      "I0510 15:13:03.471653 140232862971712 configuration_utils.py:290] Model config GPT2Config {\n",
      "  \"architectures\": [\n",
      "    \"GPT2LMHeadModel\"\n",
      "  ],\n",
      "  \"attn_pdrop\": 0.1,\n",
      "  \"bos_token_id\": null,\n",
      "  \"do_sample\": false,\n",
      "  \"embd_pdrop\": 0.1,\n",
      "  \"eos_token_ids\": null,\n",
      "  \"finetuning_task\": null,\n",
      "  \"id2label\": {\n",
      "    \"0\": \"LABEL_0\",\n",
      "    \"1\": \"LABEL_1\"\n",
      "  },\n",
      "  \"initializer_range\": 0.02,\n",
      "  \"is_decoder\": false,\n",
      "  \"label2id\": {\n",
      "    \"LABEL_0\": 0,\n",
      "    \"LABEL_1\": 1\n",
      "  },\n",
      "  \"layer_norm_epsilon\": 1e-05,\n",
      "  \"length_penalty\": 1.0,\n",
      "  \"max_length\": 20,\n",
      "  \"model_type\": \"gpt2\",\n",
      "  \"n_ctx\": 1024,\n",
      "  \"n_embd\": 768,\n",
      "  \"n_head\": 12,\n",
      "  \"n_layer\": 12,\n",
      "  \"n_positions\": 1024,\n",
      "  \"num_beams\": 1,\n",
      "  \"num_labels\": 2,\n",
      "  \"num_return_sequences\": 1,\n",
      "  \"output_attentions\": false,\n",
      "  \"output_hidden_states\": false,\n",
      "  \"output_past\": true,\n",
      "  \"pad_token_id\": null,\n",
      "  \"pruned_heads\": {},\n",
      "  \"repetition_penalty\": 1.0,\n",
      "  \"resid_pdrop\": 0.1,\n",
      "  \"summary_activation\": null,\n",
      "  \"summary_first_dropout\": 0.1,\n",
      "  \"summary_proj_to_labels\": true,\n",
      "  \"summary_type\": \"cls_index\",\n",
      "  \"summary_use_proj\": true,\n",
      "  \"temperature\": 1.0,\n",
      "  \"top_k\": 50,\n",
      "  \"top_p\": 1.0,\n",
      "  \"torchscript\": false,\n",
      "  \"use_bfloat16\": false,\n",
      "  \"vocab_size\": 50000\n",
      "}\n",
      "\n",
      "I0510 15:13:03.472795 140232862971712 modeling_tf_utils.py:336] loading weights file ./gpt_ckpt/tf_model.h5\n"
     ]
    }
   ],
   "source": [
    "sim_model = TFGPT2Classifier('./gpt_ckpt', 3)"
   ]
  },
  {
   "cell_type": "code",
   "execution_count": 31,
   "metadata": {},
   "outputs": [],
   "source": [
    "optimizer = tf.keras.optimizers.Adam(learning_rate=1e-4, epsilon=1e-08, clipnorm=1.0)\n",
    "loss = tf.keras.losses.SparseCategoricalCrossentropy(from_logits=True)\n",
    "metric = tf.keras.metrics.SparseCategoricalAccuracy('accuracy')\n",
    "sim_model.compile(optimizer=optimizer, loss=loss, metrics=[metric])"
   ]
  },
  {
   "cell_type": "code",
   "execution_count": null,
   "metadata": {
    "collapsed": true
   },
   "outputs": [
    {
     "name": "stdout",
     "output_type": "stream",
     "text": [
      "data_out/KOR/tf2_gpt_kornli -- Folder already exists \n",
      "\n",
      "Train on 942808 samples, validate on 2490 samples\n",
      "Epoch 1/20\n",
      "942720/942808 [============================>.] - ETA: 0s - loss: 0.5973 - accuracy: 0.7533\n",
      "Epoch 00001: val_accuracy improved from -inf to 0.75823, saving model to data_out/KOR/tf2_gpt_kornli/weights.h5\n",
      "942808/942808 [==============================] - 5518s 6ms/sample - loss: 0.5973 - accuracy: 0.7533 - val_loss: 0.6035 - val_accuracy: 0.7582\n",
      "Epoch 2/20\n",
      "942720/942808 [============================>.] - ETA: 0s - loss: 0.4785 - accuracy: 0.8113\n",
      "Epoch 00002: val_accuracy improved from 0.75823 to 0.76426, saving model to data_out/KOR/tf2_gpt_kornli/weights.h5\n",
      "942808/942808 [==============================] - 5519s 6ms/sample - loss: 0.4784 - accuracy: 0.8113 - val_loss: 0.5944 - val_accuracy: 0.7643\n",
      "Epoch 3/20\n",
      "942720/942808 [============================>.] - ETA: 0s - loss: 0.4121 - accuracy: 0.8409\n",
      "Epoch 00003: val_accuracy improved from 0.76426 to 0.76988, saving model to data_out/KOR/tf2_gpt_kornli/weights.h5\n",
      "942808/942808 [==============================] - 5520s 6ms/sample - loss: 0.4121 - accuracy: 0.8409 - val_loss: 0.5868 - val_accuracy: 0.7699\n",
      "Epoch 4/20\n",
      "942720/942808 [============================>.] - ETA: 0s - loss: 0.3529 - accuracy: 0.8658\n",
      "Epoch 00004: val_accuracy improved from 0.76988 to 0.77390, saving model to data_out/KOR/tf2_gpt_kornli/weights.h5\n",
      "942808/942808 [==============================] - 5521s 6ms/sample - loss: 0.3529 - accuracy: 0.8658 - val_loss: 0.6146 - val_accuracy: 0.7739\n",
      "Epoch 5/20\n",
      "942720/942808 [============================>.] - ETA: 0s - loss: 0.3012 - accuracy: 0.8876\n",
      "Epoch 00005: val_accuracy did not improve from 0.77390\n",
      "942808/942808 [==============================] - 5519s 6ms/sample - loss: 0.3013 - accuracy: 0.8876 - val_loss: 0.6840 - val_accuracy: 0.7582\n",
      "Epoch 6/20\n",
      "178944/942808 [====>.........................] - ETA: 1:14:25 - loss: 0.2421 - accuracy: 0.9113"
     ]
    }
   ],
   "source": [
    "model_name = \"tf2_gpt_kornli\"\n",
    "\n",
    "earlystop_callback = EarlyStopping(monitor='val_accuracy', min_delta=0.0001,patience=2)\n",
    "\n",
    "checkpoint_path = os.path.join(DATA_OUT_PATH, model_name, 'weights.h5')\n",
    "checkpoint_dir = os.path.dirname(checkpoint_path)\n",
    "\n",
    "if os.path.exists(checkpoint_dir):\n",
    "    print(\"{} -- Folder already exists \\n\".format(checkpoint_dir))\n",
    "else:\n",
    "    os.makedirs(checkpoint_dir, exist_ok=True)\n",
    "    print(\"{} -- Folder create complete \\n\".format(checkpoint_dir))\n",
    "    \n",
    "cp_callback = ModelCheckpoint(\n",
    "    checkpoint_path, monitor='val_accuracy', verbose=1, save_best_only=True, save_weights_only=True)\n",
    "\n",
    "history = sim_model.fit(train_data_sents, train_data_labels, epochs=NUM_EPOCHS,\n",
    "                        validation_data = (dev_data_sents, dev_data_labels),\n",
    "            batch_size=BATCH_SIZE, callbacks=[earlystop_callback, cp_callback])"
   ]
  },
  {
   "cell_type": "code",
   "execution_count": 46,
   "metadata": {},
   "outputs": [
    {
     "name": "stdout",
     "output_type": "stream",
     "text": [
      "data_out/KOR/tf2_gpt_kornli -- Folder already exists \n",
      "\n",
      "Train on 848527 samples, validate on 94281 samples\n",
      "Epoch 1/20\n",
      "848512/848527 [============================>.] - ETA: 0s - loss: 0.1890 - accuracy: 0.9313\n",
      "Epoch 00001: val_accuracy improved from -inf to 0.96007, saving model to data_out/KOR/tf2_gpt_kornli/weights.h5\n",
      "848527/848527 [==============================] - 5159s 6ms/sample - loss: 0.1890 - accuracy: 0.9313 - val_loss: 0.1144 - val_accuracy: 0.9601\n",
      "Epoch 2/20\n",
      "848512/848527 [============================>.] - ETA: 0s - loss: 0.1648 - accuracy: 0.9401\n",
      "Epoch 00002: val_accuracy did not improve from 0.96007\n",
      "848527/848527 [==============================] - 5152s 6ms/sample - loss: 0.1648 - accuracy: 0.9401 - val_loss: 0.1367 - val_accuracy: 0.9503\n",
      "Epoch 3/20\n",
      "848512/848527 [============================>.] - ETA: 0s - loss: 0.1439 - accuracy: 0.9479\n",
      "Epoch 00003: val_accuracy did not improve from 0.96007\n",
      "848527/848527 [==============================] - 5160s 6ms/sample - loss: 0.1439 - accuracy: 0.9479 - val_loss: 0.1647 - val_accuracy: 0.9403\n"
     ]
    }
   ],
   "source": [
    "model_name = \"tf2_gpt_kornli\"\n",
    "\n",
    "earlystop_callback = EarlyStopping(monitor='val_accuracy', min_delta=0.0001,patience=2)\n",
    "\n",
    "checkpoint_path = os.path.join(DATA_OUT_PATH, model_name, 'weights.h5')\n",
    "checkpoint_dir = os.path.dirname(checkpoint_path)\n",
    "\n",
    "if os.path.exists(checkpoint_dir):\n",
    "    print(\"{} -- Folder already exists \\n\".format(checkpoint_dir))\n",
    "else:\n",
    "    os.makedirs(checkpoint_dir, exist_ok=True)\n",
    "    print(\"{} -- Folder create complete \\n\".format(checkpoint_dir))\n",
    "    \n",
    "cp_callback = ModelCheckpoint(\n",
    "    checkpoint_path, monitor='val_accuracy', verbose=1, save_best_only=True, save_weights_only=True)\n",
    "\n",
    "history = sim_model.fit(train_data_sents, train_data_labels, epochs=NUM_EPOCHS,\n",
    "                        validation_split = 0.1,\n",
    "            batch_size=BATCH_SIZE, callbacks=[earlystop_callback, cp_callback])"
   ]
  },
  {
   "cell_type": "code",
   "execution_count": 37,
   "metadata": {},
   "outputs": [
    {
     "data": {
      "image/png": "[encoded data removed]",
      "text/plain": [
       "<Figure size 432x288 with 1 Axes>"
      ]
     },
     "metadata": {
      "needs_background": "light"
     },
     "output_type": "display_data"
    }
   ],
   "source": [
    "plot_graphs(history, 'accuracy')"
   ]
  },
  {
   "cell_type": "code",
   "execution_count": 39,
   "metadata": {
    "scrolled": false
   },
   "outputs": [
    {
     "data": {
      "image/png": "[encoded data removed]",
      "text/plain": [
       "<Figure size 432x288 with 1 Axes>"
      ]
     },
     "metadata": {
      "needs_background": "light"
     },
     "output_type": "display_data"
    }
   ],
   "source": [
    "plot_graphs(history, 'loss')"
   ]
  },
  {
   "cell_type": "markdown",
   "metadata": {},
   "source": [
    "# Quora Simliarity TEST"
   ]
  },
  {
   "cell_type": "code",
   "execution_count": 41,
   "metadata": {
    "scrolled": true
   },
   "outputs": [],
   "source": [
    "# Load Test dataset\n",
    "TEST_XNLI_DF = os.path.join(DATA_IN_PATH, 'KorNLI', 'xnli.test.ko.tsv')\n",
    "\n",
    "test_data_xnli = pd.read_csv(TEST_XNLI_DF, header=0, delimiter = '\\t', quoting = 3)"
   ]
  },
  {
   "cell_type": "code",
   "execution_count": 43,
   "metadata": {},
   "outputs": [],
   "source": [
    "# test_data_xnli = test_data_xnli[:50] # for test\n",
    "\n",
    "test_data_sent_1 = list()\n",
    "test_data_sent_2 = list()\n",
    "\n",
    "for test_sent_1, test_sent_2 in zip(test_data_xnli['sentence1'], test_data_xnli['sentence2']):\n",
    "    test_data_sent_1.append(vocab[tokenizer(clean_text(test_sent_1))])\n",
    "    test_data_sent_2.append(vocab[tokenizer(clean_text(test_sent_2))])\n",
    "\n",
    "test_data_sent_1 = pad_sequences(test_data_sent_1, MAX_LEN // 2, value=vocab[vocab.padding_token])#, padding='post')\n",
    "test_data_sent_2 = pad_sequences(test_data_sent_2, MAX_LEN // 2, value=vocab[vocab.padding_token])#, padding='post')\n",
    "\n",
    "bos_tokens = np.asarray([[vocab[vocab.bos_token]]] * test_data_sent_1.shape[0], dtype=np.int64)\n",
    "eos_tokens = np.asarray([[vocab[vocab.eos_token]]] * test_data_sent_1.shape[0], dtype=np.int64)\n",
    "sep_tokens = np.asarray([[vocab[vocab.sep_token]]] * test_data_sent_1.shape[0], dtype=np.int64)\n",
    "cls_tokens = np.asarray([[vocab[vocab.cls_token]]] * test_data_sent_1.shape[0], dtype=np.int64)\n",
    "\n",
    "test_data_sents = np.concatenate((bos_tokens, test_data_sent_1, eos_tokens, sep_tokens, \n",
    "                                   bos_tokens, test_data_sent_2, eos_tokens, cls_tokens), axis=-1)\n",
    "\n",
    "test_data_sents = np.array(test_data_sents, dtype=np.int64)"
   ]
  },
  {
   "cell_type": "code",
   "execution_count": 44,
   "metadata": {},
   "outputs": [
    {
     "name": "stdout",
     "output_type": "stream",
     "text": [
      "# sents: 5010, # labels: 5010\n"
     ]
    }
   ],
   "source": [
    "test_data_xnli[\"gold_label_int\"] = test_data_xnli[\"gold_label\"].apply(convert_int)\n",
    "test_data_labels = np.array(test_data_xnli['gold_label_int'], dtype=int)\n",
    "\n",
    "print(\"# sents: {}, # labels: {}\".format(len(test_data_sents), len(test_data_labels)))"
   ]
  },
  {
   "cell_type": "code",
   "execution_count": 45,
   "metadata": {},
   "outputs": [
    {
     "name": "stdout",
     "output_type": "stream",
     "text": [
      "5010/5010 [==============================] - 11s 2ms/sample - loss: 0.7918 - accuracy: 0.7613\n",
      "test loss, test acc:  [0.7918447279406641, 0.76127744]\n"
     ]
    }
   ],
   "source": [
    "results = sim_model.evaluate(test_data_sents, test_data_labels)\n",
    "print(\"test loss, test acc: \", results)"
   ]
  },
  {
   "cell_type": "markdown",
   "metadata": {},
   "source": [
    "# Valid 0.1 Set으로 진행"
   ]
  },
  {
   "cell_type": "code",
   "execution_count": 48,
   "metadata": {},
   "outputs": [
    {
     "data": {
      "image/png": "[encoded data removed]",
      "text/plain": [
       "<Figure size 432x288 with 1 Axes>"
      ]
     },
     "metadata": {
      "needs_background": "light"
     },
     "output_type": "display_data"
    }
   ],
   "source": [
    "plot_graphs(history, 'accuracy')"
   ]
  },
  {
   "cell_type": "code",
   "execution_count": 49,
   "metadata": {},
   "outputs": [
    {
     "data": {
      "image/png": "[encoded data removed]",
      "text/plain": [
       "<Figure size 432x288 with 1 Axes>"
      ]
     },
     "metadata": {
      "needs_background": "light"
     },
     "output_type": "display_data"
    }
   ],
   "source": [
    "plot_graphs(history, 'loss')"
   ]
  },
  {
   "cell_type": "code",
   "execution_count": 47,
   "metadata": {},
   "outputs": [
    {
     "name": "stdout",
     "output_type": "stream",
     "text": [
      "5010/5010 [==============================] - 11s 2ms/sample - loss: 0.9831 - accuracy: 0.7591\n",
      "test loss, test acc:  [0.9831202033988968, 0.75908184]\n"
     ]
    }
   ],
   "source": [
    "results = sim_model.evaluate(test_data_sents, test_data_labels)\n",
    "print(\"test loss, test acc: \", results)"
   ]
  }
 ],
 "metadata": {
  "kernelspec": {
   "display_name": "Python 3",
   "language": "python",
   "name": "python3"
  },
  "language_info": {
   "codemirror_mode": {
    "name": "ipython",
    "version": 3
   },
   "file_extension": ".py",
   "mimetype": "text/x-python",
   "name": "python",
   "nbconvert_exporter": "python",
   "pygments_lexer": "ipython3",
   "version": "3.6.7"
  }
 },
 "nbformat": 4,
 "nbformat_minor": 2
}
