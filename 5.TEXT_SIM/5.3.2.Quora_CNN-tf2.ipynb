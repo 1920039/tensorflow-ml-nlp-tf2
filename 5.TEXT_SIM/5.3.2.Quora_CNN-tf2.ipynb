{
 "cells": [
  {
   "cell_type": "code",
   "execution_count": 16,
   "metadata": {},
   "outputs": [],
   "source": [
    "import tensorflow as tf\n",
    "import pandas as pd\n",
    "import numpy as np\n",
    "\n",
    "from tqdm import tqdm\n",
    "import os\n",
    "from tensorflow.keras.callbacks import EarlyStopping\n",
    "\n",
    "import matplotlib.pyplot as plt\n",
    "\n",
    "from sklearn.model_selection import train_test_split\n",
    "\n",
    "import json"
   ]
  },
  {
   "cell_type": "markdown",
   "metadata": {},
   "source": [
    "# Parameter & Directory setup"
   ]
  },
  {
   "cell_type": "code",
   "execution_count": 17,
   "metadata": {},
   "outputs": [],
   "source": [
    "def plot_graphs(history, string):\n",
    "    plt.plot(history.history[string])\n",
    "    plt.plot(history.history['val_'+string], '')\n",
    "    plt.xlabel(\"Epochs\")\n",
    "    plt.ylabel(string)\n",
    "    plt.legend([string, 'val_'+string])\n",
    "    plt.show()"
   ]
  },
  {
   "cell_type": "code",
   "execution_count": 2,
   "metadata": {},
   "outputs": [],
   "source": [
    "DATA_IN_PATH = './data_in/'\n",
    "DATA_OUT_PATH = './data_out/'\n",
    "\n",
    "TRAIN_Q1_DATA_FILE = 'train_q1.npy'\n",
    "TRAIN_Q2_DATA_FILE = 'train_q2.npy'\n",
    "TRAIN_LABEL_DATA_FILE = 'train_label.npy'\n",
    "DATA_CONFIGS = 'data_configs.json'\n",
    "\n",
    "TEST_SPLIT = 0.1\n",
    "RNG_SEED = 13371447"
   ]
  },
  {
   "cell_type": "code",
   "execution_count": 3,
   "metadata": {},
   "outputs": [],
   "source": [
    "EPOCHS=10\n",
    "BATCH_SIZE=64\n",
    "\n",
    "MAX_SEQUENCE_LENGTH = 31\n",
    "\n",
    "WORD_EMBEDDING_DIM = 100\n",
    "CONV_FEATURE_DIM = 300\n",
    "CONV_OUTPUT_DIM = 128\n",
    "CONV_WINDOW_SIZE = 3\n",
    "SIMILARITY_DENSE_FEATURE_DIM = 200\n",
    "\n",
    "# BATCH_SIZE = 128\n",
    "# NUM_EPOCHS = 10\n",
    "VALID_SPLIT = 0.1\n",
    "\n",
    "prepro_configs = None\n",
    "\n",
    "with open(DATA_IN_PATH + DATA_CONFIGS, 'r') as f:\n",
    "    prepro_configs = json.load(f)\n",
    "    \n",
    "VOCAB_SIZE = prepro_configs['vocab_size']"
   ]
  },
  {
   "cell_type": "markdown",
   "metadata": {},
   "source": [
    "# Load Dataset"
   ]
  },
  {
   "cell_type": "code",
   "execution_count": 4,
   "metadata": {},
   "outputs": [],
   "source": [
    "q1_data = np.load(open(DATA_IN_PATH + TRAIN_Q1_DATA_FILE, 'rb'))\n",
    "q2_data = np.load(open(DATA_IN_PATH + TRAIN_Q2_DATA_FILE, 'rb'))\n",
    "labels = np.load(open(DATA_IN_PATH + TRAIN_LABEL_DATA_FILE, 'rb'))"
   ]
  },
  {
   "cell_type": "markdown",
   "metadata": {},
   "source": [
    "# Model setup"
   ]
  },
  {
   "cell_type": "code",
   "execution_count": 5,
   "metadata": {},
   "outputs": [],
   "source": [
    "class SentenceEmbedding(tf.keras.Model):\n",
    "    def __init__(self, conv_dims, output_dims, window_size, max_len, name='', dropout_rate=0.2):\n",
    "        super(SentenceEmbedding, self).__init__()\n",
    "        self.model = tf.keras.Sequential([\n",
    "            tf.keras.layers.Conv1D(CONV_FEATURE_DIM, CONV_WINDOW_SIZE, \n",
    "                                    activation=tf.nn.relu, \n",
    "                                    name=name + 'conv_1d',\n",
    "                                    padding='same'),\n",
    "            tf.keras.layers.MaxPool1D(MAX_SEQUENCE_LENGTH, 1),\n",
    "            tf.keras.layers.Dense(CONV_OUTPUT_DIM, activation=tf.nn.relu, name=name + 'dense'),\n",
    "        ])\n",
    "    def call(self, inputs):\n",
    "        outputs = self.model(inputs)\n",
    "        return tf.squeeze(outputs, 1)"
   ]
  },
  {
   "cell_type": "code",
   "execution_count": 6,
   "metadata": {},
   "outputs": [],
   "source": [
    "class SentenceSimilarityModel(tf.keras.Model):\n",
    "    def __init__(self, word_size, word_dims, hidden_dims, base_encoder, hypo_encoder, dropout_rate=0.2):\n",
    "        super(SentenceSimilarityModel, self).__init__()\n",
    "        \n",
    "        self.word_embedding = tf.keras.layers.Embedding(word_size, word_dims)\n",
    "        self.base_encoder = base_encoder\n",
    "        self.hypo_encoder = hypo_encoder\n",
    "        self.dense = tf.keras.layers.Dense(hidden_dims, activation=tf.nn.relu)\n",
    "        self.logit = tf.keras.layers.Dense(1, activation=tf.nn.sigmoid)\n",
    "        self.dropout = tf.keras.layers.Dropout(dropout_rate)\n",
    "        \n",
    "    def call(self, inputs):\n",
    "        base_embedded = self.word_embedding(inputs[0])\n",
    "        hypo_embedded = self.word_embedding(inputs[1])\n",
    "        base_embedded = self.dropout(base_embedded)\n",
    "        hypo_embedded = self.dropout(hypo_embedded)\n",
    "        \n",
    "        base_encoded = self.base_encoder(base_embedded)\n",
    "        hypo_encoded = self.hypo_encoder(hypo_embedded)\n",
    "        \n",
    "        encoded = tf.concat([base_encoded, hypo_encoded], -1)\n",
    "        sim_encoded = self.dense(encoded)\n",
    "        sim_encoded = self.dropout(sim_encoded)\n",
    "        \n",
    "        return self.logit(sim_encoded)"
   ]
  },
  {
   "cell_type": "code",
   "execution_count": 7,
   "metadata": {},
   "outputs": [],
   "source": [
    "base_encoder = SentenceEmbedding(CONV_FEATURE_DIM, CONV_OUTPUT_DIM, CONV_WINDOW_SIZE, MAX_SEQUENCE_LENGTH, name='base')\n",
    "hypo_encoder = SentenceEmbedding(CONV_FEATURE_DIM, CONV_OUTPUT_DIM, CONV_WINDOW_SIZE, MAX_SEQUENCE_LENGTH, name='hypo')\n",
    "similarity_model = SentenceSimilarityModel(VOCAB_SIZE, WORD_EMBEDDING_DIM, SIMILARITY_DENSE_FEATURE_DIM, \n",
    "                                           base_encoder, hypo_encoder)"
   ]
  },
  {
   "cell_type": "code",
   "execution_count": 8,
   "metadata": {},
   "outputs": [],
   "source": [
    "base = tf.keras.Input([MAX_SEQUENCE_LENGTH])\n",
    "hypothesis = tf.keras.Input([MAX_SEQUENCE_LENGTH])\n",
    "\n",
    "similarity = similarity_model([base, hypothesis])\n",
    "model = tf.keras.Model([base, hypothesis], similarity)"
   ]
  },
  {
   "cell_type": "code",
   "execution_count": 9,
   "metadata": {},
   "outputs": [
    {
     "name": "stdout",
     "output_type": "stream",
     "text": [
      "Model: \"model\"\n",
      "__________________________________________________________________________________________________\n",
      "Layer (type)                    Output Shape         Param #     Connected to                     \n",
      "==================================================================================================\n",
      "input_1 (InputLayer)            [(None, 31)]         0                                            \n",
      "__________________________________________________________________________________________________\n",
      "input_2 (InputLayer)            [(None, 31)]         0                                            \n",
      "__________________________________________________________________________________________________\n",
      "sentence_similarity_model (Sent (None, 1)            7963857     input_1[0][0]                    \n",
      "                                                                 input_2[0][0]                    \n",
      "==================================================================================================\n",
      "Total params: 7,963,857\n",
      "Trainable params: 7,963,857\n",
      "Non-trainable params: 0\n",
      "__________________________________________________________________________________________________\n",
      "None\n"
     ]
    }
   ],
   "source": [
    "model.compile(loss='binary_crossentropy',\n",
    "              optimizer=tf.keras.optimizers.Adam(1e-4),\n",
    "              metrics=['accuracy'])\n",
    "print(model.summary())"
   ]
  },
  {
   "cell_type": "markdown",
   "metadata": {},
   "source": [
    "## 모델 학습 및 평가"
   ]
  },
  {
   "cell_type": "code",
   "execution_count": 10,
   "metadata": {},
   "outputs": [
    {
     "name": "stdout",
     "output_type": "stream",
     "text": [
      "Train on 268673 samples, validate on 29853 samples\n",
      "Epoch 1/10\n",
      "268673/268673 [==============================] - 342s 1ms/sample - loss: 0.5623 - accuracy: 0.7069 - val_loss: 0.5772 - val_accuracy: 0.6824\n",
      "Epoch 2/10\n",
      "268673/268673 [==============================] - 336s 1ms/sample - loss: 0.4820 - accuracy: 0.7700 - val_loss: 0.5036 - val_accuracy: 0.7471\n",
      "Epoch 3/10\n",
      "268673/268673 [==============================] - 336s 1ms/sample - loss: 0.4307 - accuracy: 0.8014 - val_loss: 0.4983 - val_accuracy: 0.7537\n",
      "Epoch 4/10\n",
      "268673/268673 [==============================] - 339s 1ms/sample - loss: 0.3752 - accuracy: 0.8316 - val_loss: 0.6568 - val_accuracy: 0.6769\n"
     ]
    }
   ],
   "source": [
    "# overfitting을 막기 위한 ealrystop 추가\n",
    "earlystop_callback = EarlyStopping(monitor='val_accuracy', min_delta=0.0001,patience=1)\n",
    "# min_delta: the threshold that triggers the termination (acc should at least improve 0.0001)\n",
    "# patience: no improvment epochs (patience = 1, 1번 이상 상승이 없으면 종료)\n",
    "\n",
    "history = model.fit([q1_data, q2_data], labels, batch_size=BATCH_SIZE, epochs=EPOCHS,\n",
    "                    validation_split=VALID_SPLIT, callbacks=[earlystop_callback])"
   ]
  },
  {
   "cell_type": "code",
   "execution_count": 18,
   "metadata": {},
   "outputs": [
    {
     "data": {
      "image/png": "[encoded data removed]",
      "text/plain": [
       "<Figure size 432x288 with 1 Axes>"
      ]
     },
     "metadata": {
      "needs_background": "light"
     },
     "output_type": "display_data"
    }
   ],
   "source": [
    "plot_graphs(history, 'accuracy')"
   ]
  },
  {
   "cell_type": "code",
   "execution_count": 19,
   "metadata": {},
   "outputs": [
    {
     "data": {
      "image/png": "[encoded data removed]",
      "text/plain": [
       "<Figure size 432x288 with 1 Axes>"
      ]
     },
     "metadata": {
      "needs_background": "light"
     },
     "output_type": "display_data"
    }
   ],
   "source": [
    "plot_graphs(history, 'loss')"
   ]
  },
  {
   "cell_type": "markdown",
   "metadata": {},
   "source": [
    "## 캐글 데이터셋 준비 및 제출"
   ]
  },
  {
   "cell_type": "code",
   "execution_count": 11,
   "metadata": {},
   "outputs": [],
   "source": [
    "TEST_Q1_DATA_FILE = 'test_q1.npy'\n",
    "TEST_Q2_DATA_FILE = 'test_q2.npy'\n",
    "TEST_ID_DATA_FILE = 'test_id.npy'\n",
    "\n",
    "test_q1_data = np.load(open(DATA_IN_PATH + TEST_Q1_DATA_FILE, 'rb'))\n",
    "test_q2_data = np.load(open(DATA_IN_PATH + TEST_Q2_DATA_FILE, 'rb'))\n",
    "test_id_data = np.load(open(DATA_IN_PATH + TEST_ID_DATA_FILE, 'rb'), allow_pickle=True)"
   ]
  },
  {
   "cell_type": "code",
   "execution_count": 12,
   "metadata": {},
   "outputs": [
    {
     "name": "stderr",
     "output_type": "stream",
     "text": [
      "100%|██████████| 4692/4692 [04:08<00:00, 18.89it/s]\n"
     ]
    }
   ],
   "source": [
    "BLOCK_SIZE = 500\n",
    "\n",
    "predictions = [model([test_q1_data[i*BLOCK_SIZE:i*BLOCK_SIZE+BLOCK_SIZE], \\\n",
    "                      test_q2_data[i*BLOCK_SIZE:i*BLOCK_SIZE+BLOCK_SIZE]]).numpy() \\\n",
    "               for i in tqdm(range(test_q1_data.shape[0] // BLOCK_SIZE + 1))]"
   ]
  },
  {
   "cell_type": "code",
   "execution_count": 13,
   "metadata": {},
   "outputs": [],
   "source": [
    "predictions = np.concatenate(predictions, axis=-2).squeeze(-1)"
   ]
  },
  {
   "cell_type": "code",
   "execution_count": 14,
   "metadata": {},
   "outputs": [],
   "source": [
    "output = pd.DataFrame( data={\"test_id\":test_id_data, \"is_duplicate\": list(predictions)} )\n",
    "output.to_csv(\"cnn_predict.csv\", index=False, quoting=3)"
   ]
  },
  {
   "cell_type": "markdown",
   "metadata": {},
   "source": [
    "![alt text](images/cnn_result.png \"Title\") "
   ]
  }
 ],
 "metadata": {
  "kernelspec": {
   "display_name": "Python 3",
   "language": "python",
   "name": "python3"
  },
  "language_info": {
   "codemirror_mode": {
    "name": "ipython",
    "version": 3
   },
   "file_extension": ".py",
   "mimetype": "text/x-python",
   "name": "python",
   "nbconvert_exporter": "python",
   "pygments_lexer": "ipython3",
   "version": "3.6.8"
  }
 },
 "nbformat": 4,
 "nbformat_minor": 2
}
